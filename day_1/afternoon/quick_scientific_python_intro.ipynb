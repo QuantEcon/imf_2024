{
 "cells": [
  {
   "cell_type": "markdown",
   "id": "f45f203e-7ebc-4b1f-9196-15d963499688",
   "metadata": {},
   "source": [
    "# Quick scientific Python introduction\n",
    "\n",
    "This notebook does a \"whirlwind tour\" of the functionality that the scientific Python stack exposes.\n"
   ]
  },
  {
   "cell_type": "markdown",
   "id": "f0fe7a0a-6165-473d-a105-e738d84dfc3c",
   "metadata": {},
   "source": [
    "## Numpy"
   ]
  },
  {
   "cell_type": "code",
   "execution_count": 3,
   "id": "5bdc0ad5-798b-4cc1-9d71-098165f129d4",
   "metadata": {},
   "outputs": [],
   "source": [
    "import numpy as np"
   ]
  },
  {
   "cell_type": "markdown",
   "id": "a01bc816-0b77-4cd0-82c7-31144460bbbc",
   "metadata": {},
   "source": [
    "`numpy` is one of the core scientific libraries used in Python.\n",
    "\n",
    "The main object that it introduces is an \"array\" type. This array type allows for users to represent vectors, matrices, and higher dimensional arrays.\n",
    "\n",
    "Below we create a 1-dimensional, 2-dimensional, and 3-dimensional array."
   ]
  },
  {
   "cell_type": "code",
   "execution_count": 5,
   "id": "c6f6b219-308a-4b3c-a9b7-a19930f15ea4",
   "metadata": {},
   "outputs": [],
   "source": [
    "x = np.array([0.0, 1.0, 2.0])\n",
    "y = np.array([[0.0, 1.0], [2.0, 3.0], [4.0, 5.0]])\n",
    "z = np.array([\n",
    "    [[0.0, 1.0], [2.0, 3.0], [4.0, 5.0]],\n",
    "    [[6.0, 7.0], [8.0, 9.0], [10.0, 11.0]],\n",
    "    [[12.0, 13.0], [14.0, 15.0], [16.0, 17.0]],\n",
    "    [[18.0, 19.0], [20.0, 21.0], [22.0, 23.0]]\n",
    "])"
   ]
  },
  {
   "cell_type": "markdown",
   "id": "c30b33a8-0330-4c24-923b-ecf754c93444",
   "metadata": {},
   "source": [
    "### Shapes of arrays\n",
    "\n",
    "As we create and manipulate arrays, we will often be interested in \"what shape is our current array\" and \"what shape do we need this array to be\".\n",
    "\n",
    "**1-dimensional**\n",
    "\n",
    "In the code above, we created `x` by doing\n",
    "\n",
    "```python\n",
    "x = np.array([0.0, 1.0, 2.0])\n",
    "```\n",
    "\n",
    "If we asked for `len([0.0, 1.0, 2.0])` we would have seen 3 -- The 1-dimensional array in our example was size 3.\n",
    "\n",
    "**2-dimensional**\n",
    "\n",
    "In the code, above we created `y` by doing\n",
    "\n",
    "```python\n",
    "y = np.array([[0.0, 1.0], [2.0, 3.0], [4.0, 5.0]])\n",
    "```\n",
    "\n",
    "Again, if we asked for `len([[0.0, 1.0], [2.0, 3.0], [4.0, 5.0]])`, we would have received 3.\n",
    "\n",
    "But now, there's an additional list inside! The `len([[0.0, 1.0], [2.0, 3.0], [4.0, 5.0]][0])` would be `len([0.0, 1.0])` which is 2.\n",
    "\n",
    "Thus our array is size 3 x 2.\n",
    "\n",
    "The sizes correspond to the length of the lists creating them -- The inner-most dimension size is the outer-most length.\n",
    "\n",
    "**3-dimensional**\n",
    "\n",
    "Your turn! What size do you think `z` is?"
   ]
  },
  {
   "cell_type": "code",
   "execution_count": null,
   "id": "f8b81a90-71a0-4fd7-a6a7-faee32f5ea8e",
   "metadata": {},
   "outputs": [],
   "source": []
  },
  {
   "cell_type": "markdown",
   "id": "91bb90f6-592f-4e69-9ffb-68e5255cb0a5",
   "metadata": {},
   "source": [
    "Hint: You can check your answer by doing `z.shape`"
   ]
  },
  {
   "cell_type": "markdown",
   "id": "f354cc7b-de80-4d71-bf06-83ebd9b979e2",
   "metadata": {},
   "source": [
    "**Indexing**"
   ]
  },
  {
   "cell_type": "markdown",
   "id": "83c06a2a-d4be-4c47-bb0a-5a7db7ae7dc3",
   "metadata": {},
   "source": [
    "We can select elements out of the array by indexing into the arrays"
   ]
  },
  {
   "cell_type": "code",
   "execution_count": 8,
   "id": "f8db7822-e1df-4421-b312-9330a1efe25d",
   "metadata": {},
   "outputs": [
    {
     "data": {
      "text/plain": [
       "0.0"
      ]
     },
     "execution_count": 8,
     "metadata": {},
     "output_type": "execute_result"
    }
   ],
   "source": [
    "# Python indexing starts at 0\n",
    "x[0]"
   ]
  },
  {
   "cell_type": "code",
   "execution_count": 9,
   "id": "af6f3dad-e478-4d6f-beb5-e06e185cbd54",
   "metadata": {},
   "outputs": [
    {
     "data": {
      "text/plain": [
       "array([1., 3., 5.])"
      ]
     },
     "execution_count": 9,
     "metadata": {},
     "output_type": "execute_result"
    }
   ],
   "source": [
    "# Can select all of a particular dimension by using :\n",
    "y[:, 1]"
   ]
  },
  {
   "cell_type": "code",
   "execution_count": 11,
   "id": "eb8d65ff-9f77-4e56-9603-7d9a215fbef0",
   "metadata": {},
   "outputs": [
    {
     "data": {
      "text/plain": [
       "array([[ 2.,  4.],\n",
       "       [ 8., 10.],\n",
       "       [14., 16.],\n",
       "       [20., 22.]])"
      ]
     },
     "execution_count": 11,
     "metadata": {},
     "output_type": "execute_result"
    }
   ],
   "source": [
    "# One index argument per dimension\n",
    "z[:, 1:3, 0]"
   ]
  },
  {
   "cell_type": "markdown",
   "id": "33910539-a27b-4b1e-84d3-4a0a6aaa2433",
   "metadata": {},
   "source": [
    "### Special array creation methods"
   ]
  },
  {
   "cell_type": "markdown",
   "id": "c9b677b2-59a4-4107-ada9-01d3008a7a61",
   "metadata": {},
   "source": [
    "**Create an empty array**"
   ]
  },
  {
   "cell_type": "code",
   "execution_count": 14,
   "id": "2b06a674-09c4-45df-b302-1b60cda223c5",
   "metadata": {},
   "outputs": [
    {
     "data": {
      "text/plain": [
       "array([[4.72941232e-310, 0.00000000e+000],\n",
       "       [0.00000000e+000, 0.00000000e+000],\n",
       "       [6.56290858e-310, 1.61900097e-051],\n",
       "       [3.27042818e+179, 5.45006386e-090],\n",
       "       [2.51563590e+180, 6.56295119e-310]])"
      ]
     },
     "execution_count": 14,
     "metadata": {},
     "output_type": "execute_result"
    }
   ],
   "source": [
    "np.empty((5, 2))"
   ]
  },
  {
   "cell_type": "markdown",
   "id": "c0004f95-427d-4863-8ee4-f911b1066d55",
   "metadata": {},
   "source": [
    "**Create an array filled with zeros**"
   ]
  },
  {
   "cell_type": "code",
   "execution_count": 15,
   "id": "d487a33b-09e2-4978-81a5-b0bc430a5a7e",
   "metadata": {},
   "outputs": [
    {
     "data": {
      "text/plain": [
       "array([0., 0., 0., 0., 0., 0., 0., 0., 0., 0.])"
      ]
     },
     "execution_count": 15,
     "metadata": {},
     "output_type": "execute_result"
    }
   ],
   "source": [
    "np.zeros(10)"
   ]
  },
  {
   "cell_type": "markdown",
   "id": "2fba0a94-bf31-4e10-bd36-f6e64408d815",
   "metadata": {},
   "source": [
    "**Create an array filled with ones**"
   ]
  },
  {
   "cell_type": "code",
   "execution_count": 17,
   "id": "2c9c2cd5-8566-468e-8086-c15f8b839200",
   "metadata": {},
   "outputs": [
    {
     "data": {
      "text/plain": [
       "array([[1., 1., 1., 1., 1.],\n",
       "       [1., 1., 1., 1., 1.]])"
      ]
     },
     "execution_count": 17,
     "metadata": {},
     "output_type": "execute_result"
    }
   ],
   "source": [
    "np.ones((2, 5))"
   ]
  },
  {
   "cell_type": "markdown",
   "id": "9f14ff74-4b2f-4c56-a081-ed49b91e6231",
   "metadata": {},
   "source": [
    "**Create a vector filled with numbers from i to n**"
   ]
  },
  {
   "cell_type": "code",
   "execution_count": 18,
   "id": "3633380d-bd4a-4eab-958a-d10b019827ad",
   "metadata": {},
   "outputs": [
    {
     "data": {
      "text/plain": [
       "array([1, 2, 3, 4, 5, 6])"
      ]
     },
     "execution_count": 18,
     "metadata": {},
     "output_type": "execute_result"
    }
   ],
   "source": [
    "np.arange(1, 7)"
   ]
  },
  {
   "cell_type": "markdown",
   "id": "b7fb28d7-bb6f-4bba-bf00-edff6c1afd69",
   "metadata": {},
   "source": [
    "**Create a vector filled with n evenly spaced numbers from x to z**"
   ]
  },
  {
   "cell_type": "code",
   "execution_count": 23,
   "id": "54eca0f2-9604-4237-94e7-35c187a875c3",
   "metadata": {},
   "outputs": [
    {
     "data": {
      "text/plain": [
       "array([0. , 0.5, 1. , 1.5, 2. , 2.5, 3. , 3.5, 4. , 4.5, 5. ])"
      ]
     },
     "execution_count": 23,
     "metadata": {},
     "output_type": "execute_result"
    }
   ],
   "source": [
    "np.linspace(0, 5, 11)"
   ]
  },
  {
   "cell_type": "markdown",
   "id": "741fa522-38e7-4f51-a9ed-4fe1f23e6910",
   "metadata": {},
   "source": [
    "**Create a vector filled with U(0, 1)**"
   ]
  },
  {
   "cell_type": "code",
   "execution_count": 25,
   "id": "ad7a55da-a9cf-41d3-9156-fae62a7cf266",
   "metadata": {},
   "outputs": [
    {
     "data": {
      "text/plain": [
       "array([[0.29644541, 0.22748884, 0.61203776],\n",
       "       [0.40171583, 0.310857  , 0.5147153 ]])"
      ]
     },
     "execution_count": 25,
     "metadata": {},
     "output_type": "execute_result"
    }
   ],
   "source": [
    "np.random.rand(2, 3)"
   ]
  },
  {
   "cell_type": "markdown",
   "id": "317edd65-7a30-43ba-afb1-1f8dad37a2cb",
   "metadata": {},
   "source": [
    "**Create a vector filled with N(0, 1)**"
   ]
  },
  {
   "cell_type": "code",
   "execution_count": 27,
   "id": "bd866446-2d0d-4026-8f48-eacccd9b0ee8",
   "metadata": {},
   "outputs": [
    {
     "data": {
      "text/plain": [
       "array([[[-0.46765354, -0.81274839, -0.96405956],\n",
       "        [ 0.76608746, -0.32705555, -0.00127782]],\n",
       "\n",
       "       [[-0.45388651, -1.1714269 ,  0.70465237],\n",
       "        [-1.03042092, -0.74393472, -0.83350862]]])"
      ]
     },
     "execution_count": 27,
     "metadata": {},
     "output_type": "execute_result"
    }
   ],
   "source": [
    "np.random.randn(2, 2, 3)"
   ]
  },
  {
   "cell_type": "markdown",
   "id": "565f2ec1-3039-4552-80d5-32c7f78e4279",
   "metadata": {},
   "source": [
    "### Broadcasting\n",
    "\n",
    "You often will need to add scalars or other arrays to arrays. We call this broadcasting."
   ]
  },
  {
   "cell_type": "markdown",
   "id": "bcd8420a-a28e-4729-a9c6-27d20ab59e61",
   "metadata": {},
   "source": [
    "**Operations between scalars and arrays**\n",
    "\n",
    "These operations do mostly what you would expect -- They apply the scalar operation to each individual element of the array.\n",
    "\n",
    "For example `z = x + 1` returns a new array, `z`, where `z_i = x_i + 1`"
   ]
  },
  {
   "cell_type": "code",
   "execution_count": 29,
   "id": "2fa6cf16-4176-4673-b362-fb79dba36053",
   "metadata": {},
   "outputs": [
    {
     "data": {
      "text/plain": [
       "array([0., 1., 2.])"
      ]
     },
     "execution_count": 29,
     "metadata": {},
     "output_type": "execute_result"
    }
   ],
   "source": [
    "x"
   ]
  },
  {
   "cell_type": "code",
   "execution_count": 30,
   "id": "afbf4d8c-efb1-4bd8-9192-ac87b503af80",
   "metadata": {},
   "outputs": [
    {
     "data": {
      "text/plain": [
       "array([1., 2., 3.])"
      ]
     },
     "execution_count": 30,
     "metadata": {},
     "output_type": "execute_result"
    }
   ],
   "source": [
    "x + 1"
   ]
  },
  {
   "cell_type": "code",
   "execution_count": 31,
   "id": "e9fced98-f1d1-4d24-b9c7-54d1854e5a70",
   "metadata": {},
   "outputs": [
    {
     "data": {
      "text/plain": [
       "array([0., 3., 6.])"
      ]
     },
     "execution_count": 31,
     "metadata": {},
     "output_type": "execute_result"
    }
   ],
   "source": [
    "x * 3"
   ]
  },
  {
   "cell_type": "code",
   "execution_count": 32,
   "id": "37065514-7998-4fec-bd88-c456424e0cd2",
   "metadata": {},
   "outputs": [
    {
     "data": {
      "text/plain": [
       "array([-3., -2., -1.])"
      ]
     },
     "execution_count": 32,
     "metadata": {},
     "output_type": "execute_result"
    }
   ],
   "source": [
    "x - 3"
   ]
  },
  {
   "cell_type": "markdown",
   "id": "d47f42d6-2d16-41b7-9319-4137c3e634ec",
   "metadata": {},
   "source": [
    "**Operations between two arrays of the same size**\n",
    "\n",
    "Most operations do elementwise computation when you do operations on two arrays of the same size."
   ]
  },
  {
   "cell_type": "code",
   "execution_count": 37,
   "id": "0e33b4d8-e00e-41aa-945f-34ed0f9caa70",
   "metadata": {},
   "outputs": [
    {
     "data": {
      "text/plain": [
       "array([1., 2., 3.])"
      ]
     },
     "execution_count": 37,
     "metadata": {},
     "output_type": "execute_result"
    }
   ],
   "source": [
    "# Elementwise addition\n",
    "np.ones_like(x) + x"
   ]
  },
  {
   "cell_type": "code",
   "execution_count": 40,
   "id": "23035871-77fb-4b2c-bb73-6fa7bdd09007",
   "metadata": {},
   "outputs": [
    {
     "data": {
      "text/plain": [
       "array([[[0., 0.],\n",
       "        [0., 0.],\n",
       "        [0., 0.]],\n",
       "\n",
       "       [[0., 0.],\n",
       "        [0., 0.],\n",
       "        [0., 0.]],\n",
       "\n",
       "       [[0., 0.],\n",
       "        [0., 0.],\n",
       "        [0., 0.]],\n",
       "\n",
       "       [[0., 0.],\n",
       "        [0., 0.],\n",
       "        [0., 0.]]])"
      ]
     },
     "execution_count": 40,
     "metadata": {},
     "output_type": "execute_result"
    }
   ],
   "source": [
    "# Elementwise multiplication\n",
    "np.zeros_like(z) * z"
   ]
  },
  {
   "cell_type": "code",
   "execution_count": 41,
   "id": "b5ac4c8d-e585-4034-a056-915b436ee8c7",
   "metadata": {},
   "outputs": [
    {
     "data": {
      "text/plain": [
       "3.0"
      ]
     },
     "execution_count": 41,
     "metadata": {},
     "output_type": "execute_result"
    }
   ],
   "source": [
    "# Dot product -- Generally will try matrix multiplication\n",
    "# but for two vectors, this will just do the dot product\n",
    "np.ones_like(x) @ x"
   ]
  },
  {
   "cell_type": "markdown",
   "id": "d515405d-076a-434f-a6ca-2f610dcca2be",
   "metadata": {},
   "source": [
    "**Operations between two arrays of different sizes**\n",
    "\n",
    "You should be more careful if you are working with arrays of different sizes:\n",
    "\n",
    "* Let `x = N x 1` and `y = N x M`) -> Then `x ? y` applies the function as if it were applying it to each column. For example, `z = x + y` gives you `z.shape => N x M` where `z[i, j] = x[i] + y[i, j]` (generalizes to higher dimensions...).\n",
    "* Let `x = N x M` and `y = M x P` then `x @ y` does matrix multiplication"
   ]
  },
  {
   "cell_type": "code",
   "execution_count": 36,
   "id": "fdbeb8f7-1fd2-4108-8f08-07032f1649f3",
   "metadata": {},
   "outputs": [
    {
     "data": {
      "text/plain": [
       "array([[0., 1.],\n",
       "       [3., 4.],\n",
       "       [6., 7.]])"
      ]
     },
     "execution_count": 36,
     "metadata": {},
     "output_type": "execute_result"
    }
   ],
   "source": [
    "# x[:, None] is a fancy way to convert a vector into an Nx1 array\n",
    "x[:, None] + y"
   ]
  },
  {
   "cell_type": "code",
   "execution_count": 45,
   "id": "3c322090-4af7-48da-bd93-68fd5dc550d9",
   "metadata": {},
   "outputs": [
    {
     "data": {
      "text/plain": [
       "array([[ 1.,  3.,  5.],\n",
       "       [ 3., 13., 23.],\n",
       "       [ 5., 23., 41.]])"
      ]
     },
     "execution_count": 45,
     "metadata": {},
     "output_type": "execute_result"
    }
   ],
   "source": [
    "# Matrix multiplication\n",
    "y @ y.T"
   ]
  },
  {
   "cell_type": "markdown",
   "id": "a49c5ddb-096a-40b7-93c9-410265fbf726",
   "metadata": {},
   "source": [
    "### Numpy array functions\n",
    "\n",
    "We are often interested in computing various functions of a single array -- Something like `sum` or `mean`.\n",
    "\n",
    "`numpy` has many array functions built in. Many of these functions are something known as a \"reduction\" -- This just means it takes many inputs and returns a single output (think about what computing the mean does). Reductions can often be applied either to the entire array or to a single axis. If you apply it to a single axis, that axis will get collapsed into a single value.\n",
    "\n",
    "Here we demonstrate a few of the most common array functions and some reductions:"
   ]
  },
  {
   "cell_type": "code",
   "execution_count": 48,
   "id": "7bc9cc97-788e-46cb-9817-3b31d88c1f6c",
   "metadata": {},
   "outputs": [
    {
     "data": {
      "text/plain": [
       "array([0., 1., 3.])"
      ]
     },
     "execution_count": 48,
     "metadata": {},
     "output_type": "execute_result"
    }
   ],
   "source": [
    "# Cumulative sum\n",
    "np.cumsum(x)"
   ]
  },
  {
   "cell_type": "code",
   "execution_count": 53,
   "id": "d488aef5-0e91-4b2a-a642-454569269404",
   "metadata": {},
   "outputs": [
    {
     "data": {
      "text/plain": [
       "array([1., 1.])"
      ]
     },
     "execution_count": 53,
     "metadata": {},
     "output_type": "execute_result"
    }
   ],
   "source": [
    "# One element differences\n",
    "np.diff(x)"
   ]
  },
  {
   "cell_type": "code",
   "execution_count": 49,
   "id": "c1b2a047-0452-4403-80cd-31af8e337383",
   "metadata": {},
   "outputs": [
    {
     "data": {
      "text/plain": [
       "1.0"
      ]
     },
     "execution_count": 49,
     "metadata": {},
     "output_type": "execute_result"
    }
   ],
   "source": [
    "# Mean (vector)\n",
    "np.mean(x)"
   ]
  },
  {
   "cell_type": "code",
   "execution_count": 50,
   "id": "405874e8-dd8e-4bcc-b4f4-3ab0e7c196a3",
   "metadata": {},
   "outputs": [
    {
     "data": {
      "text/plain": [
       "2.5"
      ]
     },
     "execution_count": 50,
     "metadata": {},
     "output_type": "execute_result"
    }
   ],
   "source": [
    "# Mean (matrix)\n",
    "np.mean(y)"
   ]
  },
  {
   "cell_type": "code",
   "execution_count": 51,
   "id": "230a4fd6-f817-47ba-b291-c64b716c611e",
   "metadata": {},
   "outputs": [
    {
     "data": {
      "text/plain": [
       "array([2., 3.])"
      ]
     },
     "execution_count": 51,
     "metadata": {},
     "output_type": "execute_result"
    }
   ],
   "source": [
    "# Mean on a matrix but collapsing the rows\n",
    "# y is size (3, 2) and np.mean(y, axis=0) is size (2,)\n",
    "np.mean(y, axis=0)"
   ]
  },
  {
   "cell_type": "code",
   "execution_count": 52,
   "id": "acbe6355-eb65-4cd4-9dab-df215d09ad7a",
   "metadata": {},
   "outputs": [
    {
     "data": {
      "text/plain": [
       "array([[0.5, 0.5, 0.5],\n",
       "       [0.5, 0.5, 0.5],\n",
       "       [0.5, 0.5, 0.5],\n",
       "       [0.5, 0.5, 0.5]])"
      ]
     },
     "execution_count": 52,
     "metadata": {},
     "output_type": "execute_result"
    }
   ],
   "source": [
    "# Standard deviation on a 3 dimensional array collapsing on the\n",
    "# 3rd dimension\n",
    "np.std(z, axis=2)"
   ]
  },
  {
   "cell_type": "markdown",
   "id": "dafc75f1-5861-4cf8-b84c-096cfdef3c7f",
   "metadata": {},
   "source": [
    "### Universal functions\n",
    "\n",
    "One of the powerful tools that `numpy` opens to users is \"universal functions\" (ufuncs).\n",
    "\n",
    "These are functions that operate directly on n-dimensional arrays in an element-by-element fashion.\n",
    "\n",
    "Not only does this make it simple to apply a function to an entire array but, behind the scenes, there is a significant amount of optimization and multithreading happening. There are lots of ufuncs available to you in `numpy` -- Take a peek at [the documentation](https://docs.scipy.org/doc/numpy/reference/ufuncs.html?highlight=ufunc#available-ufuncs) for a list"
   ]
  },
  {
   "cell_type": "code",
   "execution_count": 46,
   "id": "d275c868-2d72-47d6-ae97-fb007032bd25",
   "metadata": {},
   "outputs": [
    {
     "data": {
      "text/plain": [
       "array([0.        , 0.84147098, 0.90929743])"
      ]
     },
     "execution_count": 46,
     "metadata": {},
     "output_type": "execute_result"
    }
   ],
   "source": [
    "# Computes sin(x) for each element of x\n",
    "np.sin(x)"
   ]
  },
  {
   "cell_type": "code",
   "execution_count": 47,
   "id": "5c403af9-a4ec-4129-b5b2-c9a40edc256b",
   "metadata": {},
   "outputs": [
    {
     "data": {
      "text/plain": [
       "array([1.        , 2.71828183, 7.3890561 ])"
      ]
     },
     "execution_count": 47,
     "metadata": {},
     "output_type": "execute_result"
    }
   ],
   "source": [
    "np.exp(x)"
   ]
  },
  {
   "cell_type": "markdown",
   "id": "392367ce-3c6b-4b66-af30-b2b58b405ee7",
   "metadata": {},
   "source": [
    "## Scipy"
   ]
  },
  {
   "cell_type": "markdown",
   "id": "d41db743-31a5-4c96-b0d5-6abf9acf70b3",
   "metadata": {},
   "source": [
    "### Interpolation"
   ]
  },
  {
   "cell_type": "markdown",
   "id": "ffdb9d83-c6c8-4744-96b7-b09932eaf472",
   "metadata": {},
   "source": [
    "### Linear algebra"
   ]
  },
  {
   "cell_type": "markdown",
   "id": "8170e30a-5a82-4fdd-99b0-d89947e6cff0",
   "metadata": {},
   "source": [
    "### Statistics"
   ]
  },
  {
   "cell_type": "markdown",
   "id": "9efb0896-02e3-4c3b-a8e1-96fc0522215c",
   "metadata": {},
   "source": [
    "## Matplotlib"
   ]
  },
  {
   "cell_type": "markdown",
   "id": "113c0e6d-7594-4f65-baa2-31ddcd322928",
   "metadata": {},
   "source": [
    "### Figure/Axis"
   ]
  },
  {
   "cell_type": "markdown",
   "id": "2864b536-6103-4374-baf8-572a599d2eea",
   "metadata": {},
   "source": [
    "### More"
   ]
  },
  {
   "cell_type": "markdown",
   "id": "9d26f962-5b5e-47ee-8ac9-2c1da17a14af",
   "metadata": {},
   "source": [
    "## Numba"
   ]
  }
 ],
 "metadata": {
  "kernelspec": {
   "display_name": "Python 3 (ipykernel)",
   "language": "python",
   "name": "python3"
  },
  "language_info": {
   "codemirror_mode": {
    "name": "ipython",
    "version": 3
   },
   "file_extension": ".py",
   "mimetype": "text/x-python",
   "name": "python",
   "nbconvert_exporter": "python",
   "pygments_lexer": "ipython3",
   "version": "3.11.4"
  }
 },
 "nbformat": 4,
 "nbformat_minor": 5
}
