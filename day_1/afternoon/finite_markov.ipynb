{
 "cells": [
  {
   "cell_type": "markdown",
   "id": "dccaf69e",
   "metadata": {},
   "source": [
    "# Finite Markov Chains\n",
    "\n",
    "\n",
    "## Topics\n",
    "\n",
    "- Definitions\n",
    "- Simulation\n",
    "- Marginal Distributions\n",
    "- Irreducibility and Aperiodicity\n",
    "- Stationary Distributions\n",
    "- Ergodicity\n",
    "- Computing Expectations\n",
    "\n",
    "\n",
    "\n",
    "## Overview\n",
    "\n",
    "Markov chains are one of the most useful classes of stochastic processes, being\n",
    "\n",
    "- simple, flexible and supported by many elegant theoretical results  \n",
    "- central to quantitative modeling \n",
    "\n",
    "In this lecture, we review some of the theory of Markov chains.\n",
    "\n",
    "We will also introduce some of the routines for working with Markov chains available in [QuantEcon.py](https://quantecon.org/quantecon-py/)."
   ]
  },
  {
   "cell_type": "code",
   "execution_count": 1,
   "id": "bdb97f4f",
   "metadata": {},
   "outputs": [],
   "source": [
    "#!pip install quantecon  # Uncomment if you need this install"
   ]
  },
  {
   "cell_type": "markdown",
   "id": "278e78d9",
   "metadata": {},
   "source": [
    "Let’s start with some imports:"
   ]
  },
  {
   "cell_type": "code",
   "execution_count": 84,
   "id": "8998c4b1",
   "metadata": {},
   "outputs": [],
   "source": [
    "import matplotlib.pyplot as plt\n",
    "import quantecon as qe\n",
    "import numpy as np\n",
    "import scipy as sp\n",
    "from mpl_toolkits.mplot3d import Axes3D\n",
    "import numba"
   ]
  },
  {
   "cell_type": "markdown",
   "id": "7a291aa1-a17a-4091-b4b5-143f011fb30d",
   "metadata": {},
   "source": [
    "## Definitions\n",
    "\n",
    "We recall some elementary definitions.\n",
    "\n",
    "\n",
    "### Stochastic Matrices\n",
    "\n",
    "\n",
    "A **stochastic matrix** (or **Markov matrix**)  is an $ n \\times n $ square matrix $ P $\n",
    "such that\n",
    "\n",
    "1. each element is nonnegative and  \n",
    "1. each row sums to one.\n",
    "\n",
    "\n",
    "Each row of $ P $ can be regarded as a probability mass function over $ n $ possible outcomes.\n",
    "\n",
    "It is simple to check that if $ P $ is a stochastic matrix, then so is the $ k $-th power $ P^k $ for all $ k \\in \\mathbb N $.\n",
    "\n",
    "\n",
    "### Markov Chains\n",
    "\n",
    "Let $ S $ be a finite set with $ n $ elements $ \\{x_1, \\ldots, x_n\\} $.\n",
    "\n",
    "We call $ S $ the **state space**.\n",
    "\n",
    "A **Markov chain** $ \\{X_t\\} $ on $ S $ is a sequence of random variables on $ S $ that have the **Markov property**.\n",
    "\n",
    "This means that, for any date $ t $ and any state $ y \\in S $,\n",
    "\n",
    "\n",
    "$$\n",
    "    \\mathbb P \\{ X_{t+1} = y  \\,|\\, X_t \\}\n",
    "    = \\mathbb P \\{ X_{t+1}  = y \\,|\\, X_t, X_{t-1}, \\ldots X_0\\} \n",
    "$$\n",
    "\n",
    "In other words, knowing the current state is enough to know probabilities for future states.\n",
    "\n",
    "In particular, the dynamics of a Markov chain are fully determined by the set of values\n",
    "\n",
    "$$\n",
    "    P(x, y) := \\mathbb P \\{ X_{t+1} = y \\,|\\, X_t = x \\}\n",
    "    \\qquad (x, y \\in S) \n",
    "$$\n",
    "\n",
    "We can view $ P $ as a stochastic matrix where\n",
    "\n",
    "$$\n",
    "P_{ij} = P(x_i, x_j)\n",
    "\\qquad 1 \\leq i, j \\leq n\n",
    "$$\n",
    "\n",
    "Going the other way, if we take a stochastic matrix $ P $, we can generate a Markov\n",
    "chain $ \\{X_t\\} $ as follows:\n",
    "\n",
    "- draw $ X_0 $ from a marginal distribution $ \\psi $  \n",
    "- for each $ t = 0, 1, \\ldots $, draw $ X_{t+1} $ from $ P(X_t,\\cdot) $  "
   ]
  },
  {
   "cell_type": "markdown",
   "id": "2cf987f1-81c7-4539-ab1d-712ffd273952",
   "metadata": {},
   "source": [
    "### Example 1\n",
    "\n",
    "Consider a worker who, at any given time $ t $, is either unemployed (state 0) or employed (state 1).\n",
    "\n",
    "Suppose that, over a one month period,\n",
    "\n",
    "1. An unemployed worker finds a job with probability $ \\alpha \\in (0, 1) $.  \n",
    "1. An employed worker loses her job and becomes unemployed with probability $ \\beta \\in (0, 1) $.  \n",
    "\n",
    "\n",
    "In terms of a Markov model, we have\n",
    "\n",
    "- $ S = \\{ 0, 1\\} $  \n",
    "- $ P(0, 1) = \\alpha $ and $ P(1, 0) = \\beta $  \n",
    "\n",
    "\n",
    "We can write out the transition probabilities in matrix form as\n",
    "\n",
    "$$\n",
    "P\n",
    "= \\left(\n",
    "\\begin{array}{cc}\n",
    "    1 - \\alpha & \\alpha \\\\\n",
    "    \\beta      & 1 - \\beta\n",
    "\\end{array}\n",
    "  \\right) \n",
    "$$\n",
    "\n",
    "Once we have the values $ \\alpha $ and $ \\beta $, we can address a range of questions, such as\n",
    "\n",
    "- What is the average duration of unemployment?  \n",
    "- Over the long-run, what fraction of time does a worker find herself unemployed?  \n",
    "\n",
    "We'll see how to do this below."
   ]
  },
  {
   "cell_type": "markdown",
   "id": "21d9d9c0-6a82-4bab-9f9d-011c5692959b",
   "metadata": {},
   "source": [
    "### Example 2\n",
    "\n",
    "From  US unemployment data, James Hamilton estimated the stochastic matrix\n",
    "\n",
    "$$\n",
    "P =\n",
    "\\left(\n",
    "  \\begin{array}{ccc}\n",
    "     0.971 & 0.029 & 0 \\\\\n",
    "     0.145 & 0.778 & 0.077 \\\\\n",
    "     0 & 0.508 & 0.492\n",
    "  \\end{array}\n",
    "\\right)\n",
    "$$\n",
    "\n",
    "where\n",
    "\n",
    "* the frequency is monthly  \n",
    "* the first state represents “normal growth”  \n",
    "* the second state represents “mild recession”  \n",
    "* the third state represents “severe recession”  \n",
    "\n",
    "For example, the matrix tells us that when the state is normal growth, the state will again be normal growth next month with probability 0.97.\n",
    "\n",
    "In general, large values on the main diagonal indicate persistence in $ \\{ X_t \\} $.\n",
    "\n",
    "This Markov process can also be represented as a directed graph, with edges labeled by transition probabilities\n",
    "\n",
    "![https://python.quantecon.org/_static/lecture_specific/finite_markov/hamilton_graph.png](https://python.quantecon.org/_static/lecture_specific/finite_markov/hamilton_graph.png)\n",
    "\n",
    "  \n",
    "\n",
    "## Simulation\n",
    "\n",
    "One natural way to study Markov chains is to simulate them.\n",
    "\n",
    "(The LLN tells us that to approximate the probability of event $ E $, we can simulate many times and count the fraction of times that $ E $ occurs).\n",
    "\n",
    "Let's start by writing our own routines for generating sample paths (Markov chains).\n",
    "\n",
    "(Later we'll use routines in [QuantEcon.py](http://quantecon.org/quantecon-py).)\n",
    "\n",
    "In these exercises, we’ll take the state space to be $ S = 0,\\ldots, n-1 $."
   ]
  },
  {
   "cell_type": "markdown",
   "id": "1bbf744f-4469-4ed4-89cf-4aa02319bdb2",
   "metadata": {},
   "source": [
    "### Rolling Our Own\n",
    "\n",
    "To simulate a Markov chain, we need its stochastic matrix $ P $ and a marginal probability distribution $ \\psi $  from which to  draw a realization of $ X_0 $.\n",
    "\n",
    "The Markov chain is then constructed as discussed above.  To repeat:\n",
    "\n",
    "1. At time $ t=0 $, draw a realization of  $ X_0 $  from $ \\psi $.  \n",
    "1. At each subsequent time $ t $, draw a realization of the new state $ X_{t+1} $ from $ P(X_t, \\cdot) $.  \n",
    "\n",
    "\n",
    "To implement this simulation procedure, we need a method for generating draws from a discrete distribution.\n",
    "\n",
    "For this task, we’ll use `random.draw` from [QuantEcon](http://quantecon.org/quantecon-py), which is accelerated by Numba and works as follows:"
   ]
  },
  {
   "cell_type": "code",
   "execution_count": 23,
   "id": "a1daf65e",
   "metadata": {},
   "outputs": [
    {
     "data": {
      "text/plain": [
       "array([0, 0, 0, 1, 0])"
      ]
     },
     "execution_count": 23,
     "metadata": {},
     "output_type": "execute_result"
    }
   ],
   "source": [
    "ψ = (0.3, 0.7)           # Probabilities over {0, 1}\n",
    "cdf = np.cumsum(ψ)       # Convert into cummulative distribution\n",
    "qe.random.draw(cdf, 5)   # Generate 5 independent draws from ψ"
   ]
  },
  {
   "cell_type": "markdown",
   "id": "6ec856d7",
   "metadata": {},
   "source": [
    "We’ll write our code as a function that accepts the following three arguments\n",
    "\n",
    "- A stochastic matrix `P`  \n",
    "- An initial state `init`  \n",
    "- A positive integer `sample_size` representing the length of the time series the function should return"
   ]
  },
  {
   "cell_type": "code",
   "execution_count": 24,
   "id": "4ec33e1c",
   "metadata": {},
   "outputs": [],
   "source": [
    "def mc_sample_path(P, ψ_0=None, sample_size=1_000):\n",
    "    \"\"\"\n",
    "    Generate a sample path of a finite state Markov chain with transition matrix\n",
    "    P and initial distribution ψ_0.\n",
    "\n",
    "\n",
    "    If ψ_0 is set to None then the initial draw will be uniform over the states.\n",
    "\n",
    "    \"\"\"\n",
    "\n",
    "    # Set up\n",
    "    P = np.asarray(P)\n",
    "    X = np.empty(sample_size, dtype=int)\n",
    "\n",
    "    # draw initial state, defaulting to 0\n",
    "    if ψ_0 is None:\n",
    "        X_0 = 0\n",
    "    else:\n",
    "        ψ_0 = np.cumsum(ψ_0)\n",
    "        X_0 = qe.random.draw(ψ_0)\n",
    "\n",
    "    # Convert each row of P into a cdf\n",
    "    P = np.cumsum(P, axis=1)\n",
    "\n",
    "    # Simulate\n",
    "    X[0] = X_0\n",
    "    for t in range(sample_size - 1):\n",
    "        X[t+1] = qe.random.draw(P[X[t], :])\n",
    "\n",
    "    return X"
   ]
  },
  {
   "cell_type": "markdown",
   "id": "72a0d61d",
   "metadata": {},
   "source": [
    "Let’s see how it works using the small matrix"
   ]
  },
  {
   "cell_type": "code",
   "execution_count": 25,
   "id": "4b1edeb4",
   "metadata": {},
   "outputs": [],
   "source": [
    "P = [[0.4, 0.6],\n",
    "     [0.2, 0.8]]"
   ]
  },
  {
   "cell_type": "markdown",
   "id": "e03522e3",
   "metadata": {},
   "source": [
    "As we’ll see later, for a long series drawn from `P`, the fraction of the sample that takes value 0 should be about 0.25.\n",
    "\n",
    "The following code illustrates this"
   ]
  },
  {
   "cell_type": "code",
   "execution_count": 26,
   "id": "3767b218",
   "metadata": {},
   "outputs": [
    {
     "data": {
      "text/plain": [
       "0.24582"
      ]
     },
     "execution_count": 26,
     "metadata": {},
     "output_type": "execute_result"
    }
   ],
   "source": [
    "X = mc_sample_path(P, ψ_0=(0.1, 0.9), sample_size=100_000)\n",
    "np.mean(X == 0)  # Fraction of time that X_t = 0"
   ]
  },
  {
   "cell_type": "markdown",
   "id": "a6ccada8",
   "metadata": {},
   "source": [
    "Here we chose a particular initial condition but the result holds regardless of the initial distribution.\n",
    "\n",
    "You can try changing the initial distribution to confirm this.\n",
    "\n",
    "\n",
    "### Using QuantEcon’s Routines\n",
    "\n",
    "[QuantEcon.py](http://quantecon.org/quantecon-py) has routines for handling Markov chains, including simulation.\n",
    "\n",
    "Here’s an illustration using the same P as the preceding example"
   ]
  },
  {
   "cell_type": "code",
   "execution_count": 27,
   "id": "17820710",
   "metadata": {},
   "outputs": [
    {
     "data": {
      "text/plain": [
       "0.250404"
      ]
     },
     "execution_count": 27,
     "metadata": {},
     "output_type": "execute_result"
    }
   ],
   "source": [
    "from quantecon import MarkovChain\n",
    "\n",
    "mc = qe.MarkovChain(P)\n",
    "X = mc.simulate(ts_length=1_000_000)\n",
    "np.mean(X == 0)"
   ]
  },
  {
   "cell_type": "markdown",
   "id": "c71de734",
   "metadata": {},
   "source": [
    "The [QuantEcon.py](http://quantecon.org/quantecon-py) routine is [JIT compiled](https://python-programming.quantecon.org/numba.html#numba-link) and hence faster."
   ]
  },
  {
   "cell_type": "code",
   "execution_count": 28,
   "id": "04a836dc",
   "metadata": {},
   "outputs": [
    {
     "name": "stdout",
     "output_type": "stream",
     "text": [
      "CPU times: user 1.22 s, sys: 0 ns, total: 1.22 s\n",
      "Wall time: 1.22 s\n"
     ]
    },
    {
     "data": {
      "text/plain": [
       "array([0, 1, 1, ..., 1, 0, 0])"
      ]
     },
     "execution_count": 28,
     "metadata": {},
     "output_type": "execute_result"
    }
   ],
   "source": [
    "%time mc_sample_path(P, sample_size=1_000_000) # Our homemade version"
   ]
  },
  {
   "cell_type": "code",
   "execution_count": 29,
   "id": "ed4c02c6",
   "metadata": {},
   "outputs": [
    {
     "name": "stdout",
     "output_type": "stream",
     "text": [
      "CPU times: user 17.1 ms, sys: 3.75 ms, total: 20.8 ms\n",
      "Wall time: 19.7 ms\n"
     ]
    },
    {
     "data": {
      "text/plain": [
       "array([0, 1, 1, ..., 1, 1, 1])"
      ]
     },
     "execution_count": 29,
     "metadata": {},
     "output_type": "execute_result"
    }
   ],
   "source": [
    "%time mc.simulate(ts_length=1_000_000)         # QE version"
   ]
  },
  {
   "cell_type": "markdown",
   "id": "c7872963",
   "metadata": {},
   "source": [
    "**Exercise**\n",
    "\n",
    "Try producing a JIT compiled version of our homemade function `mc_sample_path`.\n",
    "\n",
    "Hints:\n",
    "\n",
    "- You might need to replace `dtype=int` with `dtype=numba.int32` or similar\n",
    "- If it helps, you can simplify by replacing `ψ_0=None` with `ψ_0`\n",
    "\n",
    "How does the timing compare to the original and the QuantEcon routine?"
   ]
  },
  {
   "cell_type": "code",
   "execution_count": 30,
   "id": "10683ca5",
   "metadata": {},
   "outputs": [
    {
     "name": "stdout",
     "output_type": "stream",
     "text": [
      "Solution below.\n",
      "Solution below.\n",
      "Solution below.\n",
      "Solution below.\n",
      "Solution below.\n",
      "Solution below.\n",
      "Solution below.\n",
      "Solution below.\n",
      "Solution below.\n",
      "Solution below.\n",
      "Solution below.\n",
      "Solution below.\n"
     ]
    }
   ],
   "source": [
    "for i in range(12):\n",
    "    print(\"Solution below.\")"
   ]
  },
  {
   "cell_type": "markdown",
   "id": "a679a7ad",
   "metadata": {},
   "source": [
    "**Solution**\n",
    "\n",
    "Here's one solution."
   ]
  },
  {
   "cell_type": "code",
   "execution_count": 57,
   "id": "0246645a-52b0-4ebd-964e-acebb2d513d6",
   "metadata": {},
   "outputs": [],
   "source": [
    "@numba.jit\n",
    "def mc_sample_path_fast(P, ψ_0,  sample_size=1_000):\n",
    "\n",
    "    # Set up\n",
    "    P = np.asarray(P)\n",
    "    ψ_0 = np.asarray(ψ_0)\n",
    "    X = np.empty(sample_size, dtype=numba.int64)\n",
    "\n",
    "    # draw initial state\n",
    "    ψ_0 = np.cumsum(ψ_0)\n",
    "    X_0 = qe.random.draw(ψ_0)\n",
    "\n",
    "    # Convert each row of P into a cdf\n",
    "    P_cdf = np.empty_like(P)\n",
    "    for i in range(len(P)):\n",
    "        P_cdf[i, :] = np.cumsum(P[i, :])\n",
    "    P = P_cdf\n",
    "    \n",
    "    # Simulate\n",
    "    X[0] = X_0\n",
    "    for t in range(sample_size - 1):\n",
    "        X[t+1] = qe.random.draw(P[X[t], :])\n",
    "    return X\n",
    "\n",
    "ψ_0 = (1, 0)\n",
    "P = [[0.4, 0.6],\n",
    "     [0.2, 0.8]]\n",
    "P, ψ_0 = np.asarray(P), np.asarray(ψ_0)"
   ]
  },
  {
   "cell_type": "code",
   "execution_count": 58,
   "id": "f19ae3da-f483-491c-a1fa-71e9c107273d",
   "metadata": {},
   "outputs": [
    {
     "name": "stdout",
     "output_type": "stream",
     "text": [
      "CPU times: user 321 ms, sys: 4 ms, total: 325 ms\n",
      "Wall time: 324 ms\n"
     ]
    },
    {
     "data": {
      "text/plain": [
       "array([0, 1, 0, ..., 1, 1, 1])"
      ]
     },
     "execution_count": 58,
     "metadata": {},
     "output_type": "execute_result"
    }
   ],
   "source": [
    "%time mc_sample_path_fast(P, a, sample_size=1_000_000)"
   ]
  },
  {
   "cell_type": "code",
   "execution_count": 59,
   "id": "0fe70f61-5465-43c1-942c-cc42bbb68e0b",
   "metadata": {},
   "outputs": [
    {
     "name": "stdout",
     "output_type": "stream",
     "text": [
      "CPU times: user 58.2 ms, sys: 8.09 ms, total: 66.3 ms\n",
      "Wall time: 65.3 ms\n"
     ]
    },
    {
     "data": {
      "text/plain": [
       "array([0, 1, 1, ..., 1, 1, 1])"
      ]
     },
     "execution_count": 59,
     "metadata": {},
     "output_type": "execute_result"
    }
   ],
   "source": [
    "%time mc_sample_path_fast(P, a, sample_size=1_000_000)"
   ]
  },
  {
   "cell_type": "markdown",
   "id": "09b1e7c7-67e6-41f3-80d7-0f4160d8288c",
   "metadata": {},
   "source": [
    "Incidentally, we can also hold the stochastic matrix as state in a jitted function as follows."
   ]
  },
  {
   "cell_type": "code",
   "execution_count": 60,
   "id": "34b02d2f-6dfe-4826-8288-e8dc8447d1c5",
   "metadata": {},
   "outputs": [
    {
     "name": "stdout",
     "output_type": "stream",
     "text": [
      "CPU times: user 554 ms, sys: 11.9 ms, total: 566 ms\n",
      "Wall time: 565 ms\n",
      "CPU times: user 36.5 ms, sys: 10 µs, total: 36.5 ms\n",
      "Wall time: 36.3 ms\n"
     ]
    },
    {
     "data": {
      "text/plain": [
       "array([0, 0, 1, ..., 1, 1, 0], dtype=int32)"
      ]
     },
     "execution_count": 60,
     "metadata": {},
     "output_type": "execute_result"
    }
   ],
   "source": [
    "def mc_sample_path_factory(P, ψ_0):\n",
    "\n",
    "    # Set up\n",
    "    P = np.asarray(P)\n",
    "    ψ_0 = np.asarray(ψ_0)\n",
    "\n",
    "    # draw initial state\n",
    "    ψ_0 = np.cumsum(ψ_0)\n",
    "\n",
    "    # Convert each row of P into a cdf\n",
    "    P_cdf = np.empty_like(P)\n",
    "    for i in range(len(P)):\n",
    "        P_cdf[i, :] = np.cumsum(P[i, :])\n",
    "    P = P_cdf\n",
    "\n",
    "    @numba.jit\n",
    "    def mc_sample_path_closure(sample_size=1_000):\n",
    "        X_0 = qe.random.draw(ψ_0)\n",
    "        X = np.empty(sample_size, dtype=numba.int32)\n",
    "        # Simulate\n",
    "        X[0] = X_0\n",
    "        for t in range(sample_size - 1):\n",
    "            X[t+1] = qe.random.draw(P[X[t], :])\n",
    "        return X\n",
    "\n",
    "    return mc_sample_path_closure\n",
    "\n",
    "mc_sample_path_closure = mc_sample_path_factory(P, ψ_0)\n",
    "\n",
    "%time mc_sample_path_closure(sample_size=1_000_000)\n",
    "%time mc_sample_path_closure(sample_size=1_000_000)"
   ]
  },
  {
   "cell_type": "markdown",
   "id": "c64ba1cd",
   "metadata": {},
   "source": [
    "## Marginal Distributions\n",
    "Suppose that\n",
    "\n",
    "1. $ \\{X_t\\} $ is a Markov chain with stochastic matrix $ P $  \n",
    "1. the marginal distribution of $ X_t $ is known to be $ \\psi_t $  \n",
    "\n",
    "\n",
    "What then is the marginal distribution of $ X_{t+1} $, or, more generally, of $ X_{t+m} $?\n",
    "\n",
    "To answer this, we let $ \\psi_t $ be the marginal distribution of $ X_t $ for $ t = 0, 1, 2, \\ldots $.\n",
    "\n",
    "Our first aim is to find $ \\psi_{t + 1} $ given $ \\psi_t $ and $ P $.\n",
    "\n",
    "To begin, pick any $ y  \\in S $.\n",
    "\n",
    "Using the [law of total probability](https://en.wikipedia.org/wiki/Law_of_total_probability), we can decompose the probability that $ X_{t+1} = y $ as follows:\n",
    "\n",
    "$$\n",
    "\\mathbb P \\{X_{t+1} = y \\}\n",
    "   = \\sum_{x \\in S} \\mathbb P \\{ X_{t+1} = y \\, | \\, X_t = x \\}\n",
    "               \\cdot \\mathbb P \\{ X_t = x \\}\n",
    "$$\n",
    "\n",
    "In words, to get the probability of being at $ y $ tomorrow, we account for\n",
    "all  ways this can happen and sum their probabilities.\n",
    "\n",
    "Rewriting this statement in terms of  marginal and conditional probabilities gives\n",
    "\n",
    "$$\n",
    "\\psi_{t+1}(y) = \\sum_{x \\in S} P(x,y) \\psi_t(x)\n",
    "$$\n",
    "\n",
    "There are $ n $ such equations, one for each $ y \\in S $.\n",
    "\n",
    "If we think of $ \\psi_{t+1} $ and $ \\psi_t $ as *row vectors*, these $ n $ equations are summarized by the matrix expression\n",
    "\n",
    "\n",
    "$$\n",
    "\\psi_{t+1} = \\psi_t P \n",
    "$$\n",
    "\n",
    "Thus, to move a marginal distribution forward one unit of time, we postmultiply by $ P $.\n",
    "\n",
    "By postmultiplying $ m $ times, we move a marginal distribution forward $ m $ steps into the future.\n",
    "\n",
    "That is, $ \\psi_{t+m} = \\psi_t P^m $ where $ P^m $ is the $ m $-th power of $ P $.\n",
    "\n",
    "As a special case, we see that if $ \\psi_0 $ is the initial distribution from\n",
    "which $ X_0 $ is drawn, then $ \\psi_0 P^m $ is the distribution of\n",
    "$ X_m $.\n",
    "\n",
    "\n",
    "More generally,\n",
    "\n",
    "$$\n",
    "    X_t \\sim \\psi_t \\quad \\implies \\quad X_{t+m} \\sim \\psi_t P^m \n",
    "$$\n",
    "\n",
    "\n",
    "### Multiple Step Transition Probabilities\n",
    "\n",
    "We know that the probability of transitioning from $ x $ to $ y $ in\n",
    "one step is $ P(x,y) $.\n",
    "\n",
    "In addition, the probability of transitioning from $ x $ to $ y $ in $ m $\n",
    "steps is $ P^m(x,y) $, the $ (x,y) $-th element of the $ m $-th power of $ P $.\n",
    "\n",
    "In particular\n",
    "\n",
    "$$\n",
    "    \\mathbb P \\{X_{t+m} = y \\,|\\, X_t = x \\} = P^m(x, y) = (x, y) \\text{-th element of } P^m\n",
    "$$\n",
    "\n",
    "\n",
    "\n",
    "\n",
    "\n",
    "### Example: Probability of Recession\n",
    "\n",
    "Recall Hamilton's stochastic matrix $ P $ for recession and growth considered above\n",
    "\n",
    "Suppose that the current state is unknown — perhaps statistics are available only  at the *end* of the current month.\n",
    "\n",
    "We guess that the probability that the economy is in state $ x $ is $ \\psi(x) $.\n",
    "\n",
    "The probability of being in recession (either mild or severe) in 6 months time is given by the inner product\n",
    "\n",
    "$$\n",
    "\\psi P^6\n",
    "\\cdot\n",
    "\\left(\n",
    "  \\begin{array}{c}\n",
    "     0 \\\\\n",
    "     1 \\\\\n",
    "     1\n",
    "  \\end{array}\n",
    "\\right)\n",
    "$$\n",
    "\n",
    "\n",
    "\n",
    "### Example 2: Cross-Sectional Distributions\n",
    "\n",
    "The marginal distributions we have been studying can be viewed either as\n",
    "probabilities or as cross-sectional frequencies.\n",
    "\n",
    "To illustrate, recall our model of employment/unemployment dynamics.\n",
    "\n",
    "Consider a large population of workers, each of whose lifetime experience is described by the specified dynamics, with each worker’s\n",
    "outcomes being realizations of processes that are statistically independent of all other workers’ processes.\n",
    "\n",
    "Let $ \\psi $ be the current *cross-sectional* distribution over $ \\{ 0, 1 \\} $.\n",
    "\n",
    "The cross-sectional distribution records fractions of workers employed and unemployed at a given moment.\n",
    "\n",
    "- For example, $ \\psi(0) $ is the unemployment rate.  \n",
    "\n",
    "What will the cross-sectional distribution be in 10 periods hence?\n",
    "\n",
    "The answer is $ \\psi P^{10} $, where $ P $ is the stochastic matrix for the model.\n",
    "\n",
    "This is because each worker’s state evolves according to $ P $, so\n",
    "$ \\psi P^{10} $ is a marginal distibution  for a single randomly selected\n",
    "worker.\n",
    "\n",
    "But when the sample is large, outcomes and probabilities are roughly equal (by an application of the Law\n",
    "of Large Numbers).\n",
    "\n",
    "So for a very large (tending to infinite) population,\n",
    "$ \\psi P^{10} $ also represents  fractions of workers in\n",
    "each state.\n",
    "\n",
    "This is exactly the cross-sectional distribution.\n",
    "\n",
    "\n",
    "## Irreducibility and Aperiodicity\n",
    "\n",
    "\n",
    "Irreducibility and aperiodicity are central concepts of modern Markov chain theory.\n",
    "\n",
    "\n",
    "### Irreducibility\n",
    "\n",
    "Let $ P $ be a fixed stochastic matrix.\n",
    "\n",
    "Two states $ x $ and $ y $ are said to **communicate** with each other if\n",
    "there exist positive integers $ j $ and $ k $ such that\n",
    "\n",
    "$$\n",
    "    P^j(x, y) > 0\n",
    "    \\quad \\text{and} \\quad\n",
    "    P^k(y, x) > 0\n",
    "$$\n",
    "\n",
    "This means that\n",
    "\n",
    "- state $ x $ can eventually be reached  from state $ y $, and  \n",
    "- state $ y $ can eventually  be reached from state $ x $  \n",
    "\n",
    "\n",
    "The stochastic matrix $ P $ is called **irreducible** if all states\n",
    "communicate; that is, if $ x $ and $ y $ communicate for all\n",
    "$ (x, y) $ in $ S \\times S $.\n",
    "\n",
    "For example, consider the following transition probabilities for wealth of a fictitious set of\n",
    "households\n",
    "\n",
    "![https://python.quantecon.org/_static/lecture_specific/finite_markov/mc_irreducibility1.png](https://python.quantecon.org/_static/lecture_specific/finite_markov/mc_irreducibility1.png)\n",
    "\n",
    "  \n",
    "We can translate this into a stochastic matrix, putting zeros where\n",
    "there’s no edge between nodes\n",
    "\n",
    "$$\n",
    "P :=\n",
    "\\left(\n",
    "  \\begin{array}{ccc}\n",
    "     0.9 & 0.1 & 0 \\\\\n",
    "     0.4 & 0.4 & 0.2 \\\\\n",
    "     0.1 & 0.1 & 0.8\n",
    "  \\end{array}\n",
    "\\right)\n",
    "$$\n",
    "\n",
    "It’s clear from the graph that this stochastic matrix is irreducible: we can  eventually\n",
    "reach any state from any other state.\n",
    "\n",
    "We can also test this using [QuantEcon.py](http://quantecon.org/quantecon-py)’s MarkovChain class"
   ]
  },
  {
   "cell_type": "code",
   "execution_count": null,
   "id": "fbf7c443",
   "metadata": {},
   "outputs": [],
   "source": [
    "P = [[0.9, 0.1, 0.0],\n",
    "     [0.4, 0.4, 0.2],\n",
    "     [0.1, 0.1, 0.8]]\n",
    "\n",
    "mc = qe.MarkovChain(P, ('poor', 'middle', 'rich'))\n",
    "mc.is_irreducible"
   ]
  },
  {
   "cell_type": "markdown",
   "id": "d043113f",
   "metadata": {},
   "source": [
    "Here’s a more pessimistic scenario in which  poor people remain poor forever\n",
    "\n",
    "![https://python.quantecon.org/_static/lecture_specific/finite_markov/mc_irreducibility2.png](https://python.quantecon.org/_static/lecture_specific/finite_markov/mc_irreducibility2.png)\n",
    "\n",
    "  \n",
    "This stochastic matrix is not irreducible, since, for example, rich is not accessible from poor.\n",
    "\n",
    "Let’s confirm this"
   ]
  },
  {
   "cell_type": "code",
   "execution_count": null,
   "id": "39d197d4",
   "metadata": {},
   "outputs": [],
   "source": [
    "P = [[1.0, 0.0, 0.0],\n",
    "     [0.1, 0.8, 0.1],\n",
    "     [0.0, 0.2, 0.8]]\n",
    "\n",
    "mc = qe.MarkovChain(P, ('poor', 'middle', 'rich'))\n",
    "mc.is_irreducible"
   ]
  },
  {
   "cell_type": "markdown",
   "id": "52ab89d6",
   "metadata": {},
   "source": [
    "Irreducibility is important for understanding long run outcomes.\n",
    "\n",
    "For example, poverty is a life sentence in the second graph but not the first.\n",
    "\n",
    "\n",
    "### Aperiodicity\n",
    "\n",
    "Loosely speaking, a Markov chain is called **periodic** if it cycles in a predictable way, and **aperiodic** otherwise.\n",
    "\n",
    "Here’s a trivial example with three states\n",
    "\n",
    "![https://python.quantecon.org/_static/lecture_specific/finite_markov/mc_aperiodicity1.png](https://python.quantecon.org/_static/lecture_specific/finite_markov/mc_aperiodicity1.png)\n",
    "\n",
    "  \n",
    "The chain cycles with period 3:"
   ]
  },
  {
   "cell_type": "code",
   "execution_count": null,
   "id": "538eae59",
   "metadata": {},
   "outputs": [],
   "source": [
    "P = [[0, 1, 0],\n",
    "     [0, 0, 1],\n",
    "     [1, 0, 0]]\n",
    "\n",
    "mc = qe.MarkovChain(P)\n",
    "mc.period"
   ]
  },
  {
   "cell_type": "markdown",
   "id": "52c1fa0b",
   "metadata": {},
   "source": [
    "More formally, the **period** of a state $ x $ is the largest common divisor\n",
    "of a set of integers\n",
    "\n",
    "$$\n",
    "    D(x) := \\{j \\geq 1 : P^j(x, x) > 0\\}\n",
    "$$\n",
    "\n",
    "In the last example, $ D(x) = \\{3, 6, 9, \\ldots\\} $ for every state $ x $, so the period is 3.\n",
    "\n",
    "A stochastic matrix is called **aperiodic** if the period of every state is 1, and **periodic** otherwise.\n",
    "\n",
    "For example, the stochastic matrix associated with the transition probabilities below is periodic because, for example, state $ a $ has period 2\n",
    "\n",
    "![https://python.quantecon.org/_static/lecture_specific/finite_markov/mc_aperiodicity2.png](https://python.quantecon.org/_static/lecture_specific/finite_markov/mc_aperiodicity2.png)\n",
    "\n",
    "We can confirm that the stochastic matrix is periodic with the following code"
   ]
  },
  {
   "cell_type": "code",
   "execution_count": null,
   "id": "d09a6234",
   "metadata": {},
   "outputs": [],
   "source": [
    "P = [[0.0, 1.0, 0.0, 0.0],\n",
    "     [0.5, 0.0, 0.5, 0.0],\n",
    "     [0.0, 0.5, 0.0, 0.5],\n",
    "     [0.0, 0.0, 1.0, 0.0]]\n",
    "\n",
    "mc = qe.MarkovChain(P)\n",
    "mc.period"
   ]
  },
  {
   "cell_type": "code",
   "execution_count": null,
   "id": "dae11b61",
   "metadata": {},
   "outputs": [],
   "source": [
    "mc.is_aperiodic"
   ]
  },
  {
   "cell_type": "markdown",
   "id": "8d8403a2",
   "metadata": {},
   "source": [
    "## Stationary Distributions\n",
    "\n",
    "\n",
    "We know that we can shift a marginal distribution forward one unit of time via postmultiplication by $ P $.\n",
    "\n",
    "Some distributions are invariant under this updating process — for example,"
   ]
  },
  {
   "cell_type": "code",
   "execution_count": null,
   "id": "b36c3c0a",
   "metadata": {},
   "outputs": [],
   "source": [
    "P = np.array([[0.4, 0.6],\n",
    "              [0.2, 0.8]])\n",
    "ψ = (0.25, 0.75)\n",
    "ψ @ P"
   ]
  },
  {
   "cell_type": "markdown",
   "id": "7e37ee1a-e594-4228-9e70-ea1f701a9257",
   "metadata": {},
   "source": [
    "Such distributions are called **stationary** or **invariant**.\n",
    "\n",
    "\n",
    "Formally, a marginal distribution $ \\psi^* $ on $ S $ is called **stationary** for $ P $ if $ \\psi^* = \\psi^* P $.\n",
    "\n",
    "From this equality, we immediately get $ \\psi^* = \\psi^* P^t $ for all $ t $.\n",
    "\n",
    "This tells us an important fact: If the distribution of $ X_0 $ is a stationary distribution, then $ X_t $ will have this same distribution for all $ t $.\n",
    "\n",
    "Hence stationary distributions have a natural interpretation as **stochastic steady states** — we’ll discuss this more soon.\n",
    "\n",
    "Mathematically, a stationary distribution is a fixed point of $ P $ when $ P $ is thought of as the map $ \\psi \\mapsto \\psi P $ from (row) vectors to (row) vectors.\n",
    "\n",
    "**Theorem.** Every stochastic matrix $ P $ has at least one stationary distribution.\n",
    "\n",
    "Proof:  This follows directly from the Perron-Frobenius theorem -- alternatively, see [EDTC](https://johnstachurski.net/edtc.html), theorem 4.3.5.\n",
    "\n",
    "There can be many stationary distributions corresponding to a given stochastic matrix $ P $.\n",
    "\n",
    "- For example, if $ P $ is the identity matrix, then all marginal distributions are stationary.  \n",
    "\n",
    "To get uniqueness an invariant distribution, the transition matrix $ P $ must have the property that no nontrivial subsets of\n",
    "the state space are **infinitely persistent**.\n",
    "\n",
    "A subset of the state space is infinitely persistent if other parts of the\n",
    "state space cannot be accessed from it.\n",
    "\n",
    "Thus, infinite persistence of a non-trivial subset is the opposite of irreducibility.\n",
    "\n",
    "This gives some intuition for the following fundamental theorem.\n",
    "\n",
    "\n",
    "**Theorem.** If $ P $ is both aperiodic and irreducible, then\n",
    "\n",
    "1. $ P $ has exactly one stationary distribution $ \\psi^* $.  \n",
    "1. For any initial marginal distribution $ \\psi_0 $, we have $ \\| \\psi_0 P^t - \\psi^* \\| \\to 0 $ as $ t \\to \\infty $.  \n",
    "\n",
    "\n",
    "For a proof, see, for example, theorem 5.2 of [[Haggstrom02](https://python.quantecon.org/zreferences.html#id135)].\n",
    "\n",
    "(Note that part 1 of the theorem only requires  irreducibility, whereas part 2 requires both irreducibility and aperiodicity)\n",
    "\n",
    "A stochastic matrix that satisfies the conditions of the theorem is sometimes called **uniformly ergodic**.\n",
    "\n",
    "A sufficient condition for aperiodicity and irreducibility is that every element of $ P $ is strictly positive.\n",
    "\n",
    "\n",
    "\n",
    "### Example\n",
    "\n",
    "Recall our model of the employment/unemployment dynamics.\n",
    "\n",
    "Assuming $ \\alpha \\in (0,1) $ and $ \\beta \\in (0,1) $, the uniform ergodicity condition is satisfied.\n",
    "\n",
    "Let $ \\psi^* = (p, 1-p) $ be the stationary distribution, so that $ p $ corresponds to unemployment (state 0).\n",
    "\n",
    "Using $ \\psi^* = \\psi^* P $ and a bit of algebra yields\n",
    "\n",
    "$$\n",
    "    p = \\frac{\\beta}{\\alpha + \\beta}\n",
    "$$\n",
    "\n",
    "This is, in some sense, a steady state probability of unemployment — more about the  interpretation of this below.\n",
    "\n",
    "Not surprisingly it tends to zero as $ \\beta \\to 0 $, and to one as $ \\alpha \\to 0 $."
   ]
  },
  {
   "cell_type": "markdown",
   "id": "b6c8420c-e991-4466-84f0-f259e1030d99",
   "metadata": {},
   "source": [
    "### Calculating Stationary Distributions\n",
    "\n",
    "\n",
    "As discussed above, a particular Markov matrix $ P $ can have many stationary distributions.\n",
    "\n",
    "A fast algorithm for computing all stationary distributions is implemented in [QuantEcon.py](http://quantecon.org/quantecon-py)."
   ]
  },
  {
   "cell_type": "code",
   "execution_count": 85,
   "id": "c78ea2db",
   "metadata": {},
   "outputs": [
    {
     "data": {
      "text/plain": [
       "array([[0.25, 0.75]])"
      ]
     },
     "execution_count": 85,
     "metadata": {},
     "output_type": "execute_result"
    }
   ],
   "source": [
    "P = [[0.4, 0.6],\n",
    "     [0.2, 0.8]]\n",
    "\n",
    "mc = qe.MarkovChain(P)\n",
    "mc.stationary_distributions  # Show all stationary distributions"
   ]
  },
  {
   "cell_type": "markdown",
   "id": "3db9785f-f53c-4a46-ac2e-82f257c5753b",
   "metadata": {},
   "source": [
    "**Exercise**"
   ]
  },
  {
   "cell_type": "markdown",
   "id": "21578418-58e8-4bee-bbef-e6e5632ec1b8",
   "metadata": {},
   "source": [
    "Another option is to regard the system as an eigenvector problem: a vector\n",
    "$ \\psi $ such that $ \\psi = \\psi P $ is a left eigenvector associated\n",
    "with the unit eigenvalue $ \\lambda = 1$.\n",
    "\n",
    "Try writing a function that uses this information to compute the stationary distribution of $P$.\n",
    "\n",
    "You can use `scipy.linalg.eig` from SciPy.\n",
    "\n",
    "In the exercise you can assume that $P$ has only one stationary distribution, and you can test your function using"
   ]
  },
  {
   "cell_type": "code",
   "execution_count": 86,
   "id": "a85b5bed-95fd-4694-b70e-19180c6aced3",
   "metadata": {},
   "outputs": [],
   "source": [
    "P = np.array([[0.4, 0.6],\n",
    "              [0.2, 0.8]])"
   ]
  },
  {
   "cell_type": "code",
   "execution_count": 87,
   "id": "ba4d7b70-a761-4191-997e-66c3f5fa3bcb",
   "metadata": {},
   "outputs": [
    {
     "name": "stdout",
     "output_type": "stream",
     "text": [
      "Solution below!\n",
      "Solution below!\n",
      "Solution below!\n",
      "Solution below!\n",
      "Solution below!\n",
      "Solution below!\n",
      "Solution below!\n",
      "Solution below!\n",
      "Solution below!\n",
      "Solution below!\n",
      "Solution below!\n",
      "Solution below!\n"
     ]
    }
   ],
   "source": [
    "for i in range(12):\n",
    "    print(\"Solution below!\")"
   ]
  },
  {
   "cell_type": "markdown",
   "id": "420dfed6-811c-4621-bf7e-bfe0a16e6ecb",
   "metadata": {},
   "source": [
    "**Solution**"
   ]
  },
  {
   "cell_type": "code",
   "execution_count": 93,
   "id": "7b375cc5-2bf9-497a-a71f-78df2aa8dfeb",
   "metadata": {},
   "outputs": [],
   "source": [
    "def compute_stationary_via_eigenvecs(P):\n",
    "    \"\"\"\n",
    "    Computes the stationary distribution of P using an eigenvector routine.\n",
    "\n",
    "    We use the fact that, for a stochastic matrix, the largest left eigenvalue is 1.0.\n",
    "    The corresponding eigenvector is the stationary distribution.\n",
    "    \"\"\"\n",
    "    P = np.array(P)\n",
    "    out = sp.linalg.eig(P, right=False)\n",
    "    i = np.argmax(out.eigenvalues)  # index of largest eigenvalue\n",
    "    dominant_eigvec = out.eigenvectors[:, i] \n",
    "    ψ_star = dominant_eigvec / np.sum(dominant_eigvec) # normalize\n",
    "    return ψ_star"
   ]
  },
  {
   "cell_type": "code",
   "execution_count": 94,
   "id": "a7d104eb-c1cb-4a0c-a0e1-89dcf0581203",
   "metadata": {},
   "outputs": [
    {
     "data": {
      "text/plain": [
       "array([0.25, 0.75])"
      ]
     },
     "execution_count": 94,
     "metadata": {},
     "output_type": "execute_result"
    }
   ],
   "source": [
    "ψ_star"
   ]
  },
  {
   "cell_type": "markdown",
   "id": "81907a5c-5b03-4257-a9aa-860e831ddc57",
   "metadata": {},
   "source": [
    "### Convergence to Stationarity\n",
    "\n",
    "\n",
    "Part 2 of the Markov chain convergence theorem given above tells us that, under\n",
    "the stated conditions, the marginal distribution of $ X_t $ converges to the\n",
    "stationary distribution regardless of the initial condition.\n",
    "\n",
    "This adds considerable authority to our interpretation of $ \\psi^* $ as a stochastic steady state.\n",
    "\n",
    "The convergence in the theorem is illustrated in the next figure"
   ]
  },
  {
   "cell_type": "code",
   "execution_count": null,
   "id": "2499b424",
   "metadata": {},
   "outputs": [],
   "source": [
    "P = ((0.971, 0.029, 0.000),\n",
    "     (0.145, 0.778, 0.077),\n",
    "     (0.000, 0.508, 0.492))\n",
    "P = np.array(P)\n",
    "\n",
    "ψ = (0.0, 0.2, 0.8)        # Initial condition\n",
    "\n",
    "fig = plt.figure(figsize=(8, 6))\n",
    "ax = fig.add_subplot(111, projection='3d')\n",
    "\n",
    "ax.set(xlim=(0, 1), ylim=(0, 1), zlim=(0, 1),\n",
    "       xticks=(0.25, 0.5, 0.75),\n",
    "       yticks=(0.25, 0.5, 0.75),\n",
    "       zticks=(0.25, 0.5, 0.75))\n",
    "\n",
    "x_vals, y_vals, z_vals = [], [], []\n",
    "for t in range(20):\n",
    "    x_vals.append(ψ[0])\n",
    "    y_vals.append(ψ[1])\n",
    "    z_vals.append(ψ[2])\n",
    "    ψ = ψ @ P\n",
    "\n",
    "ax.scatter(x_vals, y_vals, z_vals, c='r', s=60)\n",
    "ax.view_init(30, 210)\n",
    "\n",
    "mc = qe.MarkovChain(P)\n",
    "ψ_star = mc.stationary_distributions[0]\n",
    "ax.scatter(ψ_star[0], ψ_star[1], ψ_star[2], c='k', s=60)\n",
    "\n",
    "plt.show()"
   ]
  },
  {
   "cell_type": "markdown",
   "id": "ff763512-260b-4fca-b8f0-817c9bc0211a",
   "metadata": {},
   "source": [
    "Here\n",
    "\n",
    "- $ P $ is the stochastic matrix for recession and growth [considered above](#mc-eg2).  \n",
    "- The highest red dot is an arbitrarily chosen initial marginal probability distribution  $ \\psi $, represented as a vector in $ \\mathbb R^3 $.  \n",
    "- The other red dots are the marginal distributions $ \\psi P^t $ for $ t = 1, 2, \\ldots $.  \n",
    "- The black dot is $ \\psi^* $.  \n",
    "\n",
    "\n",
    "You might like to try experimenting with different initial conditions.\n",
    "\n",
    "\n",
    "## Ergodicity\n",
    "\n",
    "\n",
    "Under irreducibility, yet another important result obtains: for all $ x \\in S $,\n",
    "\n",
    "$$\n",
    "\\frac{1}{m} \\sum_{t = 1}^m \\mathbf{1}\\{X_t = x\\}  \\to \\psi^*(x)\n",
    "    \\quad \\text{as } m \\to \\infty \n",
    "$$\n",
    "\n",
    "Here\n",
    "\n",
    "- $ \\mathbf{1}\\{X_t = x\\} = 1 $ if $ X_t = x $ and zero otherwise  \n",
    "- convergence is with probability one  \n",
    "- the result does not depend on the marginal distribution  of $ X_0 $  \n",
    "\n",
    "The convergence asserted above is a special case of a law of large numbers\n",
    "result for Markov chains -- see, for example, [EDTC](http://johnstachurski.net/edtc.html),\n",
    "section 4.3.4.\n",
    "\n",
    "The result tells us that the fraction of time the chain spends at state $ x $ converges to $ \\psi^*(x) $ as time goes to infinity.\n",
    "\n",
    "This gives us another way to interpret the stationary distribution.\n",
    "\n",
    "\n",
    "### Example\n",
    "\n",
    "Recall our cross-sectional interpretation of the employment/unemployment model discussed above.\n",
    "\n",
    "Assume that $ \\alpha \\in (0,1) $ and $ \\beta \\in (0,1) $, so that irreducibility and aperiodicity both hold.\n",
    "\n",
    "We saw that the stationary distribution is $ (p, 1-p) $, where\n",
    "\n",
    "$$\n",
    "    p = \\frac{\\beta}{\\alpha + \\beta}\n",
    "$$\n",
    "\n",
    "In the cross-sectional interpretation, this is the fraction of people unemployed.\n",
    "\n",
    "In view of our latest (ergodicity) result, it is also the fraction of time that a single worker can expect to spend unemployed.\n",
    "\n",
    "Thus, in the long-run, cross-sectional averages for a population and time-series averages for a given person coincide.\n",
    "\n",
    "This is one aspect of the concept  of ergodicity.\n",
    "\n",
    "\n",
    "## Computing Expectations\n",
    "\n",
    "\n",
    "We sometimes want to  compute mathematical  expectations of functions of $ X_t $ of the form\n",
    "\n",
    "\n",
    "$$\n",
    "    \\mathbb E [ h(X_t) ] \n",
    "$$\n",
    "\n",
    "and conditional expectations such as\n",
    "\n",
    "$$\n",
    "    \\mathbb E [ h(X_{t + k})  \\mid X_t = x] \n",
    "$$\n",
    "\n",
    "where\n",
    "\n",
    "- $ \\{X_t\\} $ is a Markov chain generated by $ n \\times n $ stochastic matrix $ P $  \n",
    "- $ h $ is a given function, which, in terms of matrix\n",
    "  algebra, we’ll think of as the column vector  \n",
    "\n",
    "\n",
    "$$\n",
    "    h\n",
    "    = \\left(\n",
    "    \\begin{array}{c}\n",
    "        h(x_1) \\\\\n",
    "        \\vdots \\\\\n",
    "        h(x_n)\n",
    "    \\end{array}\n",
    "      \\right)\n",
    "$$\n",
    "\n",
    "Computing the unconditional expectation  is easy.\n",
    "\n",
    "We just sum over the marginal  distribution  of $ X_t $ to get\n",
    "\n",
    "$$\n",
    "\\mathbb E [ h(X_t) ]\n",
    "= \\sum_{x \\in S} (\\psi P^t)(x) h(x)\n",
    "$$\n",
    "\n",
    "Here $ \\psi $ is the distribution of $ X_0 $.\n",
    "\n",
    "Since $ \\psi $ and hence $ \\psi P^t $ are row vectors, we can also\n",
    "write this as\n",
    "\n",
    "$$\n",
    "\\mathbb E [ h(X_t) ]\n",
    "=  \\psi P^t h\n",
    "$$\n",
    "\n",
    "For the conditional expectation we need to sum over the conditional distribution\n",
    "of $ X_{t + k} $ given $ X_t = x $.\n",
    "\n",
    "We already know that this is $ P^k(x, \\cdot) $, so\n",
    "\n",
    "\n",
    "$$\n",
    "\\mathbb E [ h(X_{t + k})  \\mid X_t = x]\n",
    "= (P^k h)(x) \n",
    "$$\n",
    "\n",
    "The vector $ P^k h $ stores the conditional expectation $ \\mathbb E [ h(X_{t + k})  \\mid X_t = x] $ over all $ x $.\n",
    "\n",
    "\n",
    "### Expectations of Geometric Sums\n",
    "\n",
    "Sometimes we want to compute the mathematical expectation of a geometric sum, such as\n",
    "$ \\sum_t \\beta^t h(X_t) $.\n",
    "\n",
    "In view of the preceding discussion, this is\n",
    "\n",
    "$$\n",
    "\\mathbb{E} [\n",
    "        \\sum_{j=0}^\\infty \\beta^j h(X_{t+j}) \\mid X_t = x\n",
    "    \\Bigr]\n",
    "= [(I - \\beta P)^{-1} h](x)\n",
    "$$\n",
    "\n",
    "where\n",
    "\n",
    "$$\n",
    "(I - \\beta P)^{-1}  = I + \\beta P + \\beta^2 P^2 + \\cdots\n",
    "$$\n",
    "\n",
    "\n",
    "\n",
    "## More Exercises\n",
    "\n",
    "\n",
    "**Exercise**\n",
    "\n",
    "According to the discussion above, if a worker’s employment dynamics obey the stochastic matrix\n",
    "\n",
    "$$\n",
    "P\n",
    "= \\left(\n",
    "\\begin{array}{cc}\n",
    "    1 - \\alpha & \\alpha \\\\\n",
    "    \\beta & 1 - \\beta\n",
    "\\end{array}\n",
    "  \\right)\n",
    "$$\n",
    "\n",
    "with $ \\alpha \\in (0,1) $ and $ \\beta \\in (0,1) $, then, in the long-run, the fraction\n",
    "of time spent unemployed will be\n",
    "\n",
    "$$\n",
    "p := \\frac{\\beta}{\\alpha + \\beta}\n",
    "$$\n",
    "\n",
    "In other words, if $ \\{X_t\\} $ represents the Markov chain for\n",
    "employment, then $ \\bar X_m \\to p $ as $ m \\to \\infty $, where\n",
    "\n",
    "$$\n",
    "\\bar X_m := \\frac{1}{m} \\sum_{t = 1}^m \\mathbf{1}\\{X_t = 0\\}\n",
    "$$\n",
    "\n",
    "This exercise asks you to illustrate convergence by computing\n",
    "$ \\bar X_m $ for large $ m $ and checking that\n",
    "it is close to $ p $.\n",
    "\n",
    "You will see that this statement is true regardless of the choice of initial\n",
    "condition or the values of $ \\alpha, \\beta $, provided both lie in\n",
    "$ (0, 1) $."
   ]
  },
  {
   "cell_type": "markdown",
   "id": "ae98c3a7-d0f7-4550-b313-c2b7de434ae9",
   "metadata": {},
   "source": [
    "**Solution**\n",
    "\n",
    "\n",
    "We will address this exercise graphically.\n",
    "\n",
    "The plots show the time series of $ \\bar X_m - p $ for two initial\n",
    "conditions.\n",
    "\n",
    "As $ m $ gets large, both series converge to zero."
   ]
  },
  {
   "cell_type": "code",
   "execution_count": 95,
   "id": "b7d9b71f",
   "metadata": {},
   "outputs": [
    {
     "data": {
      "image/png": "[encoded data removed]",
      "text/plain": [
       "<Figure size 900x600 with 1 Axes>"
      ]
     },
     "metadata": {},
     "output_type": "display_data"
    }
   ],
   "source": [
    "α = β = 0.1\n",
    "N = 10000\n",
    "p = β / (α + β)\n",
    "\n",
    "P = ((1 - α,       α),               # Careful: P and p are distinct\n",
    "     (    β,   1 - β))\n",
    "mc = MarkovChain(P)\n",
    "\n",
    "fig, ax = plt.subplots(figsize=(9, 6))\n",
    "ax.set_ylim(-0.25, 0.25)\n",
    "ax.grid()\n",
    "ax.hlines(0, 0, N, lw=2, alpha=0.6)   # Horizonal line at zero\n",
    "\n",
    "for x0, col in ((0, 'blue'), (1, 'green')):\n",
    "    # Generate time series for worker that starts at x0\n",
    "    X = mc.simulate(N, init=x0)\n",
    "    # Compute fraction of time spent unemployed, for each n\n",
    "    X_bar = (X == 0).cumsum() / (1 + np.arange(N, dtype=float))\n",
    "    # Plot\n",
    "    ax.fill_between(range(N), np.zeros(N), X_bar - p, color=col, alpha=0.1)\n",
    "    ax.plot(X_bar - p, color=col, label=f'$X_0 = \\, {x0} $')\n",
    "    # Overlay in black--make lines clearer\n",
    "    ax.plot(X_bar - p, 'k-', alpha=0.6)\n",
    "\n",
    "ax.legend(loc='upper right')\n",
    "plt.show()"
   ]
  },
  {
   "cell_type": "code",
   "execution_count": null,
   "id": "0c145354-d599-4898-bd23-f10367454590",
   "metadata": {},
   "outputs": [],
   "source": []
  }
 ],
 "metadata": {
  "kernelspec": {
   "display_name": "Python 3 (ipykernel)",
   "language": "python",
   "name": "python3"
  },
  "language_info": {
   "codemirror_mode": {
    "name": "ipython",
    "version": 3
   },
   "file_extension": ".py",
   "mimetype": "text/x-python",
   "name": "python",
   "nbconvert_exporter": "python",
   "pygments_lexer": "ipython3",
   "version": "3.11.7"
  }
 },
 "nbformat": 4,
 "nbformat_minor": 5
}
