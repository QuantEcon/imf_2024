{
 "cells": [
  {
   "cell_type": "markdown",
   "id": "f45f203e-7ebc-4b1f-9196-15d963499688",
   "metadata": {},
   "source": [
    "## Quick scientific Python introduction\n",
    "\n",
    "This notebook does a \"whirlwind tour\" of the functionality that the scientific Python stack exposes.\n"
   ]
  },
  {
   "cell_type": "markdown",
   "id": "f0fe7a0a-6165-473d-a105-e738d84dfc3c",
   "metadata": {},
   "source": [
    "## Numpy"
   ]
  },
  {
   "cell_type": "code",
   "execution_count": null,
   "id": "5bdc0ad5-798b-4cc1-9d71-098165f129d4",
   "metadata": {
    "tags": []
   },
   "outputs": [],
   "source": [
    "import numpy as np"
   ]
  },
  {
   "cell_type": "markdown",
   "id": "a01bc816-0b77-4cd0-82c7-31144460bbbc",
   "metadata": {},
   "source": [
    "`numpy` is one of the core scientific libraries used in Python.\n",
    "\n",
    "The main object that it introduces is an \"array\" type. This array type allows for users to represent vectors, matrices, and higher dimensional arrays.\n",
    "\n",
    "Below we create a 1-dimensional, 2-dimensional, and 3-dimensional array."
   ]
  },
  {
   "cell_type": "code",
   "execution_count": null,
   "id": "c6f6b219-308a-4b3c-a9b7-a19930f15ea4",
   "metadata": {},
   "outputs": [],
   "source": [
    "x = np.array([0.0, 1.0, 2.0])\n",
    "y = np.array([[0.0, 1.0], [2.0, 3.0], [4.0, 5.0]])\n",
    "z = np.array([\n",
    "    [[0.0, 1.0], [2.0, 3.0], [4.0, 5.0]],\n",
    "    [[6.0, 7.0], [8.0, 9.0], [10.0, 11.0]],\n",
    "    [[12.0, 13.0], [14.0, 15.0], [16.0, 17.0]],\n",
    "    [[18.0, 19.0], [20.0, 21.0], [22.0, 23.0]]\n",
    "])"
   ]
  },
  {
   "cell_type": "markdown",
   "id": "c30b33a8-0330-4c24-923b-ecf754c93444",
   "metadata": {},
   "source": [
    "### Shapes of arrays\n",
    "\n",
    "As we create and manipulate arrays, we will often be interested in \"what shape is our current array\" and \"what shape do we need this array to be\".\n",
    "\n",
    "**1-dimensional**\n",
    "\n",
    "In the code above, we created `x` by doing\n",
    "\n",
    "```python\n",
    "x = np.array([0.0, 1.0, 2.0])\n",
    "```\n",
    "\n",
    "If we asked for `len([0.0, 1.0, 2.0])` we would have seen 3 -- The 1-dimensional array in our example was size 3.\n",
    "\n",
    "**2-dimensional**\n",
    "\n",
    "In the code, above we created `y` by doing\n",
    "\n",
    "```python\n",
    "y = np.array([[0.0, 1.0], [2.0, 3.0], [4.0, 5.0]])\n",
    "```\n",
    "\n",
    "Again, if we asked for `len([[0.0, 1.0], [2.0, 3.0], [4.0, 5.0]])`, we would have received 3.\n",
    "\n",
    "But now, there's an additional list inside! The `len([[0.0, 1.0], [2.0, 3.0], [4.0, 5.0]][0])` would be `len([0.0, 1.0])` which is 2.\n",
    "\n",
    "Thus our array is size 3 x 2.\n",
    "\n",
    "The sizes correspond to the length of the lists creating them -- The inner-most dimension size is the outer-most length.\n",
    "\n",
    "**3-dimensional**\n",
    "\n",
    "Your turn! What size do you think `z` is?"
   ]
  },
  {
   "cell_type": "code",
   "execution_count": null,
   "id": "f8b81a90-71a0-4fd7-a6a7-faee32f5ea8e",
   "metadata": {},
   "outputs": [],
   "source": []
  },
  {
   "cell_type": "markdown",
   "id": "91bb90f6-592f-4e69-9ffb-68e5255cb0a5",
   "metadata": {},
   "source": [
    "Hint: You can check your answer by doing `z.shape`"
   ]
  },
  {
   "cell_type": "markdown",
   "id": "f354cc7b-de80-4d71-bf06-83ebd9b979e2",
   "metadata": {},
   "source": [
    "**Indexing**"
   ]
  },
  {
   "cell_type": "markdown",
   "id": "83c06a2a-d4be-4c47-bb0a-5a7db7ae7dc3",
   "metadata": {},
   "source": [
    "We can select elements out of the array by indexing into the arrays"
   ]
  },
  {
   "cell_type": "code",
   "execution_count": null,
   "id": "f8db7822-e1df-4421-b312-9330a1efe25d",
   "metadata": {},
   "outputs": [],
   "source": [
    "# Python indexing starts at 0\n",
    "x[0]"
   ]
  },
  {
   "cell_type": "code",
   "execution_count": null,
   "id": "af6f3dad-e478-4d6f-beb5-e06e185cbd54",
   "metadata": {},
   "outputs": [],
   "source": [
    "# Can select all of a particular dimension by using :\n",
    "y[:, 1]"
   ]
  },
  {
   "cell_type": "code",
   "execution_count": null,
   "id": "eb8d65ff-9f77-4e56-9603-7d9a215fbef0",
   "metadata": {},
   "outputs": [],
   "source": [
    "# One index argument per dimension\n",
    "z[:, 1:3, 0]"
   ]
  },
  {
   "cell_type": "markdown",
   "id": "33910539-a27b-4b1e-84d3-4a0a6aaa2433",
   "metadata": {},
   "source": [
    "### Special array creation methods"
   ]
  },
  {
   "cell_type": "markdown",
   "id": "c9b677b2-59a4-4107-ada9-01d3008a7a61",
   "metadata": {},
   "source": [
    "**Create an empty array**"
   ]
  },
  {
   "cell_type": "code",
   "execution_count": null,
   "id": "2b06a674-09c4-45df-b302-1b60cda223c5",
   "metadata": {},
   "outputs": [],
   "source": [
    "np.empty((5, 2))"
   ]
  },
  {
   "cell_type": "markdown",
   "id": "c0004f95-427d-4863-8ee4-f911b1066d55",
   "metadata": {},
   "source": [
    "**Create an array filled with zeros**"
   ]
  },
  {
   "cell_type": "code",
   "execution_count": null,
   "id": "d487a33b-09e2-4978-81a5-b0bc430a5a7e",
   "metadata": {},
   "outputs": [],
   "source": [
    "np.zeros(10)"
   ]
  },
  {
   "cell_type": "markdown",
   "id": "2fba0a94-bf31-4e10-bd36-f6e64408d815",
   "metadata": {},
   "source": [
    "**Create an array filled with ones**"
   ]
  },
  {
   "cell_type": "code",
   "execution_count": null,
   "id": "2c9c2cd5-8566-468e-8086-c15f8b839200",
   "metadata": {},
   "outputs": [],
   "source": [
    "np.ones((2, 5))"
   ]
  },
  {
   "cell_type": "markdown",
   "id": "9f14ff74-4b2f-4c56-a081-ed49b91e6231",
   "metadata": {},
   "source": [
    "**Create a vector filled with numbers from i to n**"
   ]
  },
  {
   "cell_type": "code",
   "execution_count": null,
   "id": "3633380d-bd4a-4eab-958a-d10b019827ad",
   "metadata": {},
   "outputs": [],
   "source": [
    "np.arange(1, 7)"
   ]
  },
  {
   "cell_type": "markdown",
   "id": "b7fb28d7-bb6f-4bba-bf00-edff6c1afd69",
   "metadata": {},
   "source": [
    "**Create a vector filled with n evenly spaced numbers from x to z**"
   ]
  },
  {
   "cell_type": "code",
   "execution_count": null,
   "id": "54eca0f2-9604-4237-94e7-35c187a875c3",
   "metadata": {},
   "outputs": [],
   "source": [
    "np.linspace(0, 5, 11)"
   ]
  },
  {
   "cell_type": "markdown",
   "id": "741fa522-38e7-4f51-a9ed-4fe1f23e6910",
   "metadata": {},
   "source": [
    "**Create a vector filled with U(0, 1)**"
   ]
  },
  {
   "cell_type": "code",
   "execution_count": null,
   "id": "ad7a55da-a9cf-41d3-9156-fae62a7cf266",
   "metadata": {},
   "outputs": [],
   "source": [
    "np.random.rand(2, 3)"
   ]
  },
  {
   "cell_type": "markdown",
   "id": "317edd65-7a30-43ba-afb1-1f8dad37a2cb",
   "metadata": {},
   "source": [
    "**Create a vector filled with N(0, 1)**"
   ]
  },
  {
   "cell_type": "code",
   "execution_count": null,
   "id": "bd866446-2d0d-4026-8f48-eacccd9b0ee8",
   "metadata": {},
   "outputs": [],
   "source": [
    "np.random.randn(2, 2, 3)"
   ]
  },
  {
   "cell_type": "markdown",
   "id": "565f2ec1-3039-4552-80d5-32c7f78e4279",
   "metadata": {},
   "source": [
    "### Broadcasting\n",
    "\n",
    "You often will need to add scalars or other arrays to arrays. We call this broadcasting."
   ]
  },
  {
   "cell_type": "markdown",
   "id": "bcd8420a-a28e-4729-a9c6-27d20ab59e61",
   "metadata": {},
   "source": [
    "**Operations between scalars and arrays**\n",
    "\n",
    "These operations do mostly what you would expect -- They apply the scalar operation to each individual element of the array.\n",
    "\n",
    "For example `z = x + 1` returns a new array, `z`, where `z_i = x_i + 1`"
   ]
  },
  {
   "cell_type": "code",
   "execution_count": null,
   "id": "2fa6cf16-4176-4673-b362-fb79dba36053",
   "metadata": {},
   "outputs": [],
   "source": [
    "x"
   ]
  },
  {
   "cell_type": "code",
   "execution_count": null,
   "id": "afbf4d8c-efb1-4bd8-9192-ac87b503af80",
   "metadata": {},
   "outputs": [],
   "source": [
    "x + 1"
   ]
  },
  {
   "cell_type": "code",
   "execution_count": null,
   "id": "e9fced98-f1d1-4d24-b9c7-54d1854e5a70",
   "metadata": {},
   "outputs": [],
   "source": [
    "x * 3"
   ]
  },
  {
   "cell_type": "code",
   "execution_count": null,
   "id": "37065514-7998-4fec-bd88-c456424e0cd2",
   "metadata": {},
   "outputs": [],
   "source": [
    "x - 3"
   ]
  },
  {
   "cell_type": "markdown",
   "id": "d47f42d6-2d16-41b7-9319-4137c3e634ec",
   "metadata": {},
   "source": [
    "**Operations between two arrays of the same size**\n",
    "\n",
    "Most operations do elementwise computation when you do operations on two arrays of the same size."
   ]
  },
  {
   "cell_type": "code",
   "execution_count": null,
   "id": "0e33b4d8-e00e-41aa-945f-34ed0f9caa70",
   "metadata": {},
   "outputs": [],
   "source": [
    "# Elementwise addition\n",
    "np.ones_like(x) + x"
   ]
  },
  {
   "cell_type": "code",
   "execution_count": null,
   "id": "23035871-77fb-4b2c-bb73-6fa7bdd09007",
   "metadata": {},
   "outputs": [],
   "source": [
    "# Elementwise multiplication\n",
    "np.zeros_like(z) * z"
   ]
  },
  {
   "cell_type": "code",
   "execution_count": null,
   "id": "b5ac4c8d-e585-4034-a056-915b436ee8c7",
   "metadata": {},
   "outputs": [],
   "source": [
    "# Dot product -- Generally will try matrix multiplication\n",
    "# but for two vectors, this will just do the dot product\n",
    "np.ones_like(x) @ x"
   ]
  },
  {
   "cell_type": "markdown",
   "id": "d515405d-076a-434f-a6ca-2f610dcca2be",
   "metadata": {},
   "source": [
    "**Operations between two arrays of different sizes**\n",
    "\n",
    "You should be more careful if you are working with arrays of different sizes:\n",
    "\n",
    "* Let `x = N x 1` and `y = N x M`) -> Then `x ? y` applies the function as if it were applying it to each column. For example, `z = x + y` gives you `z.shape => N x M` where `z[i, j] = x[i] + y[i, j]` (generalizes to higher dimensions...).\n",
    "* Let `x = N x M` and `y = M x P` then `x @ y` does matrix multiplication"
   ]
  },
  {
   "cell_type": "code",
   "execution_count": null,
   "id": "fdbeb8f7-1fd2-4108-8f08-07032f1649f3",
   "metadata": {},
   "outputs": [],
   "source": [
    "# x[:, None] is a fancy way to convert a vector into an Nx1 array\n",
    "x[:, None] + y"
   ]
  },
  {
   "cell_type": "code",
   "execution_count": null,
   "id": "3c322090-4af7-48da-bd93-68fd5dc550d9",
   "metadata": {},
   "outputs": [],
   "source": [
    "# Matrix multiplication\n",
    "y @ y.T"
   ]
  },
  {
   "cell_type": "markdown",
   "id": "a49c5ddb-096a-40b7-93c9-410265fbf726",
   "metadata": {},
   "source": [
    "### Numpy array functions\n",
    "\n",
    "We are often interested in computing various functions of a single array -- Something like `sum` or `mean`.\n",
    "\n",
    "`numpy` has many array functions built in. Many of these functions are something known as a \"reduction\" -- This just means it takes many inputs and returns a single output (think about what computing the mean does). Reductions can often be applied either to the entire array or to a single axis. If you apply it to a single axis, that axis will get collapsed into a single value.\n",
    "\n",
    "Here we demonstrate a few of the most common array functions and some reductions:"
   ]
  },
  {
   "cell_type": "code",
   "execution_count": null,
   "id": "7bc9cc97-788e-46cb-9817-3b31d88c1f6c",
   "metadata": {},
   "outputs": [],
   "source": [
    "# Cumulative sum\n",
    "np.cumsum(x)"
   ]
  },
  {
   "cell_type": "code",
   "execution_count": null,
   "id": "d488aef5-0e91-4b2a-a642-454569269404",
   "metadata": {},
   "outputs": [],
   "source": [
    "# One element differences\n",
    "np.diff(x)"
   ]
  },
  {
   "cell_type": "code",
   "execution_count": null,
   "id": "c1b2a047-0452-4403-80cd-31af8e337383",
   "metadata": {},
   "outputs": [],
   "source": [
    "# Mean (vector)\n",
    "np.mean(x)"
   ]
  },
  {
   "cell_type": "code",
   "execution_count": null,
   "id": "405874e8-dd8e-4bcc-b4f4-3ab0e7c196a3",
   "metadata": {},
   "outputs": [],
   "source": [
    "# Mean (matrix)\n",
    "np.mean(y)"
   ]
  },
  {
   "cell_type": "code",
   "execution_count": null,
   "id": "230a4fd6-f817-47ba-b291-c64b716c611e",
   "metadata": {},
   "outputs": [],
   "source": [
    "# Mean on a matrix but collapsing the rows\n",
    "# y is size (3, 2) and np.mean(y, axis=0) is size (2,)\n",
    "np.mean(y, axis=0)"
   ]
  },
  {
   "cell_type": "code",
   "execution_count": null,
   "id": "acbe6355-eb65-4cd4-9dab-df215d09ad7a",
   "metadata": {},
   "outputs": [],
   "source": [
    "# Standard deviation on a 3 dimensional array collapsing on the\n",
    "# 3rd dimension\n",
    "np.std(z, axis=2)"
   ]
  },
  {
   "cell_type": "markdown",
   "id": "dafc75f1-5861-4cf8-b84c-096cfdef3c7f",
   "metadata": {},
   "source": [
    "### Universal functions\n",
    "\n",
    "One of the powerful tools that `numpy` opens to users is \"universal functions\" (ufuncs).\n",
    "\n",
    "These are functions that operate directly on n-dimensional arrays in an element-by-element fashion.\n",
    "\n",
    "Not only does this make it simple to apply a function to an entire array but, behind the scenes, there is a significant amount of optimization and multithreading happening. There are lots of ufuncs available to you in `numpy` -- Take a peek at [the documentation](https://docs.scipy.org/doc/numpy/reference/ufuncs.html?highlight=ufunc#available-ufuncs) for a list"
   ]
  },
  {
   "cell_type": "code",
   "execution_count": null,
   "id": "d275c868-2d72-47d6-ae97-fb007032bd25",
   "metadata": {},
   "outputs": [],
   "source": [
    "# Computes sin(x) for each element of x\n",
    "np.sin(x)"
   ]
  },
  {
   "cell_type": "code",
   "execution_count": null,
   "id": "5c403af9-a4ec-4129-b5b2-c9a40edc256b",
   "metadata": {},
   "outputs": [],
   "source": [
    "np.exp(x)"
   ]
  },
  {
   "cell_type": "markdown",
   "id": "9efb0896-02e3-4c3b-a8e1-96fc0522215c",
   "metadata": {},
   "source": [
    "## Matplotlib\n",
    "\n",
    "The \"default\" plotting package for most of the Python world is `matplotlib`.\n",
    "\n",
    "It is a very flexible package and allows for creating very good looking graphs (in spite of relatively simple defaults)"
   ]
  },
  {
   "cell_type": "code",
   "execution_count": null,
   "id": "63f3e5f7-f38c-42e9-a58d-b451aabfda71",
   "metadata": {
    "tags": []
   },
   "outputs": [],
   "source": [
    "import matplotlib.pyplot as plt"
   ]
  },
  {
   "cell_type": "markdown",
   "id": "113c0e6d-7594-4f65-baa2-31ddcd322928",
   "metadata": {},
   "source": [
    "### Figure/Axis\n",
    "\n",
    "The main pieces of a graph in `matplotlib` are a \"figure\" and an \"axis\". We’ve found that the easiest way for us to distinguish between the figure and axis objects is to think about them as a framed painting.\n",
    "\n",
    "The axis is the canvas; it is where we “draw” our plots.\n",
    "\n",
    "The figure is the entire framed painting (which inclues the axis itself!).\n",
    "\n",
    "We can see this difference by setting certain elements of the figure to different colors."
   ]
  },
  {
   "cell_type": "code",
   "execution_count": null,
   "id": "64ca9cbf-370e-4e95-9105-c83f920d0a19",
   "metadata": {
    "tags": []
   },
   "outputs": [],
   "source": [
    "fig, ax = plt.subplots()\n",
    "\n",
    "fig.set_facecolor(\"red\")\n",
    "ax.set_facecolor(\"blue\")"
   ]
  },
  {
   "cell_type": "markdown",
   "id": "2864b536-6103-4374-baf8-572a599d2eea",
   "metadata": {},
   "source": [
    "### More"
   ]
  },
  {
   "cell_type": "markdown",
   "id": "c62ec0fd-3f45-49cc-9564-67b841b52d5d",
   "metadata": {},
   "source": [
    "**Scatter plots**"
   ]
  },
  {
   "cell_type": "code",
   "execution_count": null,
   "id": "be4218e8-400e-42b0-9b82-d463f209443d",
   "metadata": {
    "tags": []
   },
   "outputs": [],
   "source": [
    "x = np.random.randn(5_000)\n",
    "y = np.random.randn(5_000)\n",
    "\n",
    "fig, ax = plt.subplots()\n",
    "\n",
    "ax.scatter(x, y, color=\"DarkBlue\", alpha=0.05, s=25)"
   ]
  },
  {
   "cell_type": "markdown",
   "id": "b5ffa6e6-9694-489f-9c68-deab7a50ae5b",
   "metadata": {},
   "source": [
    "**Line plots**"
   ]
  },
  {
   "cell_type": "code",
   "execution_count": null,
   "id": "da919df8-f86d-4ea8-9be8-1ca737ed2faf",
   "metadata": {
    "tags": []
   },
   "outputs": [],
   "source": [
    "x = np.linspace(0, 10)\n",
    "y = np.sin(x)\n",
    "\n",
    "fig, ax = plt.subplots()\n",
    "\n",
    "ax.plot(x, y, linestyle=\"-\", color=\"k\")\n",
    "ax.plot(x, 2*y, linestyle=\"--\", color=\"k\")\n",
    "\n",
    "# Bonus - Fill between two lines\n",
    "ax.fill_between(x, y, 2*y, color=\"LightBlue\", alpha=0.3)"
   ]
  },
  {
   "cell_type": "markdown",
   "id": "ff16839d-e62a-4661-804e-a76659c1460e",
   "metadata": {},
   "source": [
    "**Bar plots**"
   ]
  },
  {
   "cell_type": "code",
   "execution_count": null,
   "id": "7a34af74-27ba-4301-93a0-a66af2c590ad",
   "metadata": {
    "tags": []
   },
   "outputs": [],
   "source": [
    "x = [\"Red\", \"Blue\", \"Green\"]\n",
    "y = [5, 10, 15]\n",
    "\n",
    "fig, ax = plt.subplots(figsize=(6, 4))\n",
    "\n",
    "ax.bar(x, y, color=[\"r\", \"b\", \"g\"])"
   ]
  },
  {
   "cell_type": "markdown",
   "id": "dabf15d3-5e65-44d4-9697-364fbe9442b8",
   "metadata": {},
   "source": [
    "**Histograms**"
   ]
  },
  {
   "cell_type": "code",
   "execution_count": null,
   "id": "27f64260-ea90-4cc9-865f-ed582008457c",
   "metadata": {
    "tags": []
   },
   "outputs": [],
   "source": [
    "x = np.random.randn(5000)\n",
    "\n",
    "fig, ax = plt.subplots()\n",
    "\n",
    "ax.hist(x, bins=25, density=True)"
   ]
  },
  {
   "cell_type": "markdown",
   "id": "392367ce-3c6b-4b66-af30-b2b58b405ee7",
   "metadata": {},
   "source": [
    "## Scipy\n",
    "\n",
    "`scipy` is a package that is closely related to `numpy`.\n",
    "\n",
    "While `numpy` introduces the array type and some basic functionality on top of that array, `scipy` extends these arrays further by providing higher level functionality with access to a variety of useful tools for science."
   ]
  },
  {
   "cell_type": "markdown",
   "id": "d41db743-31a5-4c96-b0d5-6abf9acf70b3",
   "metadata": {},
   "source": [
    "### Interpolation\n",
    "\n",
    "Within economics, we often need to approximate functions where we only observe a finite set of values that the function can take.\n",
    "\n",
    "We \"interpolate\" between these points in a number of ways. `scipy.interpolate` provides a convenient interface to perform this interpolation in many of the most common interpolation routines."
   ]
  },
  {
   "cell_type": "code",
   "execution_count": null,
   "id": "84a68a14-a0f5-4d30-bef3-e842a9ed6eef",
   "metadata": {
    "tags": []
   },
   "outputs": [],
   "source": [
    "import scipy.interpolate as interp"
   ]
  },
  {
   "cell_type": "code",
   "execution_count": null,
   "id": "1c7718ac-3cb9-4826-8caf-c1ea49f010c8",
   "metadata": {
    "tags": []
   },
   "outputs": [],
   "source": [
    "x = np.linspace(0.25, 10.0, 15)\n",
    "y = np.log(x)"
   ]
  },
  {
   "cell_type": "markdown",
   "id": "71f335dc-b702-43db-a1e3-7cea06b8ba06",
   "metadata": {},
   "source": [
    "**Piecewise linear interpolation**"
   ]
  },
  {
   "cell_type": "code",
   "execution_count": null,
   "id": "60dc3532-808a-4b6d-b3a0-a26229828094",
   "metadata": {
    "tags": []
   },
   "outputs": [],
   "source": [
    "# Can do piecewise linear with numpy\n",
    "x_interp = np.linspace(0.0, 11, 100)\n",
    "y_interp = np.interp(x_interp, x, y)\n",
    "\n",
    "fig, ax = plt.subplots()\n",
    "\n",
    "ax.scatter(x, y, color=\"r\", s=20)\n",
    "ax.plot(x_interp, y_interp, color=\"k\", linewidth=0.5)"
   ]
  },
  {
   "cell_type": "markdown",
   "id": "da35e8e0-4dce-48d4-91fd-6b57778e6051",
   "metadata": {},
   "source": [
    "**Piecewise cubic**"
   ]
  },
  {
   "cell_type": "code",
   "execution_count": null,
   "id": "ba1dd0de-e430-48f1-8bf1-0559601b672d",
   "metadata": {
    "tags": []
   },
   "outputs": [],
   "source": [
    "f = interp.interp1d(x, y, kind=\"cubic\", fill_value=\"extrapolate\")\n",
    "\n",
    "y_interp = f(x_interp)\n",
    "\n",
    "fig, ax = plt.subplots()\n",
    "\n",
    "ax.scatter(x, y, color=\"r\", s=20)\n",
    "ax.plot(x_interp, y_interp, color=\"k\", linewidth=0.5)"
   ]
  },
  {
   "cell_type": "markdown",
   "id": "237bc375-bee4-42bb-bd1c-7121e6a07293",
   "metadata": {},
   "source": [
    "**Other**"
   ]
  },
  {
   "cell_type": "code",
   "execution_count": null,
   "id": "b1e3ab29-1947-48ce-9847-4a8a2fceea5d",
   "metadata": {
    "tags": []
   },
   "outputs": [],
   "source": [
    "f = interp.PchipInterpolator(x, y, extrapolate=True)\n",
    "\n",
    "y_interp = f(x_interp)\n",
    "\n",
    "fig, ax = plt.subplots()\n",
    "\n",
    "ax.scatter(x, y, color=\"r\", s=20)\n",
    "ax.plot(x_interp, y_interp, color=\"k\", linewidth=0.5)"
   ]
  },
  {
   "cell_type": "markdown",
   "id": "ffdb9d83-c6c8-4744-96b7-b09932eaf472",
   "metadata": {},
   "source": [
    "### Linear algebra\n",
    "\n",
    "Linear algebra is a core component of many toolkits. `numpy` itself has a small set of core operations that are within a package called `numpy.linalg` but `scipy.linalg` contains a superset of those operations."
   ]
  },
  {
   "cell_type": "code",
   "execution_count": null,
   "id": "3ac179d3-0d5f-4320-a07a-be38047329c9",
   "metadata": {
    "tags": []
   },
   "outputs": [],
   "source": [
    "import scipy.linalg as la"
   ]
  },
  {
   "cell_type": "markdown",
   "id": "7953dc30-cb15-423e-bd17-8e061567ad8a",
   "metadata": {},
   "source": [
    "**Lots of your standard linear algebra tools**"
   ]
  },
  {
   "cell_type": "code",
   "execution_count": null,
   "id": "c72c923f-3696-4bf1-af05-e1f10459fde4",
   "metadata": {
    "tags": []
   },
   "outputs": [],
   "source": [
    "X = np.array([\n",
    "    [0.5, 0.3, 0.0],\n",
    "    [0.3, 0.5, 0.4],\n",
    "    [0.0, 0.4, 0.75]\n",
    "])"
   ]
  },
  {
   "cell_type": "code",
   "execution_count": null,
   "id": "3f4760c1-cba5-4189-ad02-89a44ab0f002",
   "metadata": {
    "tags": []
   },
   "outputs": [],
   "source": [
    "la.cholesky(X)"
   ]
  },
  {
   "cell_type": "code",
   "execution_count": null,
   "id": "155f8140-0428-4ad5-8404-41c81638ea20",
   "metadata": {
    "tags": []
   },
   "outputs": [],
   "source": [
    "la.solve(X, np.array([0.0, 0.5, 0.3]))\n",
    "\n",
    "# Check out all of the other solve options based\n",
    "# on the shape of the matrix\n",
    "# la.solve_circulant\n",
    "# la.solve_toeplitz\n",
    "# la.solve_banded\n",
    "# la.solve_triangular"
   ]
  },
  {
   "cell_type": "code",
   "execution_count": null,
   "id": "bd09b605-df49-41ec-a664-e616678466dc",
   "metadata": {
    "tags": []
   },
   "outputs": [],
   "source": [
    "la.eigvals(X)"
   ]
  },
  {
   "cell_type": "code",
   "execution_count": null,
   "id": "106023a6-9a01-4949-83e6-ebc1fe4ccbe6",
   "metadata": {
    "tags": []
   },
   "outputs": [],
   "source": [
    "Q, R = la.qr(X)\n",
    "print(Q, R)"
   ]
  },
  {
   "cell_type": "code",
   "execution_count": null,
   "id": "4f8de794-8f59-45fd-985f-d24ab53a92f7",
   "metadata": {
    "tags": []
   },
   "outputs": [],
   "source": [
    "X"
   ]
  },
  {
   "cell_type": "code",
   "execution_count": null,
   "id": "b0c2fb0c-337c-4cc1-8b31-f3ee09337a63",
   "metadata": {
    "tags": []
   },
   "outputs": [],
   "source": [
    "Q@R"
   ]
  },
  {
   "cell_type": "code",
   "execution_count": null,
   "id": "231af8ac-ed51-4728-93ec-a086fc02ebc8",
   "metadata": {
    "tags": []
   },
   "outputs": [],
   "source": [
    "la.inv(X)@X"
   ]
  },
  {
   "cell_type": "markdown",
   "id": "8170e30a-5a82-4fdd-99b0-d89947e6cff0",
   "metadata": {},
   "source": [
    "### Statistics\n",
    "\n",
    "We often want to work with various probability distributions. We could code up the pdf or a sampler ourselves but this work is largely done for us within `scipy.statistics`.\n",
    "\n",
    "The one warning we include here is that sometimes `scipy.stats` uses a non-canonical representation of the distribution.\n"
   ]
  },
  {
   "cell_type": "code",
   "execution_count": null,
   "id": "5366c826-baeb-4808-8b00-682e191017a7",
   "metadata": {
    "tags": []
   },
   "outputs": [],
   "source": [
    "import scipy.stats as st"
   ]
  },
  {
   "cell_type": "markdown",
   "id": "a217659e-8183-424c-8b24-5d8e9ef2641c",
   "metadata": {},
   "source": [
    "**Normal distribution**"
   ]
  },
  {
   "cell_type": "code",
   "execution_count": null,
   "id": "b8945215-6cab-43c5-8caa-ef978bbc7add",
   "metadata": {
    "tags": []
   },
   "outputs": [],
   "source": [
    "# location specifies the mean / scale specifies the standard deviation\n",
    "d = st.norm(loc=2.0, scale=4.0)"
   ]
  },
  {
   "cell_type": "code",
   "execution_count": null,
   "id": "658cb00b-20f0-42ca-88cd-53fe562738e5",
   "metadata": {
    "tags": []
   },
   "outputs": [],
   "source": [
    "# Draw random samples\n",
    "d.rvs(25)"
   ]
  },
  {
   "cell_type": "code",
   "execution_count": null,
   "id": "a1e21401-c06d-46d9-9035-bdcc19fc1684",
   "metadata": {
    "tags": []
   },
   "outputs": [],
   "source": [
    "# Probability density function\n",
    "d.pdf(0.5)"
   ]
  },
  {
   "cell_type": "code",
   "execution_count": null,
   "id": "dc35a148-7f24-417c-82d2-0d38f52eb0be",
   "metadata": {
    "tags": []
   },
   "outputs": [],
   "source": [
    "# Cumulative density function\n",
    "d.cdf(2.0)"
   ]
  },
  {
   "cell_type": "code",
   "execution_count": null,
   "id": "59224f89-467a-46c0-9045-67a5c5c52a12",
   "metadata": {
    "tags": []
   },
   "outputs": [],
   "source": [
    "# Fit a normal rv to N(0, 1) data\n",
    "st.norm.fit(np.random.randn(5000))"
   ]
  },
  {
   "cell_type": "markdown",
   "id": "29a05d65-aaec-4d2d-bdbf-f920df9baa92",
   "metadata": {},
   "source": [
    "**Exponential**\n",
    "\n",
    "Note: `scipy.stats` classifies this in terms of a \"standardized form\"\n",
    "\n",
    "$$f(x) = \\exp(-x)$$\n",
    "\n",
    "If you want to use the \"non-standardized form\" then you use the `loc` and `scale` parameters\n",
    "\n",
    "Let $y = \\frac{(x - \\text{loc})}{\\text{scale}}$. Then `expon(loc=loc, scale=scale).pdf(x) = expon().pdf(x) / scale`\n",
    "\n",
    "The classical characterization (i.e. $f(x) = \\exp(-\\lambda x)$) is equivalent to choosing `scale = 1 / lambda`."
   ]
  },
  {
   "cell_type": "code",
   "execution_count": null,
   "id": "66766d24-6e0b-4395-8fa0-ffc67f547fe8",
   "metadata": {
    "tags": []
   },
   "outputs": [],
   "source": [
    "d = st.expon(scale=2)"
   ]
  },
  {
   "cell_type": "code",
   "execution_count": null,
   "id": "e3d6a46b-0980-4209-a337-0f2b00db0607",
   "metadata": {
    "tags": []
   },
   "outputs": [],
   "source": [
    "# Draw random samples\n",
    "d.rvs(25)"
   ]
  },
  {
   "cell_type": "code",
   "execution_count": null,
   "id": "a004db4a-4d5b-4d0f-8f3e-8e3656a4e6b3",
   "metadata": {
    "tags": []
   },
   "outputs": [],
   "source": [
    "# Probability density function\n",
    "d.pdf(-1.0)"
   ]
  },
  {
   "cell_type": "code",
   "execution_count": null,
   "id": "e29ea8c0-365a-4c9e-8829-4defceea0efb",
   "metadata": {
    "tags": []
   },
   "outputs": [],
   "source": [
    "# Cumulative density function\n",
    "d.cdf(5.0)"
   ]
  },
  {
   "cell_type": "code",
   "execution_count": null,
   "id": "e70a02b8-8c67-4446-8aa4-642c7f8b8e30",
   "metadata": {
    "tags": []
   },
   "outputs": [],
   "source": [
    "# Fit random data\n",
    "st.expon.fit(np.array([0.5, 0.25, 0.75, 0.1, 0.2, 1.5]))"
   ]
  },
  {
   "cell_type": "code",
   "execution_count": null,
   "id": "5bdbf0df-6166-43f0-aa4a-de1caa314312",
   "metadata": {
    "tags": []
   },
   "outputs": [],
   "source": [
    "st.expon.fit(np.array([0.5, 0.25, 0.75, 0.1, 0.2, 1.5]), floc=0)"
   ]
  },
  {
   "cell_type": "code",
   "execution_count": null,
   "id": "6c90ad75-58d7-42c9-8d8c-0140da52a507",
   "metadata": {
    "tags": []
   },
   "outputs": [],
   "source": [
    "st.expon.fit(np.array([0.5, 0.25, 0.75, 0.0, 0.2, 1.5]))"
   ]
  },
  {
   "cell_type": "markdown",
   "id": "710c1305-b5e4-43ed-a92b-26001353261b",
   "metadata": {},
   "source": [
    "**Pareto**\n",
    "\n",
    "Note: `scipy.stats` classifies this in terms of a \"standardized form\"\n",
    "\n",
    "$$f(x, b) = \\frac{b}{x^{b+1}$$\n",
    "\n",
    "If you want to use the \"non-standardized form\" then you use the `loc` and `scale` parameters\n",
    "\n",
    "Let $y = \\frac{(x - \\text{loc})}{\\text{scale}}$. Then `pareto(b, loc=loc, scale=scale).pdf(x) = pareto(b).pdf(y) / scale`"
   ]
  },
  {
   "cell_type": "code",
   "execution_count": null,
   "id": "f84cefdf-e44e-4d78-ac80-e805fb0b0fd9",
   "metadata": {
    "tags": []
   },
   "outputs": [],
   "source": [
    "d = st.pareto(b=2.0, loc=0, scale=1)"
   ]
  },
  {
   "cell_type": "code",
   "execution_count": null,
   "id": "330775be-280b-4ef6-921b-332767550d15",
   "metadata": {
    "tags": []
   },
   "outputs": [],
   "source": [
    "# Draw random samples\n",
    "d.rvs(25)"
   ]
  },
  {
   "cell_type": "code",
   "execution_count": null,
   "id": "a9d6fad5-16a7-4684-88c8-989bdda9097e",
   "metadata": {
    "tags": []
   },
   "outputs": [],
   "source": [
    "# Probability density function\n",
    "d.pdf(5.0)"
   ]
  },
  {
   "cell_type": "code",
   "execution_count": null,
   "id": "bf83cc69-818b-4a38-ade0-ad250b94a8b0",
   "metadata": {
    "tags": []
   },
   "outputs": [],
   "source": [
    "# Cumulative density function\n",
    "d.cdf(5.0)"
   ]
  },
  {
   "cell_type": "code",
   "execution_count": null,
   "id": "0b4dddab-fd2b-4e74-aba8-5f710e80815e",
   "metadata": {
    "tags": []
   },
   "outputs": [],
   "source": [
    "# Fit random data\n",
    "st.pareto.fit(np.array([2.5, 4.25, 7.75, 3.1, 1.2, 0.5]), floc=0, fscale=0)"
   ]
  },
  {
   "cell_type": "markdown",
   "id": "9d26f962-5b5e-47ee-8ac9-2c1da17a14af",
   "metadata": {},
   "source": [
    "## Numba\n",
    "\n",
    "`numba` is a very exciting, and powerful package, that brings \"just-in-time\" (JIT) compilation technology to Python."
   ]
  },
  {
   "cell_type": "markdown",
   "id": "f1989a33-4e50-487a-af87-4da527b2937d",
   "metadata": {},
   "source": [
    "**Brief background**\n",
    "\n",
    "You may have heard about the differences between \"compiled programming languages\" and \"interpreted programming languages\"\n",
    "\n",
    "* A compiled language is run in a few steps:\n",
    "  * Programmer writes the code\n",
    "  * Compiler converts that code into machine code\n",
    "  * Computer runs machine code. Note that once the code is compiled, it can be run whenever one wants without the compilation step\n",
    "* An interpreted language runs code differently:\n",
    "  * Programmer writes code\n",
    "  * Computer \"runs\" the code by\n",
    "    * An \"interpreter\" reads the code line-by-line\n",
    "    * For each line, the interpreter figures out what the inputs are and tries to convert it to machine code\n",
    "    * Computer runs the machine code"
   ]
  },
  {
   "cell_type": "markdown",
   "id": "d955fd97-1635-4517-874c-f5200183d756",
   "metadata": {},
   "source": [
    "**Pros and cons of compiled**\n",
    "\n",
    "* Once the compiler has run, the code is already machine code and runs very fast (as fast as possible given the code you wrote)\n",
    "* For very large programs, compilation requires the upfront cost of compilation which can take minutes/hours\n",
    "* Compiled programs can only be shared within similar hardware architecture and operating systems (though as long as there's a compiler for the hardware/OS, one could recompile the code)\n",
    "\n",
    "**Pros and cons of interpreted**\n",
    "\n",
    "* As long as there is an interpreter for the hardware/operating system, interpreted code can be easily shared\n",
    "* Significantly slower than compiled code because of the back and forth to read the code line-by-line (which has to be redone each time the code is run!)\n",
    "* Easier to interact with your code (and more importantly, your data!) because you can run one line at a time"
   ]
  },
  {
   "cell_type": "markdown",
   "id": "fd62f6c7-0b55-48a6-a58b-24822a758e4c",
   "metadata": {},
   "source": [
    "**How different are they in speed?**"
   ]
  },
  {
   "cell_type": "markdown",
   "id": "0ae8fd55-4f46-479c-9732-232d794dace4",
   "metadata": {},
   "source": [
    "_Python_"
   ]
  },
  {
   "cell_type": "code",
   "execution_count": null,
   "id": "93535427-f607-4bb1-b74e-58eba4778a33",
   "metadata": {
    "tags": []
   },
   "outputs": [],
   "source": [
    "import numpy as np\n",
    "\n",
    "\n",
    "def calculate_pi_python(n=1_000_000):\n",
    "    \"\"\"\n",
    "    Approximates pi by drawing two random numbers and\n",
    "    determining whether the of the sum of their squares\n",
    "    is less than one (which tells us if the points are\n",
    "    in the upper-right quadrant of the unit circle). The\n",
    "    fraction of draws in the upper-quadrant approximates\n",
    "    the area which we can then multiply by 4 to get the\n",
    "    area of the circle (which is pi since r=1)\n",
    "    \"\"\"\n",
    "    in_circ = 0\n",
    "\n",
    "    # Iterate for many samples\n",
    "    for i in range(n):\n",
    "        # Draw random numbers\n",
    "        x = np.random.random()\n",
    "        y = np.random.random()\n",
    "\n",
    "        if (x**2 + y**2) < 1:\n",
    "            in_circ += 1\n",
    "\n",
    "    return 4 * (in_circ / n)"
   ]
  },
  {
   "cell_type": "code",
   "execution_count": null,
   "id": "d1ea3739-23c0-4b2c-abea-4966f319118a",
   "metadata": {
    "tags": []
   },
   "outputs": [],
   "source": [
    "%%timeit\n",
    "\n",
    "calculate_pi_python(1_000_000)"
   ]
  },
  {
   "cell_type": "markdown",
   "id": "c5d24b49-ff86-43ba-8540-f2fdf5fdcfb3",
   "metadata": {},
   "source": [
    "_Fortran_"
   ]
  },
  {
   "cell_type": "code",
   "execution_count": null,
   "id": "5d5ae4a1-e077-4b9d-a08c-d294983d65f9",
   "metadata": {
    "tags": []
   },
   "outputs": [],
   "source": [
    "%load_ext fortranmagic"
   ]
  },
  {
   "cell_type": "code",
   "execution_count": null,
   "id": "d465b61e-d781-4a8c-9112-5ccbd52ea124",
   "metadata": {
    "tags": []
   },
   "outputs": [],
   "source": [
    "%%fortran\n",
    "\n",
    "subroutine calculate_pi_fortran(n, pi_approx)\n",
    "    integer, intent(in) :: n\n",
    "    real, intent(out) :: pi_approx\n",
    "\n",
    "    integer :: count\n",
    "    real :: x, y\n",
    "\n",
    "    count = 0\n",
    "    \n",
    "    CALL RANDOM_SEED\n",
    "    DO i = 1, n\n",
    "        CALL RANDOM_NUMBER(x)\n",
    "        CALL RANDOM_NUMBER(y)\n",
    "        IF (x*x + y*y < 1.0) count = count + 1\n",
    "    END DO\n",
    "\n",
    "    pi_approx = 4.0 * REAL(count)/REAL(n)\n",
    "end subroutine calculate_pi_fortran"
   ]
  },
  {
   "cell_type": "code",
   "execution_count": null,
   "id": "68400dc6-bbe3-4172-a545-592b1253c156",
   "metadata": {
    "tags": []
   },
   "outputs": [],
   "source": [
    "%%timeit\n",
    "\n",
    "calculate_pi_fortran(1_000_000)"
   ]
  },
  {
   "cell_type": "markdown",
   "id": "3ec88b22-f714-4e0d-b1c7-8f9a63675e58",
   "metadata": {},
   "source": [
    "Fortran (\\~10 ms) <<< Python (\\~650 ms)"
   ]
  },
  {
   "cell_type": "markdown",
   "id": "9ec55487-0035-49a6-894d-64736f81e8a0",
   "metadata": {},
   "source": [
    "**JIT compilation**\n",
    "\n",
    "JIT is a relatively modern development which has the goal of bridging some of the gaps between compiled and interpreted.\n",
    "\n",
    "Rather than compile the code ahead of time or interpreting line-by-line, JIT compiles small chunks of the code right before it runs them.\n",
    "\n",
    "For example, recall the function `mc_approximate_pi_python` (that we wrote earlier) that approximates the value of pi using Monte-carlo methods... We might even want to run this function multiple times to average across the approximations. The way that JIT works is,\n",
    "\n",
    "1. Check the input types to the function\n",
    "2. The first time it sees particular types of inputs to the function, it compiles the function assuming those types as inputs and stores this compiled code\n",
    "3. The computer then runs the function using the compiled code -- If it has seen these inputs before, it can jump directly to this step.\n",
    "\n",
    "`numba` is a package that will empower Python with \"JIT super powers\""
   ]
  },
  {
   "cell_type": "markdown",
   "id": "9a535ca4-0398-4100-afcd-5470b41c078f",
   "metadata": {},
   "source": [
    "**What works within Numba?**\n",
    "\n",
    "* Almost all core Python objects. including: lists, tuples, dictionaries, integers, floats, strings\n",
    "* Python logic, including: `if.. elif.. else`, `while`, `for .. in`, `break`, `continue`\n",
    "* NumPy arrays\n",
    "* Many (but not all!) NumPy functions -- This includes `np.interp`!\n",
    "\n",
    "For more information, read these sections from the documentation\n",
    "\n",
    "* [Supported Python features](https://numba.readthedocs.io/en/stable/reference/pysupported.html)\n",
    "* [Supported NumPy  features](https://numba.readthedocs.io/en/stable/reference/numpysupported.html)"
   ]
  },
  {
   "cell_type": "code",
   "execution_count": null,
   "id": "aabdfb45-8411-48b1-8a63-69dd463057a3",
   "metadata": {
    "tags": []
   },
   "outputs": [],
   "source": [
    "import numba"
   ]
  },
  {
   "cell_type": "code",
   "execution_count": null,
   "id": "370b46a5-7d5c-49de-a37b-48600b5c3cb1",
   "metadata": {
    "tags": []
   },
   "outputs": [],
   "source": [
    "calculate_pi_numba = numba.jit(calculate_pi_python, nopython=True)"
   ]
  },
  {
   "cell_type": "code",
   "execution_count": null,
   "id": "cadf2eb3-9db2-43ce-8aec-a4f52812177b",
   "metadata": {
    "tags": []
   },
   "outputs": [],
   "source": [
    "%%time\n",
    "\n",
    "calculate_pi_numba(1_000_000)"
   ]
  },
  {
   "cell_type": "code",
   "execution_count": null,
   "id": "0e236317-ef7d-4a1a-a6c0-a1dcf8e67d0f",
   "metadata": {
    "tags": []
   },
   "outputs": [],
   "source": [
    "%%timeit\n",
    "\n",
    "calculate_pi_numba(1_000_000)"
   ]
  },
  {
   "cell_type": "markdown",
   "id": "3cd390e1-9c38-4204-accf-fae8fecb984b",
   "metadata": {},
   "source": [
    "**Writing parallel code with numba**"
   ]
  },
  {
   "cell_type": "code",
   "execution_count": null,
   "id": "c5aeeecb-cbfa-45a0-a4fe-0d9bad4ce0d8",
   "metadata": {
    "tags": []
   },
   "outputs": [],
   "source": [
    "@numba.jit(nopython=True, parallel=True)\n",
    "def calculate_pi_parallel(n=1_000_000):\n",
    "    \"\"\"\n",
    "    Approximates pi by drawing two random numbers and\n",
    "    determining whether the of the sum of their squares\n",
    "    is less than one (which tells us if the points are\n",
    "    in the upper-right quadrant of the unit circle). The\n",
    "    fraction of draws in the upper-quadrant approximates\n",
    "    the area which we can then multiply by 4 to get the\n",
    "    area of the circle (which is pi since r=1)\n",
    "    \"\"\"\n",
    "\n",
    "    # Iterate for many sample\n",
    "    in_circ = 0\n",
    "    for i in numba.prange(n):\n",
    "        # Draw random numbers\n",
    "        x = np.random.random()\n",
    "        y = np.random.random()\n",
    "\n",
    "        if (x**2 + y**2) < 1:\n",
    "            in_circ += 1\n",
    "\n",
    "    return 4 * (in_circ / n)\n"
   ]
  },
  {
   "cell_type": "code",
   "execution_count": null,
   "id": "a7a36f59-9a15-45b5-af55-44394b00ddb3",
   "metadata": {
    "tags": []
   },
   "outputs": [],
   "source": [
    "%%timeit\n",
    "\n",
    "calculate_pi_parallel(1_000_000)"
   ]
  },
  {
   "cell_type": "markdown",
   "id": "af59a71f-976e-417e-8192-55f95d02da12",
   "metadata": {},
   "source": [
    "Small side note... A warning to beware of race conditions\n",
    "\n",
    "Any time that you write parallel code, you must understand how each computation can affect another. If you don't consider this carefully, your output could depend on the order in which each computation finishes! This is known as a \"race condition\" and is _very very bad_ because it creates a non-determinism in your code.\n",
    "\n",
    "Why is it so bad? It's possible that your code returns the right answer sometimes and the wrong answer others -- This non-determinism makes it difficult to debug"
   ]
  },
  {
   "cell_type": "code",
   "execution_count": null,
   "id": "7782236d-d051-480d-a75c-7025992feecc",
   "metadata": {
    "tags": []
   },
   "outputs": [],
   "source": [
    "@numba.jit(parallel=True)\n",
    "def dumb_parallel_function(n=500_000):\n",
    "    x = np.zeros(n)\n",
    "    for i in numba.prange(n):\n",
    "        x[0] = i\n",
    "        x[i] = i\n",
    "\n",
    "    return x"
   ]
  },
  {
   "cell_type": "code",
   "execution_count": null,
   "id": "ede83a14-426d-4175-af31-f2c48fb42781",
   "metadata": {
    "tags": []
   },
   "outputs": [],
   "source": [
    "dumb_parallel_function(5)"
   ]
  },
  {
   "cell_type": "markdown",
   "id": "2e5c208f-d56b-4cc3-a1fd-bbebc81588c9",
   "metadata": {},
   "source": [
    "**Writing GPU code with numba**"
   ]
  },
  {
   "cell_type": "code",
   "execution_count": null,
   "id": "8a44c222-4752-4b01-b058-904d1839b1a4",
   "metadata": {},
   "outputs": [],
   "source": [
    "import numpy as np\n",
    "\n",
    "from numba import cuda\n",
    "from numba.cuda.random import create_xoroshiro128p_states, xoroshiro128p_uniform_float32"
   ]
  },
  {
   "cell_type": "code",
   "execution_count": null,
   "id": "7aa0591c-760d-4a0e-8ac8-cf23dc2c6157",
   "metadata": {},
   "outputs": [],
   "source": [
    "@cuda.jit\n",
    "def compute_pi(rng_states, n, out):\n",
    "    thread_id = cuda.grid(1)\n",
    "\n",
    "    # Compute pi by drawing random (x, y) points and finding\n",
    "    # the fraction that lie inside the unit circle\n",
    "    inside = 0\n",
    "    for i in range(n):\n",
    "        x = xoroshiro128p_uniform_float32(rng_states, thread_id)\n",
    "        y = xoroshiro128p_uniform_float32(rng_states, thread_id)\n",
    "        if x**2 + y**2 <= 1.0:\n",
    "            inside += 1\n",
    "\n",
    "    out[thread_id] = 4.0 * inside / n"
   ]
  },
  {
   "cell_type": "code",
   "execution_count": null,
   "id": "e89e37d4-47a8-4f63-84bd-cb764f46e139",
   "metadata": {},
   "outputs": [],
   "source": [
    "%%time\n",
    "\n",
    "threads_per_block = 64\n",
    "blocks = 32\n",
    "\n",
    "n = 500\n",
    "\n",
    "rng_states = create_xoroshiro128p_states(threads_per_block*blocks, seed=3252024)\n",
    "out = np.zeros(threads_per_block*blocks, dtype=np.float32)\n",
    "\n",
    "compute_pi[blocks, threads_per_block](rng_states, n, out)"
   ]
  },
  {
   "cell_type": "code",
   "execution_count": null,
   "id": "3cb07221-cb78-4aa4-bb2b-1c1da35cb945",
   "metadata": {},
   "outputs": [],
   "source": [
    "print(\"As if we sampled: \", threads_per_block*blocks*n)\n",
    "print(\"Pi: \", out.mean())"
   ]
  }
 ],
 "metadata": {
  "kernelspec": {
   "display_name": "Python 3 (ipykernel)",
   "language": "python",
   "name": "python3"
  },
  "language_info": {
   "codemirror_mode": {
    "name": "ipython",
    "version": 3
   },
   "file_extension": ".py",
   "mimetype": "text/x-python",
   "name": "python",
   "nbconvert_exporter": "python",
   "pygments_lexer": "ipython3",
   "version": "3.11.6"
  }
 },
 "nbformat": 4,
 "nbformat_minor": 5
}
