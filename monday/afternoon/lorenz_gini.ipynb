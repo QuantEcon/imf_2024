{
 "cells": [
  {
   "cell_type": "markdown",
   "id": "a461290c",
   "metadata": {},
   "source": [
    "# Programming Exercise: Lorenz Curves and Gini Coefficients\n",
    "\n",
    "-----\n",
    "\n",
    "#### Chase Coleman and John Stachurski\n",
    "\n",
    "#### Prepared for the QuantEcon ICD Computational Workshop (March 2024)\n",
    "\n",
    "This notebook contains some programming exercises related to the Lorenz curve\n",
    "and the Gini coefficient, which are often used to study inequality.\n",
    "\n",
    "Your task will be to compute these curves and values, replicating functionality\n",
    "that already exists in `quantecon`.\n",
    "\n",
    "Uncomment the following if necessary"
   ]
  },
  {
   "cell_type": "code",
   "execution_count": null,
   "id": "da1b975b",
   "metadata": {},
   "outputs": [],
   "source": [
    "#!pip install quantecon "
   ]
  },
  {
   "cell_type": "markdown",
   "id": "2fe037c9",
   "metadata": {},
   "source": [
    "We use the following imports."
   ]
  },
  {
   "cell_type": "code",
   "execution_count": null,
   "id": "ff98c1f3",
   "metadata": {},
   "outputs": [],
   "source": [
    "import numba\n",
    "import numpy as np\n",
    "import matplotlib.pyplot as plt\n",
    "import quantecon as qe"
   ]
  },
  {
   "cell_type": "markdown",
   "id": "58227578",
   "metadata": {},
   "source": [
    "## Preamble: The Lorenz curve and Gini coefficient\n",
    "\n",
    "\n",
    "### Definition\n",
    "\n",
    "Let $w_1, \\ldots, w_n$ be a sample of observations of wealth (or income, or consumption, or firm sizes, etc.) in a population.\n",
    "\n",
    "Suppose the sample has been sorted from smallest to largest.\n",
    "\n",
    "The Lorenz curve takes this sample and produces a curve $L$.\n",
    "\n",
    "To create it we first generate data points $(x_i, y_i)_{i=0}^n$  according to\n",
    "\n",
    "\\begin{equation*}\n",
    "    x_0 = y_0 = 0\n",
    "    \\qquad \\text{and, for $i \\geq 1$,} \\quad\n",
    "    x_i = \\frac{i}{n},\n",
    "    \\qquad\n",
    "    y_i =\n",
    "       \\frac{\\sum_{j \\leq i} w_j}{\\sum_{j \\leq n} w_j}  \n",
    "\\end{equation*}\n",
    "\n",
    "Now the Lorenz curve $L$ is formed from these data points using interpolation.\n",
    "\n",
    "The meaning of the statement $y = L(x)$ is that the lowest $(100 \\times x)$\\% of\n",
    "people have $(100 \\times y)$\\% of all wealth.\n",
    "\n",
    "* if $x=0.5$ and $y=0.1$, then the bottom 50% of the population\n",
    "  owns 10% of the wealth."
   ]
  },
  {
   "cell_type": "markdown",
   "id": "b5d6ed56",
   "metadata": {},
   "source": [
    "### Using QuantEcon's routine\n",
    "\n",
    "In the next figure, we generate $n=2000$ draws from a lognormal\n",
    "distribution and treat these draws as our population.  \n",
    "\n",
    "We then generate the Lorenz curve using a routine from `quantecon`.\n",
    "\n",
    "The straight line ($x=L(x)$ for all $x$) corresponds to perfect equality.  \n",
    "\n",
    "The lognormal draws produce a less equal distribution."
   ]
  },
  {
   "cell_type": "code",
   "execution_count": null,
   "id": "68488817",
   "metadata": {},
   "outputs": [],
   "source": [
    "n = 2000\n",
    "sample = np.exp(np.random.randn(n))       # Lognormal sample\n",
    "x, y = qe.lorenz_curve(sample)            # QuantEcon routine (no need to sort)\n",
    "\n",
    "fig, ax = plt.subplots()\n",
    "ax.plot(x, y, label=f'lognormal sample', lw=2)\n",
    "ax.plot(x, x, label='equality', lw=2)\n",
    "ax.legend(fontsize=12)\n",
    "ax.set_ylim((0, 1))\n",
    "ax.set_xlim((0, 1))\n",
    "j = 1600  # dashed lines for j-th element\n",
    "ax.vlines(x[j], [0.0], y[j], alpha=0.5, colors='k', ls='--')\n",
    "ax.hlines(y[j], [0], x[j], alpha=0.5, colors='k', ls='--')\n",
    "plt.show()"
   ]
  },
  {
   "cell_type": "markdown",
   "id": "fe0fb811",
   "metadata": {},
   "source": [
    "For example, if we imagine these draws as being observations of wealth across a\n",
    "sample of households, then the dashed lines show that the bottom 80\\% of\n",
    "households own just over 40\\% of total wealth."
   ]
  },
  {
   "cell_type": "markdown",
   "id": "eeab438a",
   "metadata": {},
   "source": [
    "**Exercise**\n",
    "\n",
    "Using the definition of the Lorenz curve given above and NumPy, try to write\n",
    "your own version of `qe.lorenz_curve`.  \n",
    "\n",
    "* If possible, accelerate your code with Numba\n",
    "* Try to replicate the figure above."
   ]
  },
  {
   "cell_type": "code",
   "execution_count": null,
   "id": "ab5de53e",
   "metadata": {},
   "outputs": [],
   "source": [
    "# Put your code here"
   ]
  },
  {
   "cell_type": "code",
   "execution_count": null,
   "id": "6c7dfe96",
   "metadata": {},
   "outputs": [],
   "source": [
    "for i in range(12):\n",
    "    print(\"Solution below.\")"
   ]
  },
  {
   "cell_type": "markdown",
   "id": "2a87b17f",
   "metadata": {},
   "source": [
    "**Solution**"
   ]
  },
  {
   "cell_type": "code",
   "execution_count": null,
   "id": "d47e1919",
   "metadata": {},
   "outputs": [],
   "source": [
    "@numba.jit\n",
    "def lorenz_curve(w):\n",
    "    n = len(w)\n",
    "    w = np.sort(w)\n",
    "    s = np.zeros(n + 1)\n",
    "    s[1:] = np.cumsum(w)  # s[i] = sum_{j <= i} w_j\n",
    "    x = np.zeros(n + 1)\n",
    "    y = np.zeros(n + 1)\n",
    "    for i in range(1, n + 1):\n",
    "        x[i] = i / n\n",
    "        y[i] = s[i] / s[n]\n",
    "    return x, y\n",
    "\n",
    "fig, ax = plt.subplots()\n",
    "ax.plot(x, y, label=f'lognormal sample', lw=2)\n",
    "ax.plot(x, x, label='equality', lw=2)\n",
    "ax.legend(fontsize=12)\n",
    "ax.set_ylim((0, 1))\n",
    "ax.set_xlim((0, 1))\n",
    "j = 1600  # dashed lines for j-th element\n",
    "ax.vlines(x[j], [0.0], y[j], alpha=0.5, colors='k', ls='--')\n",
    "ax.hlines(y[j], [0], x[j], alpha=0.5, colors='k', ls='--')\n",
    "plt.show()\n"
   ]
  },
  {
   "cell_type": "markdown",
   "id": "7829b301",
   "metadata": {},
   "source": [
    "## The Gini coefficient\n",
    "\n",
    "### Definition\n",
    "\n",
    "\n",
    "Continuing to assume that $w_1, \\ldots, w_n$ has been sorted from smallest to largest,\n",
    "the Gini coefficient of the sample is defined by\n",
    "\n",
    "\\begin{equation}\n",
    "    \\label{eq:gini}\n",
    "    G :=\n",
    "    \\frac\n",
    "        {\\sum_{i=1}^n \\sum_{j = 1}^n |w_j - w_i|}\n",
    "        {2n\\sum_{i=1}^n w_i}.\n",
    "\\end{equation}\n",
    "\n",
    "\n",
    "\n",
    "### Using quantecon's routine\n",
    "\n",
    "Let's examine the Gini coefficient in some simulations using `gini_coefficient`\n",
    "from `quantecon`.\n",
    "\n",
    "The following code computes the Gini coefficients for five different populations.\n",
    "\n",
    "Each of these populations is generated by drawing from a lognormal distribution with parameters $\\mu$ (mean) and $\\sigma$ (standard deviation).\n",
    "\n",
    "To create the five populations, we vary $\\sigma$ over a grid of length $5$\n",
    "between $0.2$ and $4$.\n",
    "\n",
    "In each case we set $\\mu = - \\sigma^2 / 2$, so that the mean of the distribution does not change with $\\sigma$."
   ]
  },
  {
   "cell_type": "code",
   "execution_count": null,
   "id": "cf987091",
   "metadata": {},
   "outputs": [],
   "source": [
    "k = 5\n",
    "σ_vals = np.linspace(0.2, 4, k)\n",
    "n = 2_000\n",
    "ginis = []\n",
    "for σ in σ_vals:\n",
    "    μ = -σ**2 / 2\n",
    "    y = np.exp(μ + σ * np.random.randn(n))\n",
    "    ginis.append(qe.gini_coefficient(y))"
   ]
  },
  {
   "cell_type": "code",
   "execution_count": null,
   "id": "00a0cc3a",
   "metadata": {},
   "outputs": [],
   "source": [
    "fig, ax = plt.subplots()\n",
    "ax.plot(σ_vals, ginis, marker='o')\n",
    "ax.set_xlabel('$\\sigma$', fontsize=12)\n",
    "ax.set_ylabel('Gini coefficient', fontsize=12)\n",
    "plt.show()"
   ]
  },
  {
   "cell_type": "markdown",
   "id": "f2cfeaa7",
   "metadata": {},
   "source": [
    "The plots show that inequality rises with $\\sigma$ (as measured by the Gini coefficient)."
   ]
  },
  {
   "cell_type": "markdown",
   "id": "94a098aa",
   "metadata": {},
   "source": [
    "**Exercise**\n",
    "\n",
    "Using the definition above and NumPy, try to write your own version of\n",
    "`qe.gini_coefficient`.  \n",
    "\n",
    "* Try to replicate the figure above.\n",
    "* If possible, accelerate your code with Numba\n",
    "* If possible, parallelize one of the loops"
   ]
  },
  {
   "cell_type": "code",
   "execution_count": null,
   "id": "0eef626a",
   "metadata": {},
   "outputs": [],
   "source": [
    "# Put your code here"
   ]
  },
  {
   "cell_type": "code",
   "execution_count": null,
   "id": "31ba5804",
   "metadata": {},
   "outputs": [],
   "source": [
    "for i in range(12):\n",
    "    print(\"Solution below.\")"
   ]
  },
  {
   "cell_type": "markdown",
   "id": "cfa10662",
   "metadata": {},
   "source": [
    "**Solution**"
   ]
  },
  {
   "cell_type": "markdown",
   "id": "0a510a41",
   "metadata": {},
   "source": [
    "Here's one solution.\n",
    "\n",
    "Notice how easy it is to parallelize the loop --- even though `s` is common across the outer loops, which violates independence, this loop is still efficiently parallelized."
   ]
  },
  {
   "cell_type": "code",
   "execution_count": null,
   "id": "da5e4cab",
   "metadata": {},
   "outputs": [],
   "source": [
    "@numba.jit(parallel=True)\n",
    "def gini_coefficient(w):\n",
    "    n = len(w)\n",
    "    s = 0.0\n",
    "    for i in numba.prange(n):\n",
    "        for j in range(n):\n",
    "            s += abs(w[i] - w[j])\n",
    "    return s / (2 * n * np.sum(w))"
   ]
  },
  {
   "cell_type": "code",
   "execution_count": null,
   "id": "e1fb08f9",
   "metadata": {},
   "outputs": [],
   "source": [
    "ginis = []\n",
    "\n",
    "for σ in σ_vals:\n",
    "    μ = -σ**2 / 2\n",
    "    y = np.exp(μ + σ * np.random.randn(n))\n",
    "    ginis.append(gini_coefficient(y))\n",
    "\n",
    "\n",
    "fig, ax = plt.subplots()\n",
    "ax.plot(σ_vals, ginis, marker='o')\n",
    "ax.set_xlabel('$\\sigma$', fontsize=12)\n",
    "ax.set_ylabel('Gini coefficient', fontsize=12)\n",
    "plt.show()"
   ]
  },
  {
   "cell_type": "code",
   "execution_count": null,
   "id": "f6a0669e",
   "metadata": {},
   "outputs": [],
   "source": []
  }
 ],
 "metadata": {
  "kernelspec": {
   "display_name": "Python 3 (ipykernel)",
   "language": "python",
   "name": "python3"
  }
 },
 "nbformat": 4,
 "nbformat_minor": 5
}
