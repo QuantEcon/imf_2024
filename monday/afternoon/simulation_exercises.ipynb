{
 "cells": [
  {
   "cell_type": "markdown",
   "id": "e8cd4d5d",
   "metadata": {},
   "source": [
    "# Simulation Exercises\n",
    "\n",
    "#### Prepared for the IMF Computational Workshop (March 2024)\n",
    "\n",
    "#### Chase Coleman and John Stachurski"
   ]
  },
  {
   "cell_type": "markdown",
   "id": "faa1ae37",
   "metadata": {},
   "source": [
    "This notebook contains some exercises related to simulation."
   ]
  },
  {
   "cell_type": "code",
   "execution_count": 32,
   "id": "e6a59aad",
   "metadata": {},
   "outputs": [],
   "source": [
    "import numpy as np\n",
    "import matplotlib.pyplot as plt\n",
    "import numba\n",
    "from numba import jit, prange"
   ]
  },
  {
   "cell_type": "markdown",
   "id": "a0454427",
   "metadata": {},
   "source": [
    "## Exercise\n",
    "\n",
    "Compute an approximation to $ \\pi $ using [Monte Carlo](https://en.wikipedia.org/wiki/Monte_Carlo_method).\n",
    "\n",
    "Your hints are as follows:\n",
    "\n",
    "- If $ U $ is a bivariate uniform random variable on the unit square $ (0, 1)^2 $, then the probability that $ U $ lies in a subset $ B $ of $ (0,1)^2 $ is equal to the area of $ B $.  \n",
    "- If $ U_1,\\ldots,U_n $ are IID copies of $ U $, then, as $ n $ gets large, the fraction that falls in $ B $, converges to the probability of landing in $ B $.  \n",
    "- For a circle, $ area = \\pi * radius^2 $."
   ]
  },
  {
   "cell_type": "code",
   "execution_count": 33,
   "id": "ef85ea00",
   "metadata": {},
   "outputs": [],
   "source": [
    "# Put your code here"
   ]
  },
  {
   "cell_type": "code",
   "execution_count": 34,
   "id": "18c50eda",
   "metadata": {},
   "outputs": [
    {
     "name": "stdout",
     "output_type": "stream",
     "text": [
      "solution below\n",
      "solution below\n",
      "solution below\n",
      "solution below\n",
      "solution below\n",
      "solution below\n",
      "solution below\n",
      "solution below\n",
      "solution below\n",
      "solution below\n",
      "solution below\n",
      "solution below\n"
     ]
    }
   ],
   "source": [
    "for _ in range(12):\n",
    "    print('solution below')"
   ]
  },
  {
   "cell_type": "markdown",
   "id": "42a4b12c",
   "metadata": {},
   "source": [
    "Consider the circle of diameter 1 embedded in the unit square.\n",
    "\n",
    "Let $ A $ be its area and let $ r=1/2 $ be its radius, so that $A = \\pi r^2 $.\n",
    "\n",
    "If we can estimate $A$ then we can estimate $ \\pi $ via $ \\pi = A / r^2 = 4A$.\n",
    "\n",
    "We estimate $A$ by sampling bivariate uniforms and looking at the fraction that falls into the circle."
   ]
  },
  {
   "cell_type": "code",
   "execution_count": 35,
   "id": "2efeeef5",
   "metadata": {},
   "outputs": [
    {
     "name": "stdout",
     "output_type": "stream",
     "text": [
      "3.140408\n"
     ]
    }
   ],
   "source": [
    "n = 1_000_000 # sample size for Monte Carlo simulation\n",
    "\n",
    "def in_circle(u, v):\n",
    "    \"\"\"\n",
    "    Test whether (u, v) falls within the unit circle centred at (0.5,0.5)\n",
    "    \"\"\"\n",
    "    d = np.sqrt((u - 0.5)**2 + (v - 0.5)**2)\n",
    "    return d < 0.5\n",
    "\n",
    "count = 0\n",
    "for i in range(n):\n",
    "\n",
    "    # drawing random positions on the square\n",
    "    u, v = np.random.uniform(0, 1), np.random.uniform(0, 1)\n",
    "\n",
    "    # if it falls within the circle, add it to the count\n",
    "    if in_circle(u, v):\n",
    "        count += 1\n",
    "\n",
    "area_estimate = count / n\n",
    "\n",
    "print(area_estimate * 4)  # dividing by radius**2"
   ]
  },
  {
   "cell_type": "markdown",
   "id": "4c72073f",
   "metadata": {},
   "source": [
    "## Exercise\n",
    "\n",
    "Accelerate the code from the previous exercise using Numba.  Time the difference."
   ]
  },
  {
   "cell_type": "code",
   "execution_count": 36,
   "id": "96e8aced",
   "metadata": {},
   "outputs": [
    {
     "name": "stdout",
     "output_type": "stream",
     "text": [
      "solution below\n",
      "solution below\n",
      "solution below\n",
      "solution below\n",
      "solution below\n",
      "solution below\n",
      "solution below\n",
      "solution below\n",
      "solution below\n",
      "solution below\n",
      "solution below\n",
      "solution below\n"
     ]
    }
   ],
   "source": [
    "for _ in range(12):\n",
    "    print('solution below')"
   ]
  },
  {
   "cell_type": "code",
   "execution_count": 37,
   "id": "1940675b",
   "metadata": {},
   "outputs": [],
   "source": [
    "def calculate_pi(n=1_000_000):\n",
    "    count = 0\n",
    "    for i in range(n):\n",
    "        u, v = np.random.uniform(0, 1), np.random.uniform(0, 1)\n",
    "        d = np.sqrt((u - 0.5)**2 + (v - 0.5)**2)\n",
    "        if d < 0.5:\n",
    "            count += 1\n",
    "    area_estimate = count / n\n",
    "    return area_estimate * 4  # dividing by radius**2"
   ]
  },
  {
   "cell_type": "code",
   "execution_count": 38,
   "id": "753a24e0",
   "metadata": {},
   "outputs": [
    {
     "name": "stdout",
     "output_type": "stream",
     "text": [
      "CPU times: user 4.97 s, sys: 0 ns, total: 4.97 s\n",
      "Wall time: 4.97 s\n"
     ]
    },
    {
     "data": {
      "text/plain": [
       "3.142372"
      ]
     },
     "execution_count": 38,
     "metadata": {},
     "output_type": "execute_result"
    }
   ],
   "source": [
    "%time calculate_pi()"
   ]
  },
  {
   "cell_type": "code",
   "execution_count": 39,
   "id": "8139e14d",
   "metadata": {},
   "outputs": [],
   "source": [
    "fast_calc_pi = jit(calculate_pi)"
   ]
  },
  {
   "cell_type": "code",
   "execution_count": 40,
   "id": "2029f9fb",
   "metadata": {},
   "outputs": [
    {
     "name": "stdout",
     "output_type": "stream",
     "text": [
      "CPU times: user 94.9 ms, sys: 20 µs, total: 95 ms\n",
      "Wall time: 94.4 ms\n"
     ]
    },
    {
     "data": {
      "text/plain": [
       "3.140484"
      ]
     },
     "execution_count": 40,
     "metadata": {},
     "output_type": "execute_result"
    }
   ],
   "source": [
    "%time fast_calc_pi()"
   ]
  },
  {
   "cell_type": "markdown",
   "id": "a0f8ca4e",
   "metadata": {},
   "source": [
    "And again to omit compile time:"
   ]
  },
  {
   "cell_type": "code",
   "execution_count": 41,
   "id": "5cadf881",
   "metadata": {},
   "outputs": [
    {
     "name": "stdout",
     "output_type": "stream",
     "text": [
      "CPU times: user 11.8 ms, sys: 0 ns, total: 11.8 ms\n",
      "Wall time: 11.7 ms\n"
     ]
    },
    {
     "data": {
      "text/plain": [
       "3.141012"
      ]
     },
     "execution_count": 41,
     "metadata": {},
     "output_type": "execute_result"
    }
   ],
   "source": [
    "%time fast_calc_pi()"
   ]
  },
  {
   "cell_type": "markdown",
   "id": "b2d35071",
   "metadata": {},
   "source": [
    "## Exercise\n",
    "\n",
    "Suppose that the volatility of returns on an asset can be in one of two regimes — high or low.\n",
    "\n",
    "The transition probabilities across states are as follows\n",
    "\n",
    "![https://python-programming.quantecon.org/_static/lecture_specific/sci_libs/nfs_ex1.png](https://python-programming.quantecon.org/_static/lecture_specific/sci_libs/nfs_ex1.png)\n",
    "\n",
    "  \n",
    "For example, let the period length be one day, and suppose the current state is high.\n",
    "\n",
    "We see from the graph that the state tomorrow will be\n",
    "\n",
    "- high with probability 0.8  \n",
    "- low with probability 0.2  \n",
    "\n",
    "\n",
    "Your task is to simulate a sequence of daily volatility states according to this rule.\n",
    "\n",
    "Set the length of the sequence to `n = 1_000_000` and start in the high state.\n",
    "\n",
    "Implement a pure Python version and a Numba version, and compare speeds.\n",
    "\n",
    "To test your code, evaluate the fraction of time that the chain spends in the low state.\n",
    "\n",
    "If your code is correct, it should be about 2/3.\n",
    "\n",
    "Hints:\n",
    "\n",
    "- Represent the low state as 0 and the high state as 1.  \n",
    "- If you want to store integers in a NumPy array and then apply JIT compilation, use `x = np.empty(n, dtype=numba.int64)` or similar."
   ]
  },
  {
   "cell_type": "code",
   "execution_count": 42,
   "id": "c2bc9dc2",
   "metadata": {},
   "outputs": [],
   "source": [
    "# Put your code here"
   ]
  },
  {
   "cell_type": "code",
   "execution_count": 43,
   "id": "65c06c10",
   "metadata": {},
   "outputs": [
    {
     "name": "stdout",
     "output_type": "stream",
     "text": [
      "solution below\n",
      "solution below\n",
      "solution below\n",
      "solution below\n",
      "solution below\n",
      "solution below\n",
      "solution below\n",
      "solution below\n",
      "solution below\n",
      "solution below\n",
      "solution below\n",
      "solution below\n"
     ]
    }
   ],
   "source": [
    "for _ in range(12):\n",
    "    print('solution below')"
   ]
  },
  {
   "cell_type": "markdown",
   "id": "856b20d9",
   "metadata": {},
   "source": [
    "We let\n",
    "\n",
    "- 0 represent “low”  \n",
    "- 1 represent “high”"
   ]
  },
  {
   "cell_type": "code",
   "execution_count": 44,
   "id": "258b5071",
   "metadata": {},
   "outputs": [],
   "source": [
    "p, q = 0.1, 0.2  # Prob of leaving low and high state respectively"
   ]
  },
  {
   "cell_type": "markdown",
   "id": "c86390d7",
   "metadata": {},
   "source": [
    "Here’s a pure Python version of the function"
   ]
  },
  {
   "cell_type": "code",
   "execution_count": 45,
   "id": "99853f71",
   "metadata": {},
   "outputs": [],
   "source": [
    "def compute_series(n):\n",
    "    x = np.empty(n, dtype=int)\n",
    "    x[0] = 1  # Start in state 1\n",
    "    U = np.random.uniform(0, 1, size=n)\n",
    "    for t in range(1, n):\n",
    "        current_x = x[t-1]\n",
    "        if current_x == 0:\n",
    "            x[t] = U[t] < p\n",
    "        else:\n",
    "            x[t] = U[t] > q\n",
    "    return x"
   ]
  },
  {
   "cell_type": "code",
   "execution_count": 46,
   "id": "6eb6b3de",
   "metadata": {},
   "outputs": [],
   "source": [
    "n = 1_000_000"
   ]
  },
  {
   "cell_type": "code",
   "execution_count": 47,
   "id": "42a03d6d",
   "metadata": {},
   "outputs": [
    {
     "name": "stdout",
     "output_type": "stream",
     "text": [
      "CPU times: user 514 ms, sys: 10 µs, total: 514 ms\n",
      "Wall time: 513 ms\n"
     ]
    }
   ],
   "source": [
    "%time x = compute_series(n)"
   ]
  },
  {
   "cell_type": "code",
   "execution_count": 48,
   "id": "e646eabe",
   "metadata": {},
   "outputs": [
    {
     "name": "stdout",
     "output_type": "stream",
     "text": [
      "0.666381\n"
     ]
    }
   ],
   "source": [
    "print(np.mean(x == 0))  # Fraction of time x is in state 0"
   ]
  },
  {
   "cell_type": "markdown",
   "id": "dc0405c3",
   "metadata": {},
   "source": [
    "Now let's speed it up:"
   ]
  },
  {
   "cell_type": "code",
   "execution_count": 49,
   "id": "965309e6",
   "metadata": {},
   "outputs": [],
   "source": [
    "@jit\n",
    "def fast_compute_series(n):\n",
    "    x = np.empty(n, dtype=numba.int8)\n",
    "    x[0] = 1  # Start in state 1\n",
    "    U = np.random.uniform(0, 1, size=n)\n",
    "    for t in range(1, n):\n",
    "        current_x = x[t-1]\n",
    "        if current_x == 0:\n",
    "            x[t] = U[t] < p\n",
    "        else:\n",
    "            x[t] = U[t] > q\n",
    "    return x"
   ]
  },
  {
   "cell_type": "markdown",
   "id": "cfdf4800",
   "metadata": {},
   "source": [
    "Run once to compile:"
   ]
  },
  {
   "cell_type": "code",
   "execution_count": 50,
   "id": "493e2340",
   "metadata": {},
   "outputs": [
    {
     "name": "stdout",
     "output_type": "stream",
     "text": [
      "CPU times: user 120 ms, sys: 0 ns, total: 120 ms\n",
      "Wall time: 119 ms\n"
     ]
    }
   ],
   "source": [
    "%time x = fast_compute_series(n)"
   ]
  },
  {
   "cell_type": "markdown",
   "id": "040a0274",
   "metadata": {},
   "source": [
    "Now let's check the speed:"
   ]
  },
  {
   "cell_type": "code",
   "execution_count": 51,
   "id": "dbef726b",
   "metadata": {},
   "outputs": [
    {
     "name": "stdout",
     "output_type": "stream",
     "text": [
      "CPU times: user 9.03 ms, sys: 0 ns, total: 9.03 ms\n",
      "Wall time: 9.14 ms\n"
     ]
    }
   ],
   "source": [
    "%time x = fast_compute_series(n)"
   ]
  },
  {
   "cell_type": "code",
   "execution_count": 52,
   "id": "f06ab801-e59b-4c16-b3e2-91a0daf02ade",
   "metadata": {},
   "outputs": [
    {
     "data": {
      "text/plain": [
       "0.666394"
      ]
     },
     "execution_count": 52,
     "metadata": {},
     "output_type": "execute_result"
    }
   ],
   "source": [
    "np.mean(x==0)"
   ]
  },
  {
   "cell_type": "markdown",
   "id": "d4b1cda2",
   "metadata": {},
   "source": [
    "**Exercise**\n",
    "\n",
    "\n",
    "We consider using Monte Carlo to price a European call option.\n",
    "\n",
    "The price of the option obeys \n",
    "\n",
    "$$\n",
    "P = \\beta^n \\mathbb E \\max\\{ S_n - K, 0 \\}\n",
    "$$\n",
    "\n",
    "where\n",
    "\n",
    "1. $\\beta$ is a discount factor,\n",
    "2. $n$ is the expiry date,\n",
    "2. $K$ is the strike price and\n",
    "3. $\\{S_t\\}$ is the price of the underlying asset at each time $t$.\n",
    "\n",
    "Suppose that `n, β, K = 20, 0.99, 100`.\n",
    "\n",
    "Assume that the stock price obeys \n",
    "\n",
    "$$ \n",
    "\\ln \\frac{S_{t+1}}{S_t} = \\mu + \\sigma_t \\xi_{t+1}\n",
    "$$\n",
    "\n",
    "where \n",
    "\n",
    "$$ \n",
    "    \\sigma_t = \\exp(h_t), \n",
    "    \\quad\n",
    "        h_{t+1} = \\rho h_t + \\nu \\eta_{t+1}\n",
    "$$\n",
    "\n",
    "Here $\\{\\xi_t\\}$ and $\\{\\eta_t\\}$ are IID and standard normal.\n",
    "\n",
    "(This is a stochastic volatility model, where the volatility $\\sigma_t$ varies over time.)\n",
    "\n",
    "Use the defaults `μ, ρ, ν, S0, h0 = 0.0001, 0.1, 0.001, 10, 0`.\n",
    "\n",
    "(Here `S0` is $S_0$ and `h0` is $h_0$.)\n",
    "\n",
    "By generating $M$ paths $s_0, \\ldots, s_n$, compute the Monte Carlo estimate \n",
    "\n",
    "$$\n",
    "    \\hat P_M \n",
    "    := \\beta^n \\mathbb E \\max\\{ S_n - K, 0 \\} \n",
    "    \\approx\n",
    "    \\frac{1}{M} \\sum_{m=1}^M \\max \\{S_n^m - K, 0 \\}\n",
    "$$\n",
    "    \n",
    "\n",
    "If you can, use Numba to speed up loops.\n",
    "\n",
    "If possible, use Numba-based multithreading (`parallel=True`) to speed it even\n",
    "further."
   ]
  },
  {
   "cell_type": "code",
   "execution_count": 53,
   "id": "dfa0f64a",
   "metadata": {},
   "outputs": [
    {
     "name": "stdout",
     "output_type": "stream",
     "text": [
      "solution below\n",
      "solution below\n",
      "solution below\n",
      "solution below\n",
      "solution below\n",
      "solution below\n",
      "solution below\n",
      "solution below\n",
      "solution below\n",
      "solution below\n",
      "solution below\n",
      "solution below\n"
     ]
    }
   ],
   "source": [
    "for _ in range(12):\n",
    "    print('solution below')"
   ]
  },
  {
   "cell_type": "markdown",
   "id": "4ea800af",
   "metadata": {},
   "source": [
    "**Solution**\n",
    "\n",
    "\n",
    "With $s_t := \\ln S_t$, the price dynamics become\n",
    "\n",
    "$$\n",
    "s_{t+1} = s_t + \\mu + \\exp(h_t) \\xi_{t+1}\n",
    "$$\n",
    "\n",
    "Using this fact, the solution can be written as follows."
   ]
  },
  {
   "cell_type": "code",
   "execution_count": 54,
   "id": "941fe736",
   "metadata": {},
   "outputs": [],
   "source": [
    "from numpy.random import randn\n",
    "M = 10_000_000\n",
    "\n",
    "n, β, K = 20, 0.99, 100\n",
    "μ, ρ, ν, S0, h0 = 0.0001, 0.1, 0.001, 10, 0\n",
    "\n",
    "@jit(parallel=True)\n",
    "def compute_call_price_parallel(β=β,\n",
    "                                μ=μ,\n",
    "                                S0=S0,\n",
    "                                h0=h0,\n",
    "                                K=K,\n",
    "                                n=n,\n",
    "                                ρ=ρ,\n",
    "                                ν=ν,\n",
    "                                M=M):\n",
    "    current_sum = 0.0\n",
    "    # For each sample path\n",
    "    for m in prange(M):\n",
    "        s = np.log(S0)\n",
    "        h = h0\n",
    "        # Simulate forward in time\n",
    "        for t in range(n):\n",
    "            s = s + μ + np.exp(h) * randn()\n",
    "            h = ρ * h + ν * randn()\n",
    "        # And add the value max{S_n - K, 0} to current_sum\n",
    "        current_sum += np.maximum(np.exp(s) - K, 0)\n",
    "        \n",
    "    return β**n * current_sum / M"
   ]
  },
  {
   "cell_type": "markdown",
   "id": "00094def",
   "metadata": {},
   "source": [
    "Try swapping between `parallel=True` and `parallel=False` and noting the run time.\n",
    "\n",
    "If you are on a machine with many CPUs, the difference should be significant."
   ]
  }
 ],
 "metadata": {
  "kernelspec": {
   "display_name": "Python 3 (ipykernel)",
   "language": "python",
   "name": "python3"
  },
  "language_info": {
   "codemirror_mode": {
    "name": "ipython",
    "version": 3
   },
   "file_extension": ".py",
   "mimetype": "text/x-python",
   "name": "python",
   "nbconvert_exporter": "python",
   "pygments_lexer": "ipython3",
   "version": "3.11.7"
  }
 },
 "nbformat": 4,
 "nbformat_minor": 5
}
