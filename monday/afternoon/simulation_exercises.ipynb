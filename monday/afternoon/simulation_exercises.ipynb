{
 "cells": [
  {
   "cell_type": "markdown",
   "id": "d12656b4",
   "metadata": {},
   "source": [
    "# Simulation Exercises\n",
    "\n",
    "#### Prepared for the IMF Computational Workshop (March 2024)\n",
    "\n",
    "#### Chase Coleman and John Stachurski"
   ]
  },
  {
   "cell_type": "markdown",
   "id": "c8146327",
   "metadata": {},
   "source": [
    "This notebook contains some exercises related to simulation."
   ]
  },
  {
   "cell_type": "code",
   "execution_count": null,
   "id": "72bd877b",
   "metadata": {},
   "outputs": [],
   "source": [
    "import numpy as np\n",
    "import matplotlib.pyplot as plt\n",
    "import numba\n",
    "from numba import jit, prange"
   ]
  },
  {
   "cell_type": "markdown",
   "id": "864d0bfd",
   "metadata": {},
   "source": [
    "## Exercise\n",
    "\n",
    "Compute an approximation to $ \\pi $ using [Monte Carlo](https://en.wikipedia.org/wiki/Monte_Carlo_method).\n",
    "\n",
    "Your hints are as follows:\n",
    "\n",
    "- If $ U $ is a bivariate uniform random variable on the unit square $ (0, 1)^2 $, then the probability that $ U $ lies in a subset $ B $ of $ (0,1)^2 $ is equal to the area of $ B $.  \n",
    "- If $ U_1,\\ldots,U_n $ are IID copies of $ U $, then, as $ n $ gets large, the fraction that falls in $ B $, converges to the probability of landing in $ B $.  \n",
    "- For a circle, $ area = \\pi * radius^2 $."
   ]
  },
  {
   "cell_type": "code",
   "execution_count": null,
   "id": "f37e5af0",
   "metadata": {},
   "outputs": [],
   "source": [
    "# Put your code here"
   ]
  },
  {
   "cell_type": "code",
   "execution_count": null,
   "id": "f720197a",
   "metadata": {},
   "outputs": [],
   "source": [
    "for _ in range(12):\n",
    "    print('solution below')"
   ]
  },
  {
   "cell_type": "markdown",
   "id": "5a1d6031",
   "metadata": {},
   "source": [
    "Consider the circle of diameter 1 embedded in the unit square.\n",
    "\n",
    "Let $ A $ be its area and let $ r=1/2 $ be its radius, so that $A = \\pi r^2 $.\n",
    "\n",
    "If we can estimate $A$ then we can estimate $ \\pi $ via $ \\pi = A / r^2 = 4A$.\n",
    "\n",
    "We estimate $A$ by sampling bivariate uniforms and looking at the fraction that falls into the circle."
   ]
  },
  {
   "cell_type": "code",
   "execution_count": null,
   "id": "92f15aef",
   "metadata": {},
   "outputs": [],
   "source": [
    "n = 1_000_000 # sample size for Monte Carlo simulation\n",
    "\n",
    "def in_circle(u, v):\n",
    "    \"\"\"\n",
    "    Test whether (u, v) falls within the unit circle centred at (0.5,0.5)\n",
    "    \"\"\"\n",
    "    d = np.sqrt((u - 0.5)**2 + (v - 0.5)**2)\n",
    "    return d < 0.5\n",
    "\n",
    "count = 0\n",
    "for i in range(n):\n",
    "\n",
    "    # drawing random positions on the square\n",
    "    u, v = np.random.uniform(0, 1), np.random.uniform(0, 1)\n",
    "\n",
    "    # if it falls within the circle, add it to the count\n",
    "    if in_circle(u, v):\n",
    "        count += 1\n",
    "\n",
    "area_estimate = count / n\n",
    "\n",
    "print(area_estimate * 4)  # dividing by radius**2"
   ]
  },
  {
   "cell_type": "markdown",
   "id": "04d60f72",
   "metadata": {},
   "source": [
    "## Exercise\n",
    "\n",
    "Accelerate the code from the previous exercise using Numba.  Time the difference."
   ]
  },
  {
   "cell_type": "code",
   "execution_count": null,
   "id": "b7ed4add",
   "metadata": {},
   "outputs": [],
   "source": [
    "for _ in range(12):\n",
    "    print('solution below')"
   ]
  },
  {
   "cell_type": "code",
   "execution_count": null,
   "id": "245be5de",
   "metadata": {},
   "outputs": [],
   "source": [
    "def calculate_pi(n=1_000_000):\n",
    "    count = 0\n",
    "    for i in range(n):\n",
    "        u, v = np.random.uniform(0, 1), np.random.uniform(0, 1)\n",
    "        d = np.sqrt((u - 0.5)**2 + (v - 0.5)**2)\n",
    "        if d < 0.5:\n",
    "            count += 1\n",
    "    area_estimate = count / n\n",
    "    return area_estimate * 4  # dividing by radius**2"
   ]
  },
  {
   "cell_type": "code",
   "execution_count": null,
   "id": "7a82bd0a",
   "metadata": {},
   "outputs": [],
   "source": [
    "%time calculate_pi()"
   ]
  },
  {
   "cell_type": "code",
   "execution_count": null,
   "id": "3b1b7b92",
   "metadata": {},
   "outputs": [],
   "source": [
    "fast_calc_pi = jit(calculate_pi)"
   ]
  },
  {
   "cell_type": "code",
   "execution_count": null,
   "id": "9a6447bb",
   "metadata": {},
   "outputs": [],
   "source": [
    "%time fast_calc_pi()"
   ]
  },
  {
   "cell_type": "markdown",
   "id": "069d5320",
   "metadata": {},
   "source": [
    "And again to omit compile time:"
   ]
  },
  {
   "cell_type": "code",
   "execution_count": null,
   "id": "e629d014",
   "metadata": {},
   "outputs": [],
   "source": [
    "%time fast_calc_pi()"
   ]
  },
  {
   "cell_type": "markdown",
   "id": "986988dd",
   "metadata": {},
   "source": [
    "## Exercise\n",
    "\n",
    "Suppose that the volatility of returns on an asset can be in one of two regimes — high or low.\n",
    "\n",
    "The transition probabilities across states are as follows\n",
    "\n",
    "![https://python-programming.quantecon.org/_static/lecture_specific/sci_libs/nfs_ex1.png](https://python-programming.quantecon.org/_static/lecture_specific/sci_libs/nfs_ex1.png)\n",
    "\n",
    "  \n",
    "For example, let the period length be one day, and suppose the current state is high.\n",
    "\n",
    "We see from the graph that the state tomorrow will be\n",
    "\n",
    "- high with probability 0.8  \n",
    "- low with probability 0.2  \n",
    "\n",
    "\n",
    "Your task is to simulate a sequence of daily volatility states according to this rule.\n",
    "\n",
    "Set the length of the sequence to `n = 1_000_000` and start in the high state.\n",
    "\n",
    "Implement a pure Python version and a Numba version, and compare speeds.\n",
    "\n",
    "To test your code, evaluate the fraction of time that the chain spends in the low state.\n",
    "\n",
    "If your code is correct, it should be about 2/3.\n",
    "\n",
    "Hints:\n",
    "\n",
    "- Represent the low state as 0 and the high state as 1.  \n",
    "- If you want to store integers in a NumPy array and then apply JIT compilation, use `x = np.empty(n, dtype=numba.int64)` or similar."
   ]
  },
  {
   "cell_type": "code",
   "execution_count": null,
   "id": "cd0a3754",
   "metadata": {},
   "outputs": [],
   "source": [
    "# Put your code here"
   ]
  },
  {
   "cell_type": "code",
   "execution_count": null,
   "id": "469c1d6b",
   "metadata": {},
   "outputs": [],
   "source": [
    "for _ in range(12):\n",
    "    print('solution below')"
   ]
  },
  {
   "cell_type": "markdown",
   "id": "d4c951d5",
   "metadata": {},
   "source": [
    "We let\n",
    "\n",
    "- 0 represent “low”  \n",
    "- 1 represent “high”"
   ]
  },
  {
   "cell_type": "code",
   "execution_count": null,
   "id": "748f2c95",
   "metadata": {},
   "outputs": [],
   "source": [
    "p, q = 0.1, 0.2  # Prob of leaving low and high state respectively"
   ]
  },
  {
   "cell_type": "markdown",
   "id": "3b229ee9",
   "metadata": {},
   "source": [
    "Here’s a pure Python version of the function"
   ]
  },
  {
   "cell_type": "code",
   "execution_count": null,
   "id": "5036e426",
   "metadata": {},
   "outputs": [],
   "source": [
    "def compute_series(n):\n",
    "    x = np.empty(n, dtype=int)\n",
    "    x[0] = 1  # Start in state 1\n",
    "    U = np.random.uniform(0, 1, size=n)\n",
    "    for t in range(1, n):\n",
    "        current_x = x[t-1]\n",
    "        if current_x == 0:\n",
    "            x[t] = U[t] < p\n",
    "        else:\n",
    "            x[t] = U[t] > q\n",
    "    return x"
   ]
  },
  {
   "cell_type": "code",
   "execution_count": null,
   "id": "9ed0228f",
   "metadata": {},
   "outputs": [],
   "source": [
    "n = 1_000_000"
   ]
  },
  {
   "cell_type": "code",
   "execution_count": null,
   "id": "8ce250e2",
   "metadata": {},
   "outputs": [],
   "source": [
    "%time x = compute_series(n)"
   ]
  },
  {
   "cell_type": "code",
   "execution_count": null,
   "id": "5d238830",
   "metadata": {},
   "outputs": [],
   "source": [
    "print(np.mean(x == 0))  # Fraction of time x is in state 0"
   ]
  },
  {
   "cell_type": "markdown",
   "id": "e7a86167",
   "metadata": {},
   "source": [
    "Now let's speed it up:"
   ]
  },
  {
   "cell_type": "code",
   "execution_count": null,
   "id": "6e894fcb",
   "metadata": {},
   "outputs": [],
   "source": [
    "@jit\n",
    "def fast_compute_series(n):\n",
    "    x = np.empty(n, dtype=numba.int8)\n",
    "    x[0] = 1  # Start in state 1\n",
    "    U = np.random.uniform(0, 1, size=n)\n",
    "    for t in range(1, n):\n",
    "        current_x = x[t-1]\n",
    "        if current_x == 0:\n",
    "            x[t] = U[t] < p\n",
    "        else:\n",
    "            x[t] = U[t] > q\n",
    "    return x"
   ]
  },
  {
   "cell_type": "markdown",
   "id": "5296e6fe",
   "metadata": {},
   "source": [
    "Run once to compile:"
   ]
  },
  {
   "cell_type": "code",
   "execution_count": null,
   "id": "5b890bab",
   "metadata": {},
   "outputs": [],
   "source": [
    "%time fast_compute_series(n)"
   ]
  },
  {
   "cell_type": "markdown",
   "id": "00e68669",
   "metadata": {},
   "source": [
    "Now let's check the speed:"
   ]
  },
  {
   "cell_type": "code",
   "execution_count": null,
   "id": "ba0a4a5b",
   "metadata": {},
   "outputs": [],
   "source": [
    "%time fast_compute_series(n)"
   ]
  },
  {
   "cell_type": "markdown",
   "id": "d7d9a5fc",
   "metadata": {},
   "source": [
    "**Exercise**\n",
    "\n",
    "\n",
    "We consider using Monte Carlo to price a European call option.\n",
    "\n",
    "The price of the option obeys \n",
    "\n",
    "$$\n",
    "P = \\beta^n \\mathbb E \\max\\{ S_n - K, 0 \\}\n",
    "$$\n",
    "\n",
    "where\n",
    "\n",
    "1. $\\beta$ is a discount factor,\n",
    "2. $n$ is the expiry date,\n",
    "2. $K$ is the strike price and\n",
    "3. $\\{S_t\\}$ is the price of the underlying asset at each time $t$.\n",
    "\n",
    "Suppose that `n, β, K = 20, 0.99, 100`.\n",
    "\n",
    "Assume that the stock price obeys \n",
    "\n",
    "$$ \n",
    "\\ln \\frac{S_{t+1}}{S_t} = \\mu + \\sigma_t \\xi_{t+1}\n",
    "$$\n",
    "\n",
    "where \n",
    "\n",
    "$$ \n",
    "    \\sigma_t = \\exp(h_t), \n",
    "    \\quad\n",
    "        h_{t+1} = \\rho h_t + \\nu \\eta_{t+1}\n",
    "$$\n",
    "\n",
    "Here $\\{\\xi_t\\}$ and $\\{\\eta_t\\}$ are IID and standard normal.\n",
    "\n",
    "(This is a stochastic volatility model, where the volatility $\\sigma_t$ varies over time.)\n",
    "\n",
    "Use the defaults `μ, ρ, ν, S0, h0 = 0.0001, 0.1, 0.001, 10, 0`.\n",
    "\n",
    "(Here `S0` is $S_0$ and `h0` is $h_0$.)\n",
    "\n",
    "By generating $M$ paths $s_0, \\ldots, s_n$, compute the Monte Carlo estimate \n",
    "\n",
    "$$\n",
    "    \\hat P_M \n",
    "    := \\beta^n \\mathbb E \\max\\{ S_n - K, 0 \\} \n",
    "    \\approx\n",
    "    \\beta^n \\frac{1}{M} \\sum_{m=1}^M \\max \\{S_n^m - K, 0 \\}\n",
    "$$\n",
    "    \n",
    "\n",
    "If you can, use Numba to speed up loops.\n",
    "\n",
    "If possible, use Numba-based multithreading (`parallel=True`) to speed it even\n",
    "further."
   ]
  },
  {
   "cell_type": "code",
   "execution_count": null,
   "id": "0d96dbed",
   "metadata": {},
   "outputs": [],
   "source": [
    "for _ in range(12):\n",
    "    print('solution below')"
   ]
  },
  {
   "cell_type": "markdown",
   "id": "33b1d27c",
   "metadata": {},
   "source": [
    "**Solution**\n",
    "\n",
    "\n",
    "With $s_t := \\ln S_t$, the price dynamics become\n",
    "\n",
    "$$\n",
    "s_{t+1} = s_t + \\mu + \\exp(h_t) \\xi_{t+1}\n",
    "$$\n",
    "\n",
    "Using this fact, the solution can be written as follows."
   ]
  },
  {
   "cell_type": "code",
   "execution_count": null,
   "id": "c5193861",
   "metadata": {},
   "outputs": [],
   "source": [
    "from numpy.random import randn\n",
    "M = 10_000_000\n",
    "\n",
    "n, β, K = 20, 0.99, 100\n",
    "μ, ρ, ν, S0, h0 = 0.0001, 0.1, 0.001, 10, 0\n",
    "\n",
    "@jit(parallel=True)\n",
    "def compute_call_price_parallel(β=β,\n",
    "                                μ=μ,\n",
    "                                S0=S0,\n",
    "                                h0=h0,\n",
    "                                K=K,\n",
    "                                n=n,\n",
    "                                ρ=ρ,\n",
    "                                ν=ν,\n",
    "                                M=M):\n",
    "    current_sum = 0.0\n",
    "    # For each sample path\n",
    "    for m in prange(M):\n",
    "        s = np.log(S0)\n",
    "        h = h0\n",
    "        # Simulate forward in time\n",
    "        for t in range(n):\n",
    "            s = s + μ + np.exp(h) * randn()\n",
    "            h = ρ * h + ν * randn()\n",
    "        # And add the value max{S_n - K, 0} to current_sum\n",
    "        current_sum += np.maximum(np.exp(s) - K, 0)\n",
    "        \n",
    "    return β**n * current_sum / M"
   ]
  },
  {
   "cell_type": "markdown",
   "id": "81d66980",
   "metadata": {},
   "source": [
    "Try swapping between `parallel=True` and `parallel=False` and noting the run time.\n",
    "\n",
    "If you are on a machine with many CPUs, the difference should be significant."
   ]
  }
 ],
 "metadata": {
  "kernelspec": {
   "display_name": "Python 3 (ipykernel)",
   "language": "python",
   "name": "python3"
  }
 },
 "nbformat": 4,
 "nbformat_minor": 5
}
