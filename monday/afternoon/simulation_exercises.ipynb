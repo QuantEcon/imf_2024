{
 "cells": [
  {
   "cell_type": "markdown",
   "id": "6074816c",
   "metadata": {},
   "source": [
    "# Simulation Exercises\n",
    "\n",
    "#### Prepared for the IMF Computational Workshop (March 2024)\n",
    "\n",
    "#### Chase Coleman and John Stachurski"
   ]
  },
  {
   "cell_type": "markdown",
   "id": "3993413f",
   "metadata": {},
   "source": [
    "This notebook contains some exercises related to simulation."
   ]
  },
  {
   "cell_type": "code",
   "execution_count": null,
   "id": "be00dc01",
   "metadata": {},
   "outputs": [],
   "source": [
    "import numpy as np\n",
    "import matplotlib.pyplot as plt\n",
    "from numba import jit, njit, prange"
   ]
  },
  {
   "cell_type": "markdown",
   "id": "23c828a0",
   "metadata": {},
   "source": [
    "## Exercise\n",
    "\n",
    "Compute an approximation to $ \\pi $ using [Monte Carlo](https://en.wikipedia.org/wiki/Monte_Carlo_method).\n",
    "\n",
    "Use new imports.  Your hints are as follows:\n",
    "\n",
    "- If $ U $ is a bivariate uniform random variable on the unit square $ (0, 1)^2 $, then the probability that $ U $ lies in a subset $ B $ of $ (0,1)^2 $ is equal to the area of $ B $.  \n",
    "- If $ U_1,\\ldots,U_n $ are IID copies of $ U $, then, as $ n $ gets large, the fraction that falls in $ B $, converges to the probability of landing in $ B $.  \n",
    "- For a circle, $ area = \\pi * radius^2 $."
   ]
  },
  {
   "cell_type": "code",
   "execution_count": null,
   "id": "6b06f581",
   "metadata": {},
   "outputs": [],
   "source": [
    "# Put your code here"
   ]
  },
  {
   "cell_type": "code",
   "execution_count": null,
   "id": "0005d48d",
   "metadata": {},
   "outputs": [],
   "source": [
    "for _ in range(12):\n",
    "    print('solution below')"
   ]
  },
  {
   "cell_type": "markdown",
   "id": "40b877f8",
   "metadata": {},
   "source": [
    "Consider the circle of diameter 1 embedded in the unit square.\n",
    "\n",
    "Let $ A $ be its area and let $ r=1/2 $ be its radius.\n",
    "\n",
    "If we know $ \\pi $ then we can compute $ A $ via\n",
    "$ A = \\pi r^2 $.\n",
    "\n",
    "But here the point is to compute $ \\pi $, which we can do by\n",
    "$ \\pi = A / r^2 $.\n",
    "\n",
    "Summary: If we can estimate the area of a circle with diameter 1, then dividing\n",
    "by $ r^2 = (1/2)^2 = 1/4 $ gives an estimate of $ \\pi $.\n",
    "\n",
    "We estimate the area by sampling bivariate uniforms and looking at the\n",
    "fraction that falls into the circle."
   ]
  },
  {
   "cell_type": "code",
   "execution_count": null,
   "id": "1af08a02",
   "metadata": {},
   "outputs": [],
   "source": [
    "n = 1000000 # sample size for Monte Carlo simulation\n",
    "\n",
    "count = 0\n",
    "for i in range(n):\n",
    "\n",
    "    # drawing random positions on the square\n",
    "    u, v = np.random.uniform(0, 1), np.random.uniform(0, 1)\n",
    "\n",
    "    # check whether the point falls within the boundary\n",
    "    # of the unit circle centred at (0.5,0.5)\n",
    "    d = np.sqrt((u - 0.5)**2 + (v - 0.5)**2)\n",
    "\n",
    "    # if it falls within the inscribed circle, \n",
    "    # add it to the count\n",
    "    if d < 0.5:\n",
    "        count += 1\n",
    "\n",
    "area_estimate = count / n\n",
    "\n",
    "print(area_estimate * 4)  # dividing by radius**2"
   ]
  },
  {
   "cell_type": "markdown",
   "id": "3a94278c",
   "metadata": {},
   "source": [
    "## Exercise\n",
    "\n",
    "Accelerate the code from the previous exercise using Numba.  Time the difference."
   ]
  },
  {
   "cell_type": "code",
   "execution_count": null,
   "id": "0df0691a",
   "metadata": {},
   "outputs": [],
   "source": [
    "for _ in range(12):\n",
    "    print('solution below')"
   ]
  },
  {
   "cell_type": "code",
   "execution_count": null,
   "id": "d6449487",
   "metadata": {},
   "outputs": [],
   "source": [
    "def calculate_pi(n=1_000_000):\n",
    "    count = 0\n",
    "    for i in range(n):\n",
    "        u, v = np.random.uniform(0, 1), np.random.uniform(0, 1)\n",
    "        d = np.sqrt((u - 0.5)**2 + (v - 0.5)**2)\n",
    "        if d < 0.5:\n",
    "            count += 1\n",
    "\n",
    "    area_estimate = count / n\n",
    "    return area_estimate * 4  # dividing by radius**2"
   ]
  },
  {
   "cell_type": "code",
   "execution_count": null,
   "id": "f4a62061",
   "metadata": {},
   "outputs": [],
   "source": [
    "%time calculate_pi()"
   ]
  },
  {
   "cell_type": "code",
   "execution_count": null,
   "id": "e5e34398",
   "metadata": {},
   "outputs": [],
   "source": [
    "fast_calc_pi = njit(calculate_pi)"
   ]
  },
  {
   "cell_type": "code",
   "execution_count": null,
   "id": "e8ae2161",
   "metadata": {},
   "outputs": [],
   "source": [
    "%time fast_calc_pi()"
   ]
  },
  {
   "cell_type": "markdown",
   "id": "778e7bad",
   "metadata": {},
   "source": [
    "And again to omit compile time:"
   ]
  },
  {
   "cell_type": "code",
   "execution_count": null,
   "id": "a04eefbc",
   "metadata": {},
   "outputs": [],
   "source": [
    "%time fast_calc_pi()"
   ]
  },
  {
   "cell_type": "markdown",
   "id": "5e64e3f2",
   "metadata": {},
   "source": [
    "## Exercise\n",
    "\n",
    "Suppose that the volatility of returns on an asset can be in one of two regimes — high or low.\n",
    "\n",
    "The transition probabilities across states are as follows\n",
    "\n",
    "![https://python-programming.quantecon.org/_static/lecture_specific/sci_libs/nfs_ex1.png](https://python-programming.quantecon.org/_static/lecture_specific/sci_libs/nfs_ex1.png)\n",
    "\n",
    "  \n",
    "For example, let the period length be one day, and suppose the current state is high.\n",
    "\n",
    "We see from the graph that the state tomorrow will be\n",
    "\n",
    "- high with probability 0.8  \n",
    "- low with probability 0.2  \n",
    "\n",
    "\n",
    "Your task is to simulate a sequence of daily volatility states according to this rule.\n",
    "\n",
    "Set the length of the sequence to `n = 1_000_000` and start in the high state.\n",
    "\n",
    "Implement a pure Python version and a Numba version, and compare speeds.\n",
    "\n",
    "To test your code, evaluate the fraction of time that the chain spends in the low state.\n",
    "\n",
    "If your code is correct, it should be about 2/3.\n",
    "\n",
    "Hints:\n",
    "\n",
    "- Represent the low state as 0 and the high state as 1.  \n",
    "- If you want to store integers in a NumPy array and then apply JIT compilation, use `x = np.empty(n, dtype=np.int_)`."
   ]
  },
  {
   "cell_type": "code",
   "execution_count": null,
   "id": "483c3416",
   "metadata": {},
   "outputs": [],
   "source": [
    "# Put your code here"
   ]
  },
  {
   "cell_type": "code",
   "execution_count": null,
   "id": "b0c66fb8",
   "metadata": {},
   "outputs": [],
   "source": [
    "for _ in range(12):\n",
    "    print('solution below')"
   ]
  },
  {
   "cell_type": "markdown",
   "id": "1f902e37",
   "metadata": {},
   "source": [
    "We let\n",
    "\n",
    "- 0 represent “low”  \n",
    "- 1 represent “high”"
   ]
  },
  {
   "cell_type": "code",
   "execution_count": null,
   "id": "aa58d6d8",
   "metadata": {},
   "outputs": [],
   "source": [
    "p, q = 0.1, 0.2  # Prob of leaving low and high state respectively"
   ]
  },
  {
   "cell_type": "markdown",
   "id": "5e245896",
   "metadata": {},
   "source": [
    "Here’s a pure Python version of the function"
   ]
  },
  {
   "cell_type": "code",
   "execution_count": null,
   "id": "eb1cd05f",
   "metadata": {},
   "outputs": [],
   "source": [
    "def compute_series(n):\n",
    "    x = np.empty(n, dtype=np.int_)\n",
    "    x[0] = 1  # Start in state 1\n",
    "    U = np.random.uniform(0, 1, size=n)\n",
    "    for t in range(1, n):\n",
    "        current_x = x[t-1]\n",
    "        if current_x == 0:\n",
    "            x[t] = U[t] < p\n",
    "        else:\n",
    "            x[t] = U[t] > q\n",
    "    return x"
   ]
  },
  {
   "cell_type": "code",
   "execution_count": null,
   "id": "c3a30e23",
   "metadata": {},
   "outputs": [],
   "source": [
    "n = 1_000_000"
   ]
  },
  {
   "cell_type": "code",
   "execution_count": null,
   "id": "693065f7",
   "metadata": {},
   "outputs": [],
   "source": [
    "%time x = compute_series(n)"
   ]
  },
  {
   "cell_type": "code",
   "execution_count": null,
   "id": "23218b3a",
   "metadata": {},
   "outputs": [],
   "source": [
    "print(np.mean(x == 0))  # Fraction of time x is in state 0"
   ]
  },
  {
   "cell_type": "markdown",
   "id": "f7f288c4",
   "metadata": {},
   "source": [
    "Now let's speed it up:"
   ]
  },
  {
   "cell_type": "code",
   "execution_count": null,
   "id": "1385477d",
   "metadata": {},
   "outputs": [],
   "source": [
    "fast_compute_series = njit(compute_series)"
   ]
  },
  {
   "cell_type": "markdown",
   "id": "fc45a9a9",
   "metadata": {},
   "source": [
    "Run once to compile:"
   ]
  },
  {
   "cell_type": "code",
   "execution_count": null,
   "id": "d5d09dd1",
   "metadata": {},
   "outputs": [],
   "source": [
    "%time fast_compute_series(n)"
   ]
  },
  {
   "cell_type": "markdown",
   "id": "e432281d",
   "metadata": {},
   "source": [
    "Now let's check the speed:"
   ]
  },
  {
   "cell_type": "code",
   "execution_count": null,
   "id": "ca067485",
   "metadata": {},
   "outputs": [],
   "source": [
    "%time fast_compute_series(n)"
   ]
  },
  {
   "cell_type": "markdown",
   "id": "f0700514",
   "metadata": {},
   "source": [
    "**Exercise**\n",
    "\n",
    "\n",
    "We consider using Monte Carlo to price a European call option.\n",
    "\n",
    "The price of the option obeys \n",
    "\n",
    "$$\n",
    "P = \\beta^n \\mathbb E \\max\\{ S_n - K, 0 \\}\n",
    "$$\n",
    "\n",
    "where\n",
    "\n",
    "1. $\\beta$ is a discount factor,\n",
    "2. $n$ is the expiry date,\n",
    "2. $K$ is the strike price and\n",
    "3. $\\{S_t\\}$ is the price of the underlying asset at each time $t$.\n",
    "\n",
    "Suppose that `n, β, K = 20, 0.99, 100`.\n",
    "\n",
    "Assume that the stock price obeys \n",
    "\n",
    "$$ \n",
    "\\ln \\frac{S_{t+1}}{S_t} = \\mu + \\sigma_t \\xi_{t+1}\n",
    "$$\n",
    "\n",
    "where \n",
    "\n",
    "$$ \n",
    "    \\sigma_t = \\exp(h_t), \n",
    "    \\quad\n",
    "        h_{t+1} = \\rho h_t + \\nu \\eta_{t+1}\n",
    "$$\n",
    "\n",
    "Here $\\{\\xi_t\\}$ and $\\{\\eta_t\\}$ are IID and standard normal.\n",
    "\n",
    "(This is a stochastic volatility model, where the volatility $\\sigma_t$ varies over time.)\n",
    "\n",
    "Use the defaults `μ, ρ, ν, S0, h0 = 0.0001, 0.1, 0.001, 10, 0`.\n",
    "\n",
    "(Here `S0` is $S_0$ and `h0` is $h_0$.)\n",
    "\n",
    "By generating $M$ paths $s_0, \\ldots, s_n$, compute the Monte Carlo estimate \n",
    "\n",
    "$$\n",
    "    \\hat P_M \n",
    "    := \\beta^n \\mathbb E \\max\\{ S_n - K, 0 \\} \n",
    "    \\approx\n",
    "    \\frac{1}{M} \\sum_{m=1}^M \\max \\{S_n^m - K, 0 \\}\n",
    "$$\n",
    "    \n",
    "\n",
    "If you can, use Numba to speed up loops.\n",
    "\n",
    "If possible, use Numba-based multithreading (`parallel=True`) to speed it even\n",
    "further."
   ]
  },
  {
   "cell_type": "code",
   "execution_count": null,
   "id": "3e692a94",
   "metadata": {},
   "outputs": [],
   "source": [
    "for _ in range(12):\n",
    "    print('solution below')"
   ]
  },
  {
   "cell_type": "markdown",
   "id": "61a1937a",
   "metadata": {},
   "source": [
    "**Solution**\n",
    "\n",
    "\n",
    "With $s_t := \\ln S_t$, the price dynamics become\n",
    "\n",
    "$$\n",
    "s_{t+1} = s_t + \\mu + \\exp(h_t) \\xi_{t+1}\n",
    "$$\n",
    "\n",
    "Using this fact, the solution can be written as follows."
   ]
  },
  {
   "cell_type": "code",
   "execution_count": null,
   "id": "cdff6931",
   "metadata": {},
   "outputs": [],
   "source": [
    "from numpy.random import randn\n",
    "M = 10_000_000\n",
    "\n",
    "n, β, K = 20, 0.99, 100\n",
    "μ, ρ, ν, S0, h0 = 0.0001, 0.1, 0.001, 10, 0\n",
    "\n",
    "@njit(parallel=True)\n",
    "def compute_call_price_parallel(β=β,\n",
    "                                μ=μ,\n",
    "                                S0=S0,\n",
    "                                h0=h0,\n",
    "                                K=K,\n",
    "                                n=n,\n",
    "                                ρ=ρ,\n",
    "                                ν=ν,\n",
    "                                M=M):\n",
    "    current_sum = 0.0\n",
    "    # For each sample path\n",
    "    for m in prange(M):\n",
    "        s = np.log(S0)\n",
    "        h = h0\n",
    "        # Simulate forward in time\n",
    "        for t in range(n):\n",
    "            s = s + μ + np.exp(h) * randn()\n",
    "            h = ρ * h + ν * randn()\n",
    "        # And add the value max{S_n - K, 0} to current_sum\n",
    "        current_sum += np.maximum(np.exp(s) - K, 0)\n",
    "        \n",
    "    return β**n * current_sum / M"
   ]
  },
  {
   "cell_type": "markdown",
   "id": "515ce274",
   "metadata": {},
   "source": [
    "Try swapping between `parallel=True` and `parallel=False` and noting the run time.\n",
    "\n",
    "If you are on a machine with many CPUs, the difference should be significant."
   ]
  }
 ],
 "metadata": {
  "kernelspec": {
   "display_name": "Python 3 (ipykernel)",
   "language": "python",
   "name": "python3"
  }
 },
 "nbformat": 4,
 "nbformat_minor": 5
}
