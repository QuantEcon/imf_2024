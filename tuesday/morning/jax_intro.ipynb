{
 "cells": [
  {
   "cell_type": "markdown",
   "id": "24cfc7f1",
   "metadata": {},
   "source": [
    "# An Introduction to JAX\n",
    "\n",
    "----\n",
    "\n",
    "#### Chase Coleman and John Stachurski\n",
    "\n",
    "#### Prepared for the QuantEcon ICD Workshop (March 2024)\n",
    "\n",
    "----\n",
    "\n",
    "\n",
    "This lecture provides a short introduction to [Google JAX](https://github.com/google/jax).\n",
    "\n",
    "What GPUs do we have access to?"
   ]
  },
  {
   "cell_type": "code",
   "execution_count": 1,
   "id": "e0f3a0ac",
   "metadata": {},
   "outputs": [
    {
     "name": "stdout",
     "output_type": "stream",
     "text": [
      "Tue Mar 26 08:08:26 2024       \n",
      "+---------------------------------------------------------------------------------------+\n",
      "| NVIDIA-SMI 535.161.07             Driver Version: 535.161.07   CUDA Version: 12.2     |\n",
      "|-----------------------------------------+----------------------+----------------------+\n",
      "| GPU  Name                 Persistence-M | Bus-Id        Disp.A | Volatile Uncorr. ECC |\n",
      "| Fan  Temp   Perf          Pwr:Usage/Cap |         Memory-Usage | GPU-Util  Compute M. |\n",
      "|                                         |                      |               MIG M. |\n",
      "|=========================================+======================+======================|\n",
      "|   0  NVIDIA RTX A2000 8GB Lap...    Off | 00000000:01:00.0 Off |                  N/A |\n",
      "| N/A   46C    P0              N/A /  35W |     12MiB /  8192MiB |      0%      Default |\n",
      "|                                         |                      |                  N/A |\n",
      "+-----------------------------------------+----------------------+----------------------+\n",
      "                                                                                         \n",
      "+---------------------------------------------------------------------------------------+\n",
      "| Processes:                                                                            |\n",
      "|  GPU   GI   CI        PID   Type   Process name                            GPU Memory |\n",
      "|        ID   ID                                                             Usage      |\n",
      "|=======================================================================================|\n",
      "|    0   N/A  N/A      1853      G   /usr/lib/xorg/Xorg                            4MiB |\n",
      "|    0   N/A  N/A      3054      G   /usr/lib/xorg/Xorg                            4MiB |\n",
      "+---------------------------------------------------------------------------------------+\n"
     ]
    }
   ],
   "source": [
    "!nvidia-smi"
   ]
  },
  {
   "cell_type": "markdown",
   "id": "672ed70f",
   "metadata": {},
   "source": [
    "## JAX as a NumPy Replacement\n",
    "\n",
    "\n",
    "One way to use JAX is as a plug-in NumPy replacement. Let's look at the\n",
    "similarities and differences.\n",
    "\n",
    "### Similarities\n",
    "\n",
    "\n",
    "The following import is standard, replacing `import numpy as np`:"
   ]
  },
  {
   "cell_type": "code",
   "execution_count": 2,
   "id": "425d90d8",
   "metadata": {},
   "outputs": [],
   "source": [
    "import jax\n",
    "import jax.numpy as jnp"
   ]
  },
  {
   "cell_type": "markdown",
   "id": "19c7dee8",
   "metadata": {},
   "source": [
    "Now we can use `jnp` in place of `np` for the usual array operations:"
   ]
  },
  {
   "cell_type": "code",
   "execution_count": 3,
   "id": "f6a70970",
   "metadata": {},
   "outputs": [],
   "source": [
    "a = jnp.asarray((1.0, 3.2, -1.5))"
   ]
  },
  {
   "cell_type": "code",
   "execution_count": 4,
   "id": "419f9a94",
   "metadata": {},
   "outputs": [
    {
     "name": "stdout",
     "output_type": "stream",
     "text": [
      "[ 1.   3.2 -1.5]\n"
     ]
    }
   ],
   "source": [
    "print(a)"
   ]
  },
  {
   "cell_type": "code",
   "execution_count": 5,
   "id": "7c488bb8",
   "metadata": {},
   "outputs": [
    {
     "name": "stdout",
     "output_type": "stream",
     "text": [
      "2.6999998\n"
     ]
    }
   ],
   "source": [
    "print(jnp.sum(a))"
   ]
  },
  {
   "cell_type": "code",
   "execution_count": 6,
   "id": "15215ae7",
   "metadata": {},
   "outputs": [
    {
     "name": "stdout",
     "output_type": "stream",
     "text": [
      "0.9\n"
     ]
    }
   ],
   "source": [
    "print(jnp.mean(a))"
   ]
  },
  {
   "cell_type": "code",
   "execution_count": 7,
   "id": "11a81304",
   "metadata": {},
   "outputs": [
    {
     "name": "stdout",
     "output_type": "stream",
     "text": [
      "13.490001\n"
     ]
    }
   ],
   "source": [
    "print(jnp.dot(a, a))"
   ]
  },
  {
   "cell_type": "code",
   "execution_count": 8,
   "id": "8df5a7d8",
   "metadata": {},
   "outputs": [
    {
     "name": "stdout",
     "output_type": "stream",
     "text": [
      "13.490001\n"
     ]
    }
   ],
   "source": [
    "print(a @ a)  # Equivalent"
   ]
  },
  {
   "cell_type": "markdown",
   "id": "0f69722c",
   "metadata": {},
   "source": [
    "However, the array object `a` is not a NumPy array:"
   ]
  },
  {
   "cell_type": "code",
   "execution_count": 9,
   "id": "41722f95",
   "metadata": {},
   "outputs": [
    {
     "data": {
      "text/plain": [
       "Array([ 1. ,  3.2, -1.5], dtype=float32)"
      ]
     },
     "execution_count": 9,
     "metadata": {},
     "output_type": "execute_result"
    }
   ],
   "source": [
    "a"
   ]
  },
  {
   "cell_type": "code",
   "execution_count": 10,
   "id": "50628c1f",
   "metadata": {},
   "outputs": [
    {
     "data": {
      "text/plain": [
       "jaxlib.xla_extension.ArrayImpl"
      ]
     },
     "execution_count": 10,
     "metadata": {},
     "output_type": "execute_result"
    }
   ],
   "source": [
    "type(a)"
   ]
  },
  {
   "cell_type": "markdown",
   "id": "54a4e1df",
   "metadata": {},
   "source": [
    "Even scalar-valued maps on arrays return JAX arrays."
   ]
  },
  {
   "cell_type": "code",
   "execution_count": 11,
   "id": "07487bbb",
   "metadata": {},
   "outputs": [
    {
     "data": {
      "text/plain": [
       "Array(2.6999998, dtype=float32)"
      ]
     },
     "execution_count": 11,
     "metadata": {},
     "output_type": "execute_result"
    }
   ],
   "source": [
    "jnp.sum(a)"
   ]
  },
  {
   "cell_type": "markdown",
   "id": "80d006d2",
   "metadata": {},
   "source": [
    "JAX arrays are also called \"device arrays,\" where term \"device\" refers to a\n",
    "hardware accelerator (GPU or TPU).\n",
    "\n",
    "(In the terminology of GPUs, the \"host\" is the machine that launches GPU operations, while the \"device\" is the GPU itself.)\n",
    "\n",
    "\n",
    "\n",
    "Operations on higher dimensional arrays are also similar to NumPy:"
   ]
  },
  {
   "cell_type": "code",
   "execution_count": 12,
   "id": "1e0b3036",
   "metadata": {},
   "outputs": [
    {
     "data": {
      "text/plain": [
       "Array([[1., 1.],\n",
       "       [1., 1.]], dtype=float32)"
      ]
     },
     "execution_count": 12,
     "metadata": {},
     "output_type": "execute_result"
    }
   ],
   "source": [
    "A = jnp.ones((2, 2))\n",
    "B = jnp.identity(2)\n",
    "A @ B"
   ]
  },
  {
   "cell_type": "code",
   "execution_count": 13,
   "id": "ffb056c3",
   "metadata": {},
   "outputs": [],
   "source": [
    "from jax.numpy import linalg"
   ]
  },
  {
   "cell_type": "code",
   "execution_count": 14,
   "id": "73c25b1a",
   "metadata": {},
   "outputs": [
    {
     "data": {
      "text/plain": [
       "Array([[1., 0.],\n",
       "       [0., 1.]], dtype=float32)"
      ]
     },
     "execution_count": 14,
     "metadata": {},
     "output_type": "execute_result"
    }
   ],
   "source": [
    "linalg.inv(B)   # Inverse of identity is identity"
   ]
  },
  {
   "cell_type": "code",
   "execution_count": 15,
   "id": "6b3b1f81",
   "metadata": {},
   "outputs": [
    {
     "data": {
      "text/plain": [
       "Array([0.99999994, 0.99999994], dtype=float32)"
      ]
     },
     "execution_count": 15,
     "metadata": {},
     "output_type": "execute_result"
    }
   ],
   "source": [
    "result = linalg.eigh(B)  # Computes eigenvalues and eigenvectors\n",
    "result.eigenvalues"
   ]
  },
  {
   "cell_type": "code",
   "execution_count": 16,
   "id": "28c4a620",
   "metadata": {},
   "outputs": [
    {
     "data": {
      "text/plain": [
       "Array([[1., 0.],\n",
       "       [0., 1.]], dtype=float32)"
      ]
     },
     "execution_count": 16,
     "metadata": {},
     "output_type": "execute_result"
    }
   ],
   "source": [
    "result.eigenvectors"
   ]
  },
  {
   "cell_type": "markdown",
   "id": "b07af908",
   "metadata": {},
   "source": [
    "### Differences\n",
    "\n",
    "\n",
    "One difference between NumPy and JAX is that JAX currently uses 32 bit floats by default.  \n",
    "\n",
    "This is standard for GPU computing and can lead to significant speed gains with small loss of precision.\n",
    "\n",
    "However, for some calculations precision matters.  In these cases 64 bit floats can be enforced via the command"
   ]
  },
  {
   "cell_type": "code",
   "execution_count": 17,
   "id": "a5c9d125",
   "metadata": {},
   "outputs": [],
   "source": [
    "jax.config.update(\"jax_enable_x64\", True)"
   ]
  },
  {
   "cell_type": "markdown",
   "id": "dfedda0b",
   "metadata": {},
   "source": [
    "Let's check this works:"
   ]
  },
  {
   "cell_type": "code",
   "execution_count": 18,
   "id": "3e904baf",
   "metadata": {},
   "outputs": [
    {
     "data": {
      "text/plain": [
       "Array([1., 1., 1.], dtype=float64)"
      ]
     },
     "execution_count": 18,
     "metadata": {},
     "output_type": "execute_result"
    }
   ],
   "source": [
    "jnp.ones(3)"
   ]
  },
  {
   "cell_type": "markdown",
   "id": "4c5d9f9f",
   "metadata": {},
   "source": [
    "As a NumPy replacement, a more significant difference is that arrays are treated as **immutable**.  \n",
    "\n",
    "For example, with NumPy we can write"
   ]
  },
  {
   "cell_type": "code",
   "execution_count": 19,
   "id": "d05baadd",
   "metadata": {},
   "outputs": [
    {
     "data": {
      "text/plain": [
       "array([0. , 0.5, 1. ])"
      ]
     },
     "execution_count": 19,
     "metadata": {},
     "output_type": "execute_result"
    }
   ],
   "source": [
    "import numpy as np\n",
    "a = np.linspace(0, 1, 3)\n",
    "a"
   ]
  },
  {
   "cell_type": "markdown",
   "id": "b5751624",
   "metadata": {},
   "source": [
    "and then mutate the data in memory:"
   ]
  },
  {
   "cell_type": "code",
   "execution_count": 20,
   "id": "21a85129",
   "metadata": {},
   "outputs": [
    {
     "data": {
      "text/plain": [
       "array([1. , 0.5, 1. ])"
      ]
     },
     "execution_count": 20,
     "metadata": {},
     "output_type": "execute_result"
    }
   ],
   "source": [
    "a[0] = 1\n",
    "a"
   ]
  },
  {
   "cell_type": "markdown",
   "id": "99cc92d5",
   "metadata": {},
   "source": [
    "In JAX this fails:"
   ]
  },
  {
   "cell_type": "code",
   "execution_count": 21,
   "id": "1bcfa483",
   "metadata": {},
   "outputs": [
    {
     "data": {
      "text/plain": [
       "Array([0. , 0.5, 1. ], dtype=float64)"
      ]
     },
     "execution_count": 21,
     "metadata": {},
     "output_type": "execute_result"
    }
   ],
   "source": [
    "a = jnp.linspace(0, 1, 3)\n",
    "a"
   ]
  },
  {
   "cell_type": "code",
   "execution_count": 22,
   "id": "eb73199d",
   "metadata": {
    "tags": [
     "raises-exception"
    ]
   },
   "outputs": [
    {
     "ename": "TypeError",
     "evalue": "'<class 'jaxlib.xla_extension.ArrayImpl'>' object does not support item assignment. JAX arrays are immutable. Instead of ``x[idx] = y``, use ``x = x.at[idx].set(y)`` or another .at[] method: https://jax.readthedocs.io/en/latest/_autosummary/jax.numpy.ndarray.at.html",
     "output_type": "error",
     "traceback": [
      "\u001b[0;31m---------------------------------------------------------------------------\u001b[0m",
      "\u001b[0;31mTypeError\u001b[0m                                 Traceback (most recent call last)",
      "Cell \u001b[0;32mIn[22], line 1\u001b[0m\n\u001b[0;32m----> 1\u001b[0m a[\u001b[38;5;241m0\u001b[39m] \u001b[38;5;241m=\u001b[39m \u001b[38;5;241m1\u001b[39m\n",
      "File \u001b[0;32m~/anaconda3/lib/python3.11/site-packages/jax/_src/numpy/array_methods.py:278\u001b[0m, in \u001b[0;36m_unimplemented_setitem\u001b[0;34m(self, i, x)\u001b[0m\n\u001b[1;32m    273\u001b[0m \u001b[38;5;28;01mdef\u001b[39;00m \u001b[38;5;21m_unimplemented_setitem\u001b[39m(\u001b[38;5;28mself\u001b[39m, i, x):\n\u001b[1;32m    274\u001b[0m   msg \u001b[38;5;241m=\u001b[39m (\u001b[38;5;124m\"\u001b[39m\u001b[38;5;124m'\u001b[39m\u001b[38;5;132;01m{}\u001b[39;00m\u001b[38;5;124m'\u001b[39m\u001b[38;5;124m object does not support item assignment. JAX arrays are \u001b[39m\u001b[38;5;124m\"\u001b[39m\n\u001b[1;32m    275\u001b[0m          \u001b[38;5;124m\"\u001b[39m\u001b[38;5;124mimmutable. Instead of ``x[idx] = y``, use ``x = x.at[idx].set(y)`` \u001b[39m\u001b[38;5;124m\"\u001b[39m\n\u001b[1;32m    276\u001b[0m          \u001b[38;5;124m\"\u001b[39m\u001b[38;5;124mor another .at[] method: \u001b[39m\u001b[38;5;124m\"\u001b[39m\n\u001b[1;32m    277\u001b[0m          \u001b[38;5;124m\"\u001b[39m\u001b[38;5;124mhttps://jax.readthedocs.io/en/latest/_autosummary/jax.numpy.ndarray.at.html\u001b[39m\u001b[38;5;124m\"\u001b[39m)\n\u001b[0;32m--> 278\u001b[0m   \u001b[38;5;28;01mraise\u001b[39;00m \u001b[38;5;167;01mTypeError\u001b[39;00m(msg\u001b[38;5;241m.\u001b[39mformat(\u001b[38;5;28mtype\u001b[39m(\u001b[38;5;28mself\u001b[39m)))\n",
      "\u001b[0;31mTypeError\u001b[0m: '<class 'jaxlib.xla_extension.ArrayImpl'>' object does not support item assignment. JAX arrays are immutable. Instead of ``x[idx] = y``, use ``x = x.at[idx].set(y)`` or another .at[] method: https://jax.readthedocs.io/en/latest/_autosummary/jax.numpy.ndarray.at.html"
     ]
    }
   ],
   "source": [
    "a[0] = 1   # uncommenting produces a TypeError"
   ]
  },
  {
   "cell_type": "markdown",
   "id": "821778ed",
   "metadata": {},
   "source": [
    "The designers of JAX chose to make arrays immutable because JAX uses a\n",
    "functional programming style.  More on this below.  \n",
    "\n",
    "Note that, while mutation is discouraged, it is in fact possible with `at`, as in"
   ]
  },
  {
   "cell_type": "code",
   "execution_count": 23,
   "id": "fa4a19e8",
   "metadata": {},
   "outputs": [
    {
     "data": {
      "text/plain": [
       "94834992"
      ]
     },
     "execution_count": 23,
     "metadata": {},
     "output_type": "execute_result"
    }
   ],
   "source": [
    "a = jnp.linspace(0, 1, 3)\n",
    "id(a)"
   ]
  },
  {
   "cell_type": "code",
   "execution_count": 24,
   "id": "c3fe40f7",
   "metadata": {},
   "outputs": [
    {
     "data": {
      "text/plain": [
       "Array([0. , 0.5, 1. ], dtype=float64)"
      ]
     },
     "execution_count": 24,
     "metadata": {},
     "output_type": "execute_result"
    }
   ],
   "source": [
    "a"
   ]
  },
  {
   "cell_type": "code",
   "execution_count": 25,
   "id": "2dfc5f73",
   "metadata": {},
   "outputs": [
    {
     "data": {
      "text/plain": [
       "Array([1. , 0.5, 1. ], dtype=float64)"
      ]
     },
     "execution_count": 25,
     "metadata": {},
     "output_type": "execute_result"
    }
   ],
   "source": [
    "a.at[0].set(1)"
   ]
  },
  {
   "cell_type": "markdown",
   "id": "8e30a878",
   "metadata": {},
   "source": [
    "We can check that the array is mutated by verifying its identity is unchanged:"
   ]
  },
  {
   "cell_type": "code",
   "execution_count": 26,
   "id": "0fe4fb1c",
   "metadata": {},
   "outputs": [
    {
     "data": {
      "text/plain": [
       "94834992"
      ]
     },
     "execution_count": 26,
     "metadata": {},
     "output_type": "execute_result"
    }
   ],
   "source": [
    "id(a)"
   ]
  },
  {
   "cell_type": "markdown",
   "id": "532b1bb8",
   "metadata": {},
   "source": [
    "## Random Numbers\n",
    "\n",
    "Random numbers are also a bit different in JAX, relative to NumPy.  \n",
    "\n",
    "Typically, in JAX, the state of the random number generator needs to be controlled explicitly.\n",
    "\n",
    "(This is also related to JAX's functional programming paradigm, discussed below.  JAX does not typically work with objects that maintain state, such as the state of a random number generator.)"
   ]
  },
  {
   "cell_type": "code",
   "execution_count": 27,
   "id": "ca7b45d4",
   "metadata": {},
   "outputs": [],
   "source": [
    "import jax.random as random"
   ]
  },
  {
   "cell_type": "markdown",
   "id": "0deef0b7",
   "metadata": {},
   "source": [
    "First we produce a key, which seeds the random number generator."
   ]
  },
  {
   "cell_type": "code",
   "execution_count": 28,
   "id": "97b02751",
   "metadata": {},
   "outputs": [],
   "source": [
    "key = random.PRNGKey(1)"
   ]
  },
  {
   "cell_type": "code",
   "execution_count": 29,
   "id": "7d985e45",
   "metadata": {},
   "outputs": [
    {
     "data": {
      "text/plain": [
       "jaxlib.xla_extension.ArrayImpl"
      ]
     },
     "execution_count": 29,
     "metadata": {},
     "output_type": "execute_result"
    }
   ],
   "source": [
    "type(key)"
   ]
  },
  {
   "cell_type": "code",
   "execution_count": 30,
   "id": "eaca0cde",
   "metadata": {},
   "outputs": [
    {
     "name": "stdout",
     "output_type": "stream",
     "text": [
      "[0 1]\n"
     ]
    }
   ],
   "source": [
    "print(key)"
   ]
  },
  {
   "cell_type": "markdown",
   "id": "79e6f9fe",
   "metadata": {},
   "source": [
    "Now we can use the key to generate some random numbers:"
   ]
  },
  {
   "cell_type": "code",
   "execution_count": 31,
   "id": "c75f164d",
   "metadata": {},
   "outputs": [
    {
     "data": {
      "text/plain": [
       "Array([[-1.35247421, -0.2712502 , -0.02920518],\n",
       "       [ 0.34706456,  0.5464053 , -1.52325812],\n",
       "       [ 0.41677264, -0.59710138, -0.5678208 ]], dtype=float64)"
      ]
     },
     "execution_count": 31,
     "metadata": {},
     "output_type": "execute_result"
    }
   ],
   "source": [
    "x = random.normal(key, (3, 3))\n",
    "x"
   ]
  },
  {
   "cell_type": "markdown",
   "id": "3bbccae4",
   "metadata": {},
   "source": [
    "If we use the same key again, we initialize at the same seed, so the random numbers are the same:"
   ]
  },
  {
   "cell_type": "code",
   "execution_count": 32,
   "id": "c0de0b19",
   "metadata": {},
   "outputs": [
    {
     "data": {
      "text/plain": [
       "Array([[-1.35247421, -0.2712502 , -0.02920518],\n",
       "       [ 0.34706456,  0.5464053 , -1.52325812],\n",
       "       [ 0.41677264, -0.59710138, -0.5678208 ]], dtype=float64)"
      ]
     },
     "execution_count": 32,
     "metadata": {},
     "output_type": "execute_result"
    }
   ],
   "source": [
    "random.normal(key, (3, 3))"
   ]
  },
  {
   "cell_type": "markdown",
   "id": "d442feda",
   "metadata": {},
   "source": [
    "To produce a (quasi-) independent draw, best practice is to \"split\" the existing key:"
   ]
  },
  {
   "cell_type": "code",
   "execution_count": 33,
   "id": "80d67a37",
   "metadata": {},
   "outputs": [],
   "source": [
    "key, subkey = random.split(key)"
   ]
  },
  {
   "cell_type": "code",
   "execution_count": 34,
   "id": "420291ed",
   "metadata": {},
   "outputs": [
    {
     "data": {
      "text/plain": [
       "Array([[ 1.85374374, -0.37683949, -0.61276867],\n",
       "       [-1.91829718,  0.27219409,  0.54922246],\n",
       "       [ 0.40451442, -0.58726839, -0.63967753]], dtype=float64)"
      ]
     },
     "execution_count": 34,
     "metadata": {},
     "output_type": "execute_result"
    }
   ],
   "source": [
    "random.normal(key, (3, 3))"
   ]
  },
  {
   "cell_type": "code",
   "execution_count": 35,
   "id": "34bdf810",
   "metadata": {},
   "outputs": [
    {
     "data": {
      "text/plain": [
       "Array([[-0.4300635 ,  0.22778552,  0.57241269],\n",
       "       [-0.15969178,  0.46719192,  0.21165091],\n",
       "       [ 0.84118631,  1.18671326, -0.16607783]], dtype=float64)"
      ]
     },
     "execution_count": 35,
     "metadata": {},
     "output_type": "execute_result"
    }
   ],
   "source": [
    "random.normal(subkey, (3, 3))"
   ]
  },
  {
   "cell_type": "markdown",
   "id": "05289e52",
   "metadata": {},
   "source": [
    "The function below produces `k` (quasi-) independent random `n x n` matrices using this procedure."
   ]
  },
  {
   "cell_type": "code",
   "execution_count": 36,
   "id": "e64f05a0",
   "metadata": {},
   "outputs": [],
   "source": [
    "def gen_random_matrices(key, n, k):\n",
    "    matrices = []\n",
    "    for _ in range(k):\n",
    "        key, subkey = random.split(key)\n",
    "        matrices.append(random.uniform(subkey, (n, n)))\n",
    "    return matrices"
   ]
  },
  {
   "cell_type": "code",
   "execution_count": 37,
   "id": "2d193b2e",
   "metadata": {},
   "outputs": [
    {
     "name": "stdout",
     "output_type": "stream",
     "text": [
      "[[0.97440813 0.3838544 ]\n",
      " [0.9790686  0.99981046]]\n",
      "[[0.3473302  0.17157842]\n",
      " [0.89346686 0.01403153]]\n"
     ]
    }
   ],
   "source": [
    "matrices = gen_random_matrices(key, 2, 2)\n",
    "for A in matrices:\n",
    "    print(A)"
   ]
  },
  {
   "cell_type": "markdown",
   "id": "ac58a1a9",
   "metadata": {},
   "source": [
    "One point to remember is that JAX expects tuples to describe array shapes, even for flat arrays.  Hence, to get a one-dimensional array of normal random draws we use `(len, )` for the shape, as in"
   ]
  },
  {
   "cell_type": "code",
   "execution_count": 38,
   "id": "db6c1e8e",
   "metadata": {},
   "outputs": [
    {
     "data": {
      "text/plain": [
       "Array([-0.64377279,  0.76961857, -0.29809604,  0.47858776, -2.00591299],      dtype=float64)"
      ]
     },
     "execution_count": 38,
     "metadata": {},
     "output_type": "execute_result"
    }
   ],
   "source": [
    "random.normal(key, (5,))   # not random.normal(key, 5)"
   ]
  },
  {
   "cell_type": "markdown",
   "id": "8af82a73",
   "metadata": {},
   "source": [
    "## JIT compilation\n",
    "\n",
    "The JAX just-in-time (JIT) compiler accelerates logic within functions by fusing linear\n",
    "algebra operations into a single optimized kernel that the host can\n",
    "launch on the GPU / TPU (or CPU if no accelerator is detected).\n",
    "\n",
    "### A first example\n",
    "\n",
    "To see the JIT compiler in action, consider the following function."
   ]
  },
  {
   "cell_type": "code",
   "execution_count": 39,
   "id": "313d850b",
   "metadata": {},
   "outputs": [],
   "source": [
    "def f(x):\n",
    "    a = 3*x + jnp.sin(x) + jnp.cos(x**2) - jnp.cos(2*x) - x**2 * 0.4 * x**1.5\n",
    "    return jnp.sum(a)"
   ]
  },
  {
   "cell_type": "markdown",
   "id": "0011888e",
   "metadata": {},
   "source": [
    "Let's build an array to call the function on."
   ]
  },
  {
   "cell_type": "code",
   "execution_count": 40,
   "id": "d5971eed",
   "metadata": {},
   "outputs": [],
   "source": [
    "n = 50_000_000\n",
    "x = jnp.ones(n)"
   ]
  },
  {
   "cell_type": "markdown",
   "id": "ca2a6bad",
   "metadata": {},
   "source": [
    "How long does the function take to execute?"
   ]
  },
  {
   "cell_type": "code",
   "execution_count": 41,
   "id": "86167cf9",
   "metadata": {},
   "outputs": [
    {
     "name": "stdout",
     "output_type": "stream",
     "text": [
      "CPU times: user 336 ms, sys: 7.69 ms, total: 344 ms\n",
      "Wall time: 843 ms\n"
     ]
    },
    {
     "data": {
      "text/plain": [
       "Array(2.19896006e+08, dtype=float64)"
      ]
     },
     "execution_count": 41,
     "metadata": {},
     "output_type": "execute_result"
    }
   ],
   "source": [
    "%time f(x).block_until_ready()"
   ]
  },
  {
   "cell_type": "markdown",
   "id": "0c46d3b0",
   "metadata": {},
   "source": [
    "(In order to measure actual speed, we use `block_until_ready()` method \n",
    "to hold the interpreter until the results of the computation are returned from\n",
    "the device. This is necessary because JAX uses asynchronous dispatch, which\n",
    "allows the Python interpreter to run ahead of GPU computations.)"
   ]
  },
  {
   "cell_type": "markdown",
   "id": "886f2296",
   "metadata": {},
   "source": [
    "The code doesn't run as fast as we might hope, given that it's running on a GPU.\n",
    "\n",
    "But if we run it a second time it becomes much faster:"
   ]
  },
  {
   "cell_type": "code",
   "execution_count": 42,
   "id": "a0901e09",
   "metadata": {},
   "outputs": [
    {
     "name": "stdout",
     "output_type": "stream",
     "text": [
      "CPU times: user 7.46 ms, sys: 495 µs, total: 7.95 ms\n",
      "Wall time: 231 ms\n"
     ]
    },
    {
     "data": {
      "text/plain": [
       "Array(2.19896006e+08, dtype=float64)"
      ]
     },
     "execution_count": 42,
     "metadata": {},
     "output_type": "execute_result"
    }
   ],
   "source": [
    "%time f(x).block_until_ready()"
   ]
  },
  {
   "cell_type": "code",
   "execution_count": 43,
   "id": "399fcb5e",
   "metadata": {},
   "outputs": [
    {
     "name": "stdout",
     "output_type": "stream",
     "text": [
      "184 ms ± 208 µs per loop (mean ± std. dev. of 7 runs, 10 loops each)\n"
     ]
    }
   ],
   "source": [
    "%timeit f(x).block_until_ready()"
   ]
  },
  {
   "cell_type": "markdown",
   "id": "7c1f32ca",
   "metadata": {},
   "source": [
    "This is because the built in functions like `jnp.cos` are JIT compiled and the\n",
    "first run includes compile time."
   ]
  },
  {
   "cell_type": "markdown",
   "id": "33b10943",
   "metadata": {},
   "source": [
    "### When does JAX recompile?\n",
    "\n",
    "You might remember that Numba recompiles if we change the types of variables in a function call.\n",
    "\n",
    "JAX recompiles more often --- in particular, it recompiles every time we change array sizes.\n",
    "\n",
    "For example, let's try"
   ]
  },
  {
   "cell_type": "code",
   "execution_count": 44,
   "id": "14551451",
   "metadata": {},
   "outputs": [],
   "source": [
    "m = n + 1\n",
    "y = jnp.ones(m)"
   ]
  },
  {
   "cell_type": "code",
   "execution_count": 45,
   "id": "c86c0f41",
   "metadata": {},
   "outputs": [
    {
     "name": "stdout",
     "output_type": "stream",
     "text": [
      "CPU times: user 298 ms, sys: 3.93 ms, total: 302 ms\n",
      "Wall time: 756 ms\n"
     ]
    },
    {
     "data": {
      "text/plain": [
       "Array(2.19896011e+08, dtype=float64)"
      ]
     },
     "execution_count": 45,
     "metadata": {},
     "output_type": "execute_result"
    }
   ],
   "source": [
    "%time f(y).block_until_ready()"
   ]
  },
  {
   "cell_type": "markdown",
   "id": "d2ea3eb8",
   "metadata": {},
   "source": [
    "Notice that the execution time increases, because now new versions of \n",
    "the built-ins like `jnp.cos` are being compiled, specialized to the new array\n",
    "size.\n",
    "\n",
    "If we run again, the code is dispatched to the correct compiled version and we\n",
    "get faster execution."
   ]
  },
  {
   "cell_type": "code",
   "execution_count": 46,
   "id": "e6019fc8",
   "metadata": {},
   "outputs": [
    {
     "name": "stdout",
     "output_type": "stream",
     "text": [
      "CPU times: user 6.49 ms, sys: 246 µs, total: 6.74 ms\n",
      "Wall time: 182 ms\n"
     ]
    },
    {
     "data": {
      "text/plain": [
       "Array(2.19896011e+08, dtype=float64)"
      ]
     },
     "execution_count": 46,
     "metadata": {},
     "output_type": "execute_result"
    }
   ],
   "source": [
    "%time f(y).block_until_ready()"
   ]
  },
  {
   "cell_type": "markdown",
   "id": "819002eb",
   "metadata": {},
   "source": [
    "Why does JAX generate fresh machine code every time we change the array size???"
   ]
  },
  {
   "cell_type": "markdown",
   "id": "e95163e5",
   "metadata": {},
   "source": [
    "The compiled versions for the previous array size are still available in memory\n",
    "too, and the following call is dispatched to the correct compiled code."
   ]
  },
  {
   "cell_type": "code",
   "execution_count": 47,
   "id": "2a549760",
   "metadata": {},
   "outputs": [
    {
     "name": "stdout",
     "output_type": "stream",
     "text": [
      "CPU times: user 9.61 ms, sys: 0 ns, total: 9.61 ms\n",
      "Wall time: 184 ms\n"
     ]
    },
    {
     "data": {
      "text/plain": [
       "Array(2.19896006e+08, dtype=float64)"
      ]
     },
     "execution_count": 47,
     "metadata": {},
     "output_type": "execute_result"
    }
   ],
   "source": [
    "%time f(x).block_until_ready()"
   ]
  },
  {
   "cell_type": "markdown",
   "id": "f7df3a7f",
   "metadata": {},
   "source": [
    "### Compiling user-built functions\n",
    "\n",
    "We can instruct JAX to compile entire functions that we build.\n",
    "\n",
    "For example, consider"
   ]
  },
  {
   "cell_type": "code",
   "execution_count": 48,
   "id": "bbeb0905",
   "metadata": {},
   "outputs": [],
   "source": [
    "def g(x):\n",
    "    y = jnp.zeros_like(x)\n",
    "    for i in range(10):\n",
    "        y += x**i\n",
    "    return y"
   ]
  },
  {
   "cell_type": "code",
   "execution_count": 49,
   "id": "923ffe4a",
   "metadata": {},
   "outputs": [],
   "source": [
    "n = 1_000_000\n",
    "x = jnp.ones(n)"
   ]
  },
  {
   "cell_type": "markdown",
   "id": "1d92d143",
   "metadata": {},
   "source": [
    "Let's time it."
   ]
  },
  {
   "cell_type": "code",
   "execution_count": 50,
   "id": "73f02e96",
   "metadata": {},
   "outputs": [
    {
     "name": "stdout",
     "output_type": "stream",
     "text": [
      "CPU times: user 308 ms, sys: 27 ms, total: 335 ms\n",
      "Wall time: 826 ms\n"
     ]
    },
    {
     "data": {
      "text/plain": [
       "Array([10., 10., 10., ..., 10., 10., 10.], dtype=float64)"
      ]
     },
     "execution_count": 50,
     "metadata": {},
     "output_type": "execute_result"
    }
   ],
   "source": [
    "%time g(x)"
   ]
  },
  {
   "cell_type": "code",
   "execution_count": 51,
   "id": "e5ca56b3",
   "metadata": {},
   "outputs": [
    {
     "name": "stdout",
     "output_type": "stream",
     "text": [
      "CPU times: user 0 ns, sys: 5.46 ms, total: 5.46 ms\n",
      "Wall time: 3.43 ms\n"
     ]
    },
    {
     "data": {
      "text/plain": [
       "Array([10., 10., 10., ..., 10., 10., 10.], dtype=float64)"
      ]
     },
     "execution_count": 51,
     "metadata": {},
     "output_type": "execute_result"
    }
   ],
   "source": [
    "%time g(x)"
   ]
  },
  {
   "cell_type": "code",
   "execution_count": 52,
   "id": "da88f865",
   "metadata": {},
   "outputs": [],
   "source": [
    "g_jit = jax.jit(g)   # target for JIT compilation"
   ]
  },
  {
   "cell_type": "markdown",
   "id": "6d719617",
   "metadata": {},
   "source": [
    "Let's run once to compile it:"
   ]
  },
  {
   "cell_type": "code",
   "execution_count": 53,
   "id": "6b288877",
   "metadata": {},
   "outputs": [
    {
     "data": {
      "text/plain": [
       "Array([10., 10., 10., ..., 10., 10., 10.], dtype=float64)"
      ]
     },
     "execution_count": 53,
     "metadata": {},
     "output_type": "execute_result"
    }
   ],
   "source": [
    "g_jit(x)"
   ]
  },
  {
   "cell_type": "markdown",
   "id": "2d4f0be6",
   "metadata": {},
   "source": [
    "And now let's time it."
   ]
  },
  {
   "cell_type": "code",
   "execution_count": 54,
   "id": "343c7d25",
   "metadata": {},
   "outputs": [
    {
     "name": "stdout",
     "output_type": "stream",
     "text": [
      "CPU times: user 0 ns, sys: 2.22 ms, total: 2.22 ms\n",
      "Wall time: 1.29 ms\n"
     ]
    },
    {
     "data": {
      "text/plain": [
       "Array([10., 10., 10., ..., 10., 10., 10.], dtype=float64)"
      ]
     },
     "execution_count": 54,
     "metadata": {},
     "output_type": "execute_result"
    }
   ],
   "source": [
    "%time g_jit(x).block_until_ready()"
   ]
  },
  {
   "cell_type": "markdown",
   "id": "4823e5be",
   "metadata": {},
   "source": [
    "Note the speed gain.\n",
    "\n",
    "This is because \n",
    "\n",
    "1. the loop is compiled and\n",
    "2. the array operations are fused and no intermediate arrays are created.\n",
    "\n",
    "\n",
    "Incidentally, a more common syntax when targetting a function for the JIT\n",
    "compiler is"
   ]
  },
  {
   "cell_type": "code",
   "execution_count": 55,
   "id": "63b8470c",
   "metadata": {},
   "outputs": [],
   "source": [
    "@jax.jit\n",
    "def g_jit_2(x):\n",
    "    y = jnp.zeros_like(x)\n",
    "    for i in range(10):\n",
    "        y += x**i\n",
    "    return y"
   ]
  },
  {
   "cell_type": "code",
   "execution_count": 56,
   "id": "d7a23ccd",
   "metadata": {},
   "outputs": [
    {
     "name": "stdout",
     "output_type": "stream",
     "text": [
      "CPU times: user 64.5 ms, sys: 4.95 ms, total: 69.4 ms\n",
      "Wall time: 59.7 ms\n"
     ]
    },
    {
     "data": {
      "text/plain": [
       "Array([10., 10., 10., ..., 10., 10., 10.], dtype=float64)"
      ]
     },
     "execution_count": 56,
     "metadata": {},
     "output_type": "execute_result"
    }
   ],
   "source": [
    "%time g_jit_2(x).block_until_ready()"
   ]
  },
  {
   "cell_type": "code",
   "execution_count": 57,
   "id": "50b2bdf6",
   "metadata": {},
   "outputs": [
    {
     "name": "stdout",
     "output_type": "stream",
     "text": [
      "CPU times: user 0 ns, sys: 2.72 ms, total: 2.72 ms\n",
      "Wall time: 1.43 ms\n"
     ]
    },
    {
     "data": {
      "text/plain": [
       "Array([10., 10., 10., ..., 10., 10., 10.], dtype=float64)"
      ]
     },
     "execution_count": 57,
     "metadata": {},
     "output_type": "execute_result"
    }
   ],
   "source": [
    "%time g_jit_2(x).block_until_ready()"
   ]
  },
  {
   "cell_type": "markdown",
   "id": "4e8bdaed",
   "metadata": {},
   "source": [
    "## Functional Programming\n",
    "\n",
    "From JAX's documentation:\n",
    "\n",
    "*When walking about the countryside of Italy, the people will not hesitate to tell you that JAX has “una anima di pura programmazione funzionale”.*\n",
    "\n",
    "\n",
    "In other words, JAX assumes a functional programming style.\n",
    "\n",
    "The major implication is that JAX functions should be pure.\n",
    "    \n",
    "A pure function will always return the same result if invoked with the same inputs.\n",
    "\n",
    "In particular, a pure function has\n",
    "\n",
    "* no dependence on global variables and\n",
    "* no side effects"
   ]
  },
  {
   "cell_type": "markdown",
   "id": "66bf896f",
   "metadata": {},
   "source": [
    "### Example: Python/NumPy/Numba style code is not pure"
   ]
  },
  {
   "cell_type": "markdown",
   "id": "412c7639",
   "metadata": {},
   "source": [
    "Here's an example to show that NumPy functions are not pure:"
   ]
  },
  {
   "cell_type": "code",
   "execution_count": 58,
   "id": "5f6f2a6e",
   "metadata": {},
   "outputs": [
    {
     "data": {
      "text/plain": [
       "-2.010291324884927"
      ]
     },
     "execution_count": 58,
     "metadata": {},
     "output_type": "execute_result"
    }
   ],
   "source": [
    "np.random.randn()"
   ]
  },
  {
   "cell_type": "code",
   "execution_count": 59,
   "id": "c56606ff",
   "metadata": {},
   "outputs": [
    {
     "data": {
      "text/plain": [
       "-1.6317115438447896"
      ]
     },
     "execution_count": 59,
     "metadata": {},
     "output_type": "execute_result"
    }
   ],
   "source": [
    "np.random.randn()"
   ]
  },
  {
   "cell_type": "markdown",
   "id": "4a3e92d1",
   "metadata": {},
   "source": [
    "This fails the test: a function returns the same result when called on the same inputs.\n",
    "\n",
    "The issue is that the function maintains internal state between function calls --- the state of the random number generator."
   ]
  },
  {
   "cell_type": "markdown",
   "id": "172fda17",
   "metadata": {},
   "source": [
    "Here's a function that fails to be pure because it modifies external state."
   ]
  },
  {
   "cell_type": "code",
   "execution_count": 60,
   "id": "d7a2e0bf",
   "metadata": {},
   "outputs": [
    {
     "data": {
      "text/plain": [
       "array([1., 1., 1., 1., 1.])"
      ]
     },
     "execution_count": 60,
     "metadata": {},
     "output_type": "execute_result"
    }
   ],
   "source": [
    "def double_input(x):   # Not pure -- side effects\n",
    "    x[:] = 2 * x\n",
    "    return None\n",
    "\n",
    "x = np.ones(5)\n",
    "x"
   ]
  },
  {
   "cell_type": "code",
   "execution_count": 61,
   "id": "535dd41b",
   "metadata": {},
   "outputs": [
    {
     "data": {
      "text/plain": [
       "array([2., 2., 2., 2., 2.])"
      ]
     },
     "execution_count": 61,
     "metadata": {},
     "output_type": "execute_result"
    }
   ],
   "source": [
    "double_input(x)\n",
    "x"
   ]
  },
  {
   "cell_type": "markdown",
   "id": "1f72684e",
   "metadata": {},
   "source": [
    "Here's a pure version:"
   ]
  },
  {
   "cell_type": "code",
   "execution_count": 62,
   "id": "ff651a29",
   "metadata": {},
   "outputs": [],
   "source": [
    "def double_input(x):\n",
    "    y = 2 * x\n",
    "    return y"
   ]
  },
  {
   "cell_type": "markdown",
   "id": "da1f3cc6",
   "metadata": {},
   "source": [
    "The following function is also not pure, since it modifies a global variable (similar to the last example)."
   ]
  },
  {
   "cell_type": "code",
   "execution_count": 63,
   "id": "f53f2e04",
   "metadata": {},
   "outputs": [],
   "source": [
    "a = 1\n",
    "def f():\n",
    "    global a\n",
    "    a += 1\n",
    "    return None"
   ]
  },
  {
   "cell_type": "code",
   "execution_count": 64,
   "id": "c84b60d3",
   "metadata": {},
   "outputs": [
    {
     "data": {
      "text/plain": [
       "1"
      ]
     },
     "execution_count": 64,
     "metadata": {},
     "output_type": "execute_result"
    }
   ],
   "source": [
    "a"
   ]
  },
  {
   "cell_type": "code",
   "execution_count": 65,
   "id": "bbb38abb",
   "metadata": {},
   "outputs": [],
   "source": [
    "f()"
   ]
  },
  {
   "cell_type": "code",
   "execution_count": 66,
   "id": "45112f0e",
   "metadata": {},
   "outputs": [
    {
     "data": {
      "text/plain": [
       "2"
      ]
     },
     "execution_count": 66,
     "metadata": {},
     "output_type": "execute_result"
    }
   ],
   "source": [
    "a"
   ]
  },
  {
   "cell_type": "markdown",
   "id": "bcfbd3bd",
   "metadata": {},
   "source": [
    "### Compiling impure functions\n",
    "\n",
    "JAX does not insist on pure functions.\n",
    "\n",
    "For example, JAX will not usually throw errors when compiling impure functions \n",
    "\n",
    "However, execution becomes unpredictable!\n",
    "\n",
    "Here's an illustration of this fact, using global variables:"
   ]
  },
  {
   "cell_type": "code",
   "execution_count": 67,
   "id": "070bc4ab",
   "metadata": {},
   "outputs": [],
   "source": [
    "a = 1  # global\n",
    "\n",
    "@jax.jit\n",
    "def f(x):\n",
    "    return a + x"
   ]
  },
  {
   "cell_type": "code",
   "execution_count": 68,
   "id": "db5b3a44",
   "metadata": {},
   "outputs": [],
   "source": [
    "x = jnp.ones(2)"
   ]
  },
  {
   "cell_type": "code",
   "execution_count": 69,
   "id": "a6c90c37",
   "metadata": {},
   "outputs": [
    {
     "data": {
      "text/plain": [
       "Array([1., 1.], dtype=float64)"
      ]
     },
     "execution_count": 69,
     "metadata": {},
     "output_type": "execute_result"
    }
   ],
   "source": [
    "x"
   ]
  },
  {
   "cell_type": "code",
   "execution_count": 70,
   "id": "4f106771",
   "metadata": {},
   "outputs": [
    {
     "data": {
      "text/plain": [
       "Array([2., 2.], dtype=float64)"
      ]
     },
     "execution_count": 70,
     "metadata": {},
     "output_type": "execute_result"
    }
   ],
   "source": [
    "f(x)"
   ]
  },
  {
   "cell_type": "markdown",
   "id": "15ec2c43",
   "metadata": {},
   "source": [
    "In the code above, the global value `a=1` is fused into the jitted function.\n",
    "\n",
    "Even if we change `a`, the output of `f` will not be affected --- as long as the same compiled version is called."
   ]
  },
  {
   "cell_type": "code",
   "execution_count": 71,
   "id": "751779cb",
   "metadata": {},
   "outputs": [],
   "source": [
    "a = 42"
   ]
  },
  {
   "cell_type": "code",
   "execution_count": 72,
   "id": "06f8c71a",
   "metadata": {},
   "outputs": [
    {
     "data": {
      "text/plain": [
       "Array([2., 2.], dtype=float64)"
      ]
     },
     "execution_count": 72,
     "metadata": {},
     "output_type": "execute_result"
    }
   ],
   "source": [
    "f(x)"
   ]
  },
  {
   "cell_type": "markdown",
   "id": "9cf00b77",
   "metadata": {},
   "source": [
    "Notice that the change in the value of `a` takes effect in the code below:"
   ]
  },
  {
   "cell_type": "code",
   "execution_count": 73,
   "id": "8ba58dda",
   "metadata": {},
   "outputs": [],
   "source": [
    "x = jnp.ones(3)"
   ]
  },
  {
   "cell_type": "code",
   "execution_count": 74,
   "id": "c78e785c",
   "metadata": {},
   "outputs": [
    {
     "data": {
      "text/plain": [
       "Array([43., 43., 43.], dtype=float64)"
      ]
     },
     "execution_count": 74,
     "metadata": {},
     "output_type": "execute_result"
    }
   ],
   "source": [
    "f(x)"
   ]
  },
  {
   "cell_type": "markdown",
   "id": "ae0db01a",
   "metadata": {},
   "source": [
    "Can you explain why?"
   ]
  },
  {
   "cell_type": "markdown",
   "id": "d73a81a7",
   "metadata": {},
   "source": [
    "Moral of the story: write pure functions when using JAX!"
   ]
  },
  {
   "cell_type": "markdown",
   "id": "078b664e",
   "metadata": {},
   "source": [
    "## Gradients\n",
    "\n",
    "JAX can use automatic differentiation to compute gradients.\n",
    "\n",
    "This can be extremely useful for optimization and solving nonlinear systems.\n",
    "\n",
    "We will see significant applications later in this lecture series.\n",
    "\n",
    "For now, here's a very simple illustration involving the function"
   ]
  },
  {
   "cell_type": "code",
   "execution_count": 75,
   "id": "3b4b270c",
   "metadata": {},
   "outputs": [],
   "source": [
    "def f(x):\n",
    "    return (x**2) / 2"
   ]
  },
  {
   "cell_type": "markdown",
   "id": "97551390",
   "metadata": {},
   "source": [
    "Let's take the derivative:"
   ]
  },
  {
   "cell_type": "code",
   "execution_count": 76,
   "id": "878982f7",
   "metadata": {},
   "outputs": [],
   "source": [
    "f_prime = jax.grad(f)"
   ]
  },
  {
   "cell_type": "code",
   "execution_count": 77,
   "id": "5241c0e7",
   "metadata": {},
   "outputs": [
    {
     "data": {
      "text/plain": [
       "Array(10., dtype=float64, weak_type=True)"
      ]
     },
     "execution_count": 77,
     "metadata": {},
     "output_type": "execute_result"
    }
   ],
   "source": [
    "f_prime(10.0)"
   ]
  },
  {
   "cell_type": "markdown",
   "id": "f818034b",
   "metadata": {},
   "source": [
    "Let's plot the function and derivative, noting that $f'(x) = x$."
   ]
  },
  {
   "cell_type": "code",
   "execution_count": 78,
   "id": "00272083",
   "metadata": {},
   "outputs": [
    {
     "data": {
      "image/png": "[encoded data removed]",
      "text/plain": [
       "<Figure size 640x480 with 1 Axes>"
      ]
     },
     "metadata": {},
     "output_type": "display_data"
    }
   ],
   "source": [
    "import matplotlib.pyplot as plt\n",
    "\n",
    "fig, ax = plt.subplots()\n",
    "x_grid = jnp.linspace(-4, 4, 200)\n",
    "ax.plot(x_grid, f(x_grid), label=\"$f$\")\n",
    "ax.plot(x_grid, [f_prime(x) for x in x_grid], label=\"$f'$\")\n",
    "ax.legend(loc='upper center')\n",
    "plt.show()"
   ]
  },
  {
   "cell_type": "markdown",
   "id": "7316f277",
   "metadata": {},
   "source": [
    "## Writing vectorized code\n",
    "\n",
    "Writing fast JAX code requires shifting repetitive tasks from loops to array processing operations, so that the JAX compiler can easily understand the whole operation and generate more efficient machine code.\n",
    "\n",
    "This procedure is called **vectorization** or **array programming**, and will be familiar to anyone who has used NumPy or MATLAB.\n",
    "\n",
    "In some ways, vectorization is the same in JAX as it is in NumPy.\n",
    "\n",
    "But there are also major differences, which we highlight here.\n",
    "\n",
    "As a running example, consider the function\n",
    "\n",
    "$$\n",
    "    f(x,y) = \\frac{\\cos(x^2 + y^2)}{1 + x^2 + y^2}\n",
    "$$\n",
    "\n",
    "Suppose that we want to evaluate this function on a square grid of $x$ and $y$ points.\n",
    "\n",
    "\n",
    "### A slow version with loops\n",
    "\n",
    "To clarify, here is the slow `for` loop version, which we run in a setting where `len(x) = len(y)` is very small."
   ]
  },
  {
   "cell_type": "code",
   "execution_count": 79,
   "id": "a52b9c10",
   "metadata": {},
   "outputs": [],
   "source": [
    "@jax.jit\n",
    "def f(x, y):\n",
    "    return jnp.cos(x**2 + y**2) / (1 + x**2 + y**2)\n",
    "\n",
    "n = 80\n",
    "x = jnp.linspace(-2, 2, n)\n",
    "y = x\n",
    "\n",
    "z_loops = np.empty((n, n))"
   ]
  },
  {
   "cell_type": "code",
   "execution_count": 80,
   "id": "743a179b",
   "metadata": {},
   "outputs": [
    {
     "name": "stdout",
     "output_type": "stream",
     "text": [
      "CPU times: user 4.22 s, sys: 1.13 s, total: 5.34 s\n",
      "Wall time: 3.17 s\n"
     ]
    }
   ],
   "source": [
    "%%time\n",
    "for i in range(n):\n",
    "    for j in range(n):\n",
    "        z_loops[i, j] = f(x[i], y[j])"
   ]
  },
  {
   "cell_type": "markdown",
   "id": "ff81b213",
   "metadata": {},
   "source": [
    "Even for this very small grid, the run time is extremely slow.\n",
    "\n",
    "(Notice that we used a NumPy array for `z_loops` because we wanted to write to it.)"
   ]
  },
  {
   "cell_type": "markdown",
   "id": "3ccfec7d",
   "metadata": {},
   "source": [
    "OK, so how can we do the same operation in vectorized form?\n",
    "\n",
    "If you are new to vectorization, you might guess that we can simply write"
   ]
  },
  {
   "cell_type": "code",
   "execution_count": 81,
   "id": "49501975",
   "metadata": {},
   "outputs": [],
   "source": [
    "z_bad = f(x, y)"
   ]
  },
  {
   "cell_type": "markdown",
   "id": "4946db1f",
   "metadata": {},
   "source": [
    "But this gives us the wrong result because JAX doesn't understand the nested for loop."
   ]
  },
  {
   "cell_type": "code",
   "execution_count": 82,
   "id": "206954c1",
   "metadata": {},
   "outputs": [
    {
     "data": {
      "text/plain": [
       "(80,)"
      ]
     },
     "execution_count": 82,
     "metadata": {},
     "output_type": "execute_result"
    }
   ],
   "source": [
    "z_bad.shape"
   ]
  },
  {
   "cell_type": "markdown",
   "id": "1a9b6038",
   "metadata": {},
   "source": [
    "Here is what we actually wanted:"
   ]
  },
  {
   "cell_type": "code",
   "execution_count": 83,
   "id": "a0029ff4",
   "metadata": {},
   "outputs": [
    {
     "data": {
      "text/plain": [
       "(80, 80)"
      ]
     },
     "execution_count": 83,
     "metadata": {},
     "output_type": "execute_result"
    }
   ],
   "source": [
    "z_loops.shape"
   ]
  },
  {
   "cell_type": "markdown",
   "id": "ba991d08",
   "metadata": {},
   "source": [
    "### Vectorization attempt 1"
   ]
  },
  {
   "cell_type": "markdown",
   "id": "4990f519",
   "metadata": {},
   "source": [
    "To get the right shape and the correct nested for loop calculation, we can use a `meshgrid` operation that originated in MATLAB and was replicated in NumPy and then JAX:"
   ]
  },
  {
   "cell_type": "code",
   "execution_count": 84,
   "id": "13588a71",
   "metadata": {},
   "outputs": [],
   "source": [
    "x_mesh, y_mesh = jnp.meshgrid(x, y)"
   ]
  },
  {
   "cell_type": "markdown",
   "id": "ba08887a",
   "metadata": {},
   "source": [
    "Now we get what we want and the execution time is very fast."
   ]
  },
  {
   "cell_type": "code",
   "execution_count": 85,
   "id": "2f54f928",
   "metadata": {},
   "outputs": [],
   "source": [
    "z_mesh = f(x_mesh, y_mesh) "
   ]
  },
  {
   "cell_type": "markdown",
   "id": "b7a08edb",
   "metadata": {},
   "source": [
    "Let's confirm that we got the right answer."
   ]
  },
  {
   "cell_type": "code",
   "execution_count": 86,
   "id": "76e9f3ac",
   "metadata": {},
   "outputs": [
    {
     "data": {
      "text/plain": [
       "Array(True, dtype=bool)"
      ]
     },
     "execution_count": 86,
     "metadata": {},
     "output_type": "execute_result"
    }
   ],
   "source": [
    "jnp.allclose(z_mesh, z_loops)"
   ]
  },
  {
   "cell_type": "markdown",
   "id": "aecb63b7",
   "metadata": {},
   "source": [
    "Now we can set up a serious grid and run the same calculation (on the larger grid) in a short amount of time."
   ]
  },
  {
   "cell_type": "code",
   "execution_count": 87,
   "id": "4209e9c8",
   "metadata": {},
   "outputs": [],
   "source": [
    "n = 6000\n",
    "x = jnp.linspace(-2, 2, n)\n",
    "y = x\n",
    "x_mesh, y_mesh = jnp.meshgrid(x, y)"
   ]
  },
  {
   "cell_type": "code",
   "execution_count": 88,
   "id": "88767e1a",
   "metadata": {},
   "outputs": [
    {
     "name": "stdout",
     "output_type": "stream",
     "text": [
      "CPU times: user 60 ms, sys: 3.12 ms, total: 63.1 ms\n",
      "Wall time: 135 ms\n"
     ]
    }
   ],
   "source": [
    "%%time\n",
    "z_mesh = f(x_mesh, y_mesh) "
   ]
  },
  {
   "cell_type": "code",
   "execution_count": 89,
   "id": "bd775a72",
   "metadata": {},
   "outputs": [
    {
     "name": "stdout",
     "output_type": "stream",
     "text": [
      "CPU times: user 352 µs, sys: 65 µs, total: 417 µs\n",
      "Wall time: 371 µs\n"
     ]
    }
   ],
   "source": [
    "%%time\n",
    "z_mesh = f(x_mesh, y_mesh) "
   ]
  },
  {
   "cell_type": "markdown",
   "id": "69b07386",
   "metadata": {},
   "source": [
    "But there is one problem here: the mesh grids use a lot of memory."
   ]
  },
  {
   "cell_type": "code",
   "execution_count": 90,
   "id": "ea50fd1f",
   "metadata": {},
   "outputs": [
    {
     "data": {
      "text/plain": [
       "576.0"
      ]
     },
     "execution_count": 90,
     "metadata": {},
     "output_type": "execute_result"
    }
   ],
   "source": [
    "(x_mesh.nbytes + y_mesh.nbytes) / 1_000_000  # MB of memory"
   ]
  },
  {
   "cell_type": "markdown",
   "id": "6ce72d84",
   "metadata": {},
   "source": [
    "By comparison, the flat array `x` is just"
   ]
  },
  {
   "cell_type": "code",
   "execution_count": 91,
   "id": "fd6b500a",
   "metadata": {},
   "outputs": [
    {
     "data": {
      "text/plain": [
       "0.048"
      ]
     },
     "execution_count": 91,
     "metadata": {},
     "output_type": "execute_result"
    }
   ],
   "source": [
    "x.nbytes / 1_000_000   # and y is just a pointer to x"
   ]
  },
  {
   "cell_type": "markdown",
   "id": "a97e03c9",
   "metadata": {},
   "source": [
    "This extra memory usage can be a big problem in actual research calculations."
   ]
  },
  {
   "cell_type": "code",
   "execution_count": 92,
   "id": "2b4f66ac",
   "metadata": {},
   "outputs": [],
   "source": [
    "del x_mesh  # Free memory\n",
    "del y_mesh  # Free memory"
   ]
  },
  {
   "cell_type": "markdown",
   "id": "da868344",
   "metadata": {},
   "source": [
    "### Vectorization attempt 2"
   ]
  },
  {
   "cell_type": "markdown",
   "id": "53dd9527",
   "metadata": {},
   "source": [
    "We can achieve a similar effect through NumPy style broadcasting rules."
   ]
  },
  {
   "cell_type": "code",
   "execution_count": 93,
   "id": "5a016983",
   "metadata": {},
   "outputs": [],
   "source": [
    "x_reshaped = jnp.reshape(x, (n, 1))   # Give x another dimension (column)\n",
    "y_reshaped = jnp.reshape(y, (1, n))   # Give y another dimension (row)"
   ]
  },
  {
   "cell_type": "markdown",
   "id": "6dfa202d",
   "metadata": {},
   "source": [
    "When we evaluate $f$ on these reshaped arrays, we replicate the nested for loops in the original version."
   ]
  },
  {
   "cell_type": "code",
   "execution_count": 94,
   "id": "47805d27",
   "metadata": {},
   "outputs": [
    {
     "name": "stdout",
     "output_type": "stream",
     "text": [
      "CPU times: user 51.3 ms, sys: 3.77 ms, total: 55.1 ms\n",
      "Wall time: 129 ms\n"
     ]
    }
   ],
   "source": [
    "%time z_reshaped = f(x_reshaped, y_reshaped)"
   ]
  },
  {
   "cell_type": "code",
   "execution_count": 95,
   "id": "9debeebb",
   "metadata": {},
   "outputs": [
    {
     "name": "stdout",
     "output_type": "stream",
     "text": [
      "CPU times: user 151 µs, sys: 11 µs, total: 162 µs\n",
      "Wall time: 136 µs\n"
     ]
    }
   ],
   "source": [
    "%time z_reshaped = f(x_reshaped, y_reshaped)"
   ]
  },
  {
   "cell_type": "markdown",
   "id": "4d35ae50",
   "metadata": {},
   "source": [
    "Let's check that we got the same result"
   ]
  },
  {
   "cell_type": "code",
   "execution_count": 96,
   "id": "9b4b6fda",
   "metadata": {},
   "outputs": [
    {
     "data": {
      "text/plain": [
       "Array(True, dtype=bool)"
      ]
     },
     "execution_count": 96,
     "metadata": {},
     "output_type": "execute_result"
    }
   ],
   "source": [
    "jnp.allclose(z_reshaped, z_mesh)"
   ]
  },
  {
   "cell_type": "markdown",
   "id": "8fd6f5ea",
   "metadata": {},
   "source": [
    "The memory usage for the inputs is much more moderate."
   ]
  },
  {
   "cell_type": "code",
   "execution_count": 97,
   "id": "0bcc8e0d",
   "metadata": {},
   "outputs": [
    {
     "data": {
      "text/plain": [
       "0.096"
      ]
     },
     "execution_count": 97,
     "metadata": {},
     "output_type": "execute_result"
    }
   ],
   "source": [
    "(x_reshaped.nbytes + y_reshaped.nbytes) / 1_000_000"
   ]
  },
  {
   "cell_type": "markdown",
   "id": "a813d633",
   "metadata": {},
   "source": [
    "### Vectorization attempt 3\n",
    "\n",
    "\n",
    "There's another approach to vectorization we can pursue, using [jax.vmap](https://jax.readthedocs.io/en/latest/_autosummary/jax.vmap.html)"
   ]
  },
  {
   "cell_type": "markdown",
   "id": "e66546fc",
   "metadata": {},
   "source": [
    "It runs out that, when we are working with complex functions and operations, this `vmap` approach can be the easiest to implement.\n",
    "\n",
    "It's also very memory parsimonious."
   ]
  },
  {
   "cell_type": "markdown",
   "id": "cd23905e",
   "metadata": {},
   "source": [
    "The first step is to vectorize the function `f` in `y`."
   ]
  },
  {
   "cell_type": "code",
   "execution_count": 98,
   "id": "6fe73ea8",
   "metadata": {},
   "outputs": [],
   "source": [
    "f_vec_y = jax.vmap(f, in_axes=(None, 0))  "
   ]
  },
  {
   "cell_type": "markdown",
   "id": "732a95d8",
   "metadata": {},
   "source": [
    "In the line above, `(None, 0)` indicates that we are vectorizing in the second argument, which is `y`.\n",
    "\n",
    "Next, we vectorize in the first argument, which is `x`."
   ]
  },
  {
   "cell_type": "code",
   "execution_count": 99,
   "id": "1a513d31",
   "metadata": {},
   "outputs": [],
   "source": [
    "f_vec = jax.vmap(f_vec_y, in_axes=(0, None))"
   ]
  },
  {
   "cell_type": "markdown",
   "id": "87ea4528",
   "metadata": {},
   "source": [
    "Finally, we JIT-compile the result:"
   ]
  },
  {
   "cell_type": "code",
   "execution_count": 100,
   "id": "4d171f73",
   "metadata": {},
   "outputs": [],
   "source": [
    "f_vec = jax.jit(f_vec)"
   ]
  },
  {
   "cell_type": "markdown",
   "id": "0a1c8e0d",
   "metadata": {},
   "source": [
    "With this construction, we can now call the function $f$ on flat (low memory) arrays."
   ]
  },
  {
   "cell_type": "code",
   "execution_count": 101,
   "id": "5681b3d4",
   "metadata": {},
   "outputs": [
    {
     "name": "stdout",
     "output_type": "stream",
     "text": [
      "CPU times: user 59.1 ms, sys: 4.45 ms, total: 63.5 ms\n",
      "Wall time: 120 ms\n"
     ]
    }
   ],
   "source": [
    "%%time\n",
    "z_vmap = f_vec(x, y)"
   ]
  },
  {
   "cell_type": "code",
   "execution_count": 102,
   "id": "f0b5fdca",
   "metadata": {},
   "outputs": [
    {
     "name": "stdout",
     "output_type": "stream",
     "text": [
      "CPU times: user 129 µs, sys: 0 ns, total: 129 µs\n",
      "Wall time: 138 µs\n"
     ]
    }
   ],
   "source": [
    "%%time\n",
    "z_vmap = f_vec(x, y)"
   ]
  },
  {
   "cell_type": "markdown",
   "id": "61f5d4e2",
   "metadata": {},
   "source": [
    "Let's check we produce the correct answer:"
   ]
  },
  {
   "cell_type": "code",
   "execution_count": 103,
   "id": "3f521c52",
   "metadata": {},
   "outputs": [
    {
     "data": {
      "text/plain": [
       "Array(True, dtype=bool)"
      ]
     },
     "execution_count": 103,
     "metadata": {},
     "output_type": "execute_result"
    }
   ],
   "source": [
    "jnp.allclose(z_vmap, z_mesh)"
   ]
  },
  {
   "cell_type": "markdown",
   "id": "11c57a07",
   "metadata": {},
   "source": [
    "Let's finish by cleaning up."
   ]
  },
  {
   "cell_type": "code",
   "execution_count": 104,
   "id": "7c6123cc",
   "metadata": {},
   "outputs": [],
   "source": [
    "del z_mesh\n",
    "del z_vmap\n",
    "del z_reshaped"
   ]
  },
  {
   "cell_type": "markdown",
   "id": "49fc844e",
   "metadata": {},
   "source": [
    "### Exercises"
   ]
  },
  {
   "cell_type": "markdown",
   "id": "f6964ec0-ab92-4b29-a493-f2e5cf2d7a6a",
   "metadata": {},
   "source": [
    "Repeat the exercise of computing the approximation to $\\pi$ by simulation:\n",
    "\n",
    "1. draw $n$ observations of a bivariate uniform on the unit square\n",
    "2. count the fraction that fall in the unit circle (radius 0.5) centered on (0.5, 0.5)\n",
    "3. multiply the result by 4\n",
    "\n",
    "Use JAX"
   ]
  },
  {
   "cell_type": "code",
   "execution_count": 141,
   "id": "5ff1d2ba-710f-4cb1-a59a-4cbb86e77f49",
   "metadata": {},
   "outputs": [
    {
     "name": "stdout",
     "output_type": "stream",
     "text": [
      "Solution below\n",
      "Solution below\n",
      "Solution below\n",
      "Solution below\n",
      "Solution below\n",
      "Solution below\n",
      "Solution below\n",
      "Solution below\n",
      "Solution below\n",
      "Solution below\n",
      "Solution below\n",
      "Solution below\n"
     ]
    }
   ],
   "source": [
    "for i in range(12):\n",
    "    print(\"Solution below\")"
   ]
  },
  {
   "cell_type": "markdown",
   "id": "6877d9bc-6ab1-4036-b748-e04698ce86a0",
   "metadata": {},
   "source": [
    "**Solution**"
   ]
  },
  {
   "cell_type": "code",
   "execution_count": 148,
   "id": "0b04e3d0-e349-4e0e-aaf7-aba66b572705",
   "metadata": {},
   "outputs": [],
   "source": [
    "def approx_pi(n, key):\n",
    "    u = jax.random.uniform(key, (2, n))\n",
    "    distances = jnp.sqrt((u[0, :] - 0.5)**2 + (u[1, :] - 0.5)**2)\n",
    "    fraction_in_circle = jnp.mean(distances < 0.5)\n",
    "    return fraction_in_circle * 4  # dividing by radius**2\n",
    "\n",
    "n = 1_000_000 # sample size for Monte Carlo simulation\n",
    "key = jax.random.PRNGKey(1234)"
   ]
  },
  {
   "cell_type": "code",
   "execution_count": 149,
   "id": "2f2733bc-49ae-462f-9d7a-ddcfd97a9553",
   "metadata": {},
   "outputs": [
    {
     "name": "stdout",
     "output_type": "stream",
     "text": [
      "CPU times: user 73.9 ms, sys: 5.83 ms, total: 79.7 ms\n",
      "Wall time: 181 ms\n"
     ]
    },
    {
     "data": {
      "text/plain": [
       "Array(3.142108, dtype=float32)"
      ]
     },
     "execution_count": 149,
     "metadata": {},
     "output_type": "execute_result"
    }
   ],
   "source": [
    "%time approx_pi(n, key)"
   ]
  },
  {
   "cell_type": "code",
   "execution_count": 150,
   "id": "4917dee2-60c8-4a8d-98dc-b61973e98327",
   "metadata": {},
   "outputs": [
    {
     "name": "stdout",
     "output_type": "stream",
     "text": [
      "CPU times: user 3.21 ms, sys: 3.92 ms, total: 7.13 ms\n",
      "Wall time: 4.28 ms\n"
     ]
    },
    {
     "data": {
      "text/plain": [
       "Array(3.142108, dtype=float32)"
      ]
     },
     "execution_count": 150,
     "metadata": {},
     "output_type": "execute_result"
    }
   ],
   "source": [
    "%time approx_pi(n, key)"
   ]
  },
  {
   "cell_type": "code",
   "execution_count": 151,
   "id": "ac1d690f-e52e-41f2-8f52-7c23d31f4b59",
   "metadata": {},
   "outputs": [],
   "source": [
    "approx_pi_jitted = jax.jit(approx_pi, static_argnums=(0,))"
   ]
  },
  {
   "cell_type": "code",
   "execution_count": 152,
   "id": "a7f5c8df-2c27-4aad-8d59-db17c6622227",
   "metadata": {},
   "outputs": [
    {
     "name": "stdout",
     "output_type": "stream",
     "text": [
      "CPU times: user 122 ms, sys: 4.04 ms, total: 126 ms\n",
      "Wall time: 219 ms\n"
     ]
    },
    {
     "data": {
      "text/plain": [
       "Array(3.142108, dtype=float32)"
      ]
     },
     "execution_count": 152,
     "metadata": {},
     "output_type": "execute_result"
    }
   ],
   "source": [
    "%time approx_pi_jitted(n, key)"
   ]
  },
  {
   "cell_type": "code",
   "execution_count": 153,
   "id": "70fa9471-b437-4de9-b0c8-47fbaa5fe1ce",
   "metadata": {},
   "outputs": [
    {
     "name": "stdout",
     "output_type": "stream",
     "text": [
      "CPU times: user 344 µs, sys: 67 µs, total: 411 µs\n",
      "Wall time: 288 µs\n"
     ]
    },
    {
     "data": {
      "text/plain": [
       "Array(3.142108, dtype=float32)"
      ]
     },
     "execution_count": 153,
     "metadata": {},
     "output_type": "execute_result"
    }
   ],
   "source": [
    "%time approx_pi_jitted(n, key)"
   ]
  },
  {
   "cell_type": "markdown",
   "id": "a875414d",
   "metadata": {},
   "source": [
    "**Exercise**\n",
    "\n",
    "In a previous notebook we used Monte Carlo to price a European call option and\n",
    "constructed a solution using Numba.\n",
    "\n",
    "The code looked like this:"
   ]
  },
  {
   "cell_type": "code",
   "execution_count": null,
   "id": "14c2f1ec",
   "metadata": {},
   "outputs": [],
   "source": [
    "import numba\n",
    "from numpy.random import randn\n",
    "M = 10_000_000\n",
    "\n",
    "n, β, K = 20, 0.99, 100\n",
    "μ, ρ, ν, S0, h0 = 0.0001, 0.1, 0.001, 10, 0\n",
    "\n",
    "@numba.jit(parallel=True)\n",
    "def compute_call_price_parallel(β=β,\n",
    "                                μ=μ,\n",
    "                                S0=S0,\n",
    "                                h0=h0,\n",
    "                                K=K,\n",
    "                                n=n,\n",
    "                                ρ=ρ,\n",
    "                                ν=ν,\n",
    "                                M=M):\n",
    "    current_sum = 0.0\n",
    "    # For each sample path\n",
    "    for m in numba.prange(M):\n",
    "        s = np.log(S0)\n",
    "        h = h0\n",
    "        # Simulate forward in time\n",
    "        for t in range(n):\n",
    "            s = s + μ + np.exp(h) * randn()\n",
    "            h = ρ * h + ν * randn()\n",
    "        # And add the value max{S_n - K, 0} to current_sum\n",
    "        current_sum += np.maximum(np.exp(s) - K, 0)\n",
    "        \n",
    "    return β**n * current_sum / M"
   ]
  },
  {
   "cell_type": "markdown",
   "id": "9ccf61f1",
   "metadata": {},
   "source": [
    "Let's run it once to compile it:"
   ]
  },
  {
   "cell_type": "code",
   "execution_count": null,
   "id": "b67dbe6e",
   "metadata": {},
   "outputs": [],
   "source": [
    "compute_call_price_parallel()"
   ]
  },
  {
   "cell_type": "markdown",
   "id": "0c05fb3e",
   "metadata": {},
   "source": [
    "And now let's time it:"
   ]
  },
  {
   "cell_type": "code",
   "execution_count": null,
   "id": "b16650e4",
   "metadata": {},
   "outputs": [],
   "source": [
    "%%time \n",
    "compute_call_price_parallel()"
   ]
  },
  {
   "cell_type": "markdown",
   "id": "2a6e29e7",
   "metadata": {},
   "source": [
    "Try writing a version of this operation for JAX, using all the same\n",
    "parameters.\n",
    "\n",
    "If you are running your code on a GPU, you should be able to achieve\n",
    "significantly faster execution."
   ]
  },
  {
   "cell_type": "code",
   "execution_count": null,
   "id": "7e174ba3",
   "metadata": {},
   "outputs": [],
   "source": [
    "for i in range(12):\n",
    "    print(\"Solution below.\")"
   ]
  },
  {
   "cell_type": "markdown",
   "id": "cdbf37dc",
   "metadata": {},
   "source": [
    "**Solution**\n",
    "\n",
    "Here is one solution:"
   ]
  },
  {
   "cell_type": "code",
   "execution_count": null,
   "id": "694d06dc",
   "metadata": {},
   "outputs": [],
   "source": [
    "M = 10_000_000\n",
    "\n",
    "n, β, K = 20, 0.99, 100\n",
    "μ, ρ, ν, S0, h0 = 0.0001, 0.1, 0.001, 10, 0\n",
    "\n",
    "@jax.jit\n",
    "def compute_call_price_jax(β=β,\n",
    "                           μ=μ,\n",
    "                           S0=S0,\n",
    "                           h0=h0,\n",
    "                           K=K,\n",
    "                           n=n,\n",
    "                           ρ=ρ,\n",
    "                           ν=ν,\n",
    "                           M=M,\n",
    "                           key=jax.random.PRNGKey(1)):\n",
    "\n",
    "    s = jnp.full(M, np.log(S0))\n",
    "    h = jnp.full(M, h0)\n",
    "    for t in range(n):\n",
    "        key, subkey = jax.random.split(key)\n",
    "        Z = jax.random.normal(subkey, (2, M))\n",
    "        s = s + μ + jnp.exp(h) * Z[0, :]\n",
    "        h = ρ * h + ν * Z[1, :]\n",
    "    expectation = jnp.mean(jnp.maximum(jnp.exp(s) - K, 0))\n",
    "        \n",
    "    return β**n * expectation"
   ]
  },
  {
   "cell_type": "markdown",
   "id": "40ebb3d8",
   "metadata": {},
   "source": [
    "Let's run it once to compile it:"
   ]
  },
  {
   "cell_type": "code",
   "execution_count": null,
   "id": "2fa68e84",
   "metadata": {},
   "outputs": [],
   "source": [
    "compute_call_price_jax()"
   ]
  },
  {
   "cell_type": "markdown",
   "id": "ce313e40",
   "metadata": {},
   "source": [
    "And now let's time it:"
   ]
  },
  {
   "cell_type": "code",
   "execution_count": null,
   "id": "10af582f",
   "metadata": {},
   "outputs": [],
   "source": [
    "%%time \n",
    "compute_call_price_jax().block_until_ready()"
   ]
  },
  {
   "cell_type": "code",
   "execution_count": null,
   "id": "3d64bb3d",
   "metadata": {},
   "outputs": [],
   "source": []
  }
 ],
 "metadata": {
  "kernelspec": {
   "display_name": "Python 3 (ipykernel)",
   "language": "python",
   "name": "python3"
  },
  "language_info": {
   "codemirror_mode": {
    "name": "ipython",
    "version": 3
   },
   "file_extension": ".py",
   "mimetype": "text/x-python",
   "name": "python",
   "nbconvert_exporter": "python",
   "pygments_lexer": "ipython3",
   "version": "3.11.7"
  }
 },
 "nbformat": 4,
 "nbformat_minor": 5
}
