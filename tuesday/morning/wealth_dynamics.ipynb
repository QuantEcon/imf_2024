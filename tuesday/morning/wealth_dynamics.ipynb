{
 "cells": [
  {
   "cell_type": "markdown",
   "id": "eabce856",
   "metadata": {},
   "source": [
    "# Wealth Dynamics\n",
    "\n",
    "------\n",
    "\n",
    "#### Chase Coleman and John Stachurski\n",
    "\n",
    "#### Prepared for the QuantEcon ICD Workshop (March 2024)\n",
    "\n",
    "In this lecture we examine wealth dynamics in large cross-section of agents who\n",
    "are subject to both \n",
    "\n",
    "* idiosyncratic shocks, which affect labor income and returns, and \n",
    "* an aggregate shock, which also impacts on labor income and returns\n",
    "\n",
    "\n",
    "In most macroeconomic models savings and consumption are determined by optimization.\n",
    "\n",
    "Here savings and consumption behavior is taken as given -- you can plug in your\n",
    "favorite model to obtain savings behavior and then analyze distribution dynamics\n",
    "using the techniques described below.\n",
    "\n",
    "On of our interests will be how different aspects of wealth dynamics -- such\n",
    "as labor income and the rate of return on investments -- feed into measures of\n",
    "inequality, such as the Gini coefficent.\n",
    "\n",
    "Please uncomment the following if necessary"
   ]
  },
  {
   "cell_type": "code",
   "execution_count": null,
   "id": "8cdef913",
   "metadata": {},
   "outputs": [],
   "source": [
    "#!pip install quantecon "
   ]
  },
  {
   "cell_type": "markdown",
   "id": "3e9df488",
   "metadata": {},
   "source": [
    "We use the following imports."
   ]
  },
  {
   "cell_type": "code",
   "execution_count": null,
   "id": "05c3083d",
   "metadata": {},
   "outputs": [],
   "source": [
    "import numba\n",
    "import pandas as pd\n",
    "import numpy as np\n",
    "import matplotlib.pyplot as plt\n",
    "import quantecon as qe\n",
    "import jax\n",
    "import jax.numpy as jnp\n",
    "from time import time"
   ]
  },
  {
   "cell_type": "markdown",
   "id": "08e03e72",
   "metadata": {},
   "source": [
    "## Wealth dynamics\n",
    "\n",
    "\n",
    "Wealth evolves as follows:\n",
    "\n",
    "```{math}\n",
    "    w_{t+1} = (1 + r_{t+1}) s(w_t) + y_{t+1}\n",
    "```\n",
    "\n",
    "Here\n",
    "\n",
    "- $w_t$ is wealth at time $t$ for a given household,\n",
    "- $r_t$ is the rate of return of financial assets,\n",
    "- $y_t$ is labor income and\n",
    "- $s(w_t)$ is savings (current wealth minus current consumption)\n",
    "\n",
    "\n",
    "There is an aggregate state process \n",
    "\n",
    "$$\n",
    "    z_{t+1} = a z_t + b + \\sigma_z \\epsilon_{t+1}\n",
    "$$\n",
    "\n",
    "that affects the interest rate and labor income.\n",
    "\n",
    "In particular, the gross interest rates obeys\n",
    "\n",
    "$$\n",
    "    R_t := 1 + r_t = c_r \\exp(z_t) + \\exp(\\mu_r + \\sigma_r \\xi_t)\n",
    "$$\n",
    "\n",
    "while\n",
    "\n",
    "$$\n",
    "    y_t = c_y \\exp(z_t) + \\exp(\\mu_y + \\sigma_y \\zeta_t)\n",
    "$$\n",
    "\n",
    "The tuple $\\{ (\\epsilon_t, \\xi_t, \\zeta_t) \\}$ is IID and standard normal in $\\mathbb R^3$.\n",
    "\n",
    "(Each household receives their own idiosyncratic shocks.)\n",
    "\n",
    "Regarding the savings function $s$, our default model will be\n",
    "\n",
    "```{math}\n",
    ":label: sav_ah\n",
    "\n",
    "s(w) = s_0 w \\cdot \\mathbb 1\\{w \\geq \\hat w\\}\n",
    "```\n",
    "\n",
    "where $s_0$ is a positive constant.\n",
    "\n",
    "Thus, \n",
    "\n",
    "* for $w < \\hat w$, the household saves nothing, while\n",
    "* for $w \\geq \\bar w$, the household saves a fraction $s_0$ of their wealth.\n",
    "\n",
    "\n",
    "\n",
    "## Implementation (Numba version)\n",
    "\n",
    "\n",
    "Here's a function that collects parameters and useful constants"
   ]
  },
  {
   "cell_type": "code",
   "execution_count": null,
   "id": "e0e2a264",
   "metadata": {},
   "outputs": [],
   "source": [
    "def create_wealth_model(w_hat=1.0,   # Savings parameter\n",
    "                        s_0=0.75,    # Savings parameter\n",
    "                        c_y=1.0,     # Labor income parameter\n",
    "                        μ_y=1.0,     # Labor income parameter\n",
    "                        σ_y=0.2,     # Labor income parameter\n",
    "                        c_r=0.05,    # Rate of return parameter\n",
    "                        μ_r=0.1,     # Rate of return parameter\n",
    "                        σ_r=0.5,     # Rate of return parameter\n",
    "                        a=0.5,       # Aggregate shock parameter\n",
    "                        b=0.0,       # Aggregate shock parameter\n",
    "                        σ_z=0.1):    # Aggregate shock parameter\n",
    "    \"\"\"\n",
    "    Create a wealth model with given parameters. \n",
    "\n",
    "    Return a tuple model = (household_params, aggregate_params), where\n",
    "    household_params collects household information and aggregate_params\n",
    "    collects information relevant to the aggregate shock process.\n",
    "    \n",
    "    \"\"\"\n",
    "    # Mean and variance of z process\n",
    "    z_mean = b / (1 - a)\n",
    "    z_var = σ_z**2 / (1 - a**2)\n",
    "    exp_z_mean = np.exp(z_mean + z_var / 2)\n",
    "    # Mean of R and y processes\n",
    "    R_mean = c_r * exp_z_mean + np.exp(μ_r + σ_r**2 / 2)\n",
    "    y_mean = c_y * exp_z_mean + np.exp(μ_y + σ_y**2 / 2)\n",
    "    # Test stability condition ensuring wealth does not diverge\n",
    "    # to infinity.\n",
    "    α = R_mean * s_0\n",
    "    if α >= 1:\n",
    "        raise ValueError(\"Stability condition failed.\")\n",
    "    # Pack values into tuples and return them\n",
    "    household_params = (w_hat, s_0, c_y, μ_y, σ_y, c_r, μ_r, σ_r, y_mean)\n",
    "    aggregate_params = (a, b, σ_z, z_mean, z_var)\n",
    "    model = household_params, aggregate_params\n",
    "    return model"
   ]
  },
  {
   "cell_type": "markdown",
   "id": "99e670a2",
   "metadata": {},
   "source": [
    "Here's a function that generates the aggregate state process"
   ]
  },
  {
   "cell_type": "code",
   "execution_count": null,
   "id": "b656d328",
   "metadata": {},
   "outputs": [],
   "source": [
    "@numba.jit\n",
    "def generate_aggregate_state_sequence(aggregate_params, length=100):\n",
    "    a, b, σ_z, z_mean, z_var = aggregate_params \n",
    "    z = np.empty(length+1)\n",
    "    z[0] = z_mean   # Initialize at z_mean\n",
    "    for t in range(length):\n",
    "        z[t+1] = a * z[t] + b + σ_z * np.random.randn()\n",
    "    return z"
   ]
  },
  {
   "cell_type": "markdown",
   "id": "605b91c3",
   "metadata": {},
   "source": [
    "Here's a function that updates household wealth by one period, taking the\n",
    "current value of the aggregate shock."
   ]
  },
  {
   "cell_type": "code",
   "execution_count": null,
   "id": "306782f5",
   "metadata": {},
   "outputs": [],
   "source": [
    "@numba.jit\n",
    "def update_wealth(household_params, w, z):\n",
    "    \"\"\"\n",
    "    Generate w_{t+1} given w_t and z_{t+1}.\n",
    "    \"\"\"\n",
    "    # Unpack\n",
    "    w_hat, s_0, c_y, μ_y, σ_y, c_r, μ_r, σ_r, y_mean = household_params\n",
    "    # Update wealth\n",
    "    y = c_y * np.exp(z) + np.exp(μ_y + σ_y * np.random.randn())\n",
    "    wp = y\n",
    "    if w >= w_hat:\n",
    "        R = c_r * np.exp(z) + np.exp(μ_r + σ_r * np.random.randn())\n",
    "        wp += R * s_0 * w\n",
    "    return wp"
   ]
  },
  {
   "cell_type": "markdown",
   "id": "fc30c2d0",
   "metadata": {},
   "source": [
    "Here's function to simulate the time series of wealth for an individual household."
   ]
  },
  {
   "cell_type": "code",
   "execution_count": null,
   "id": "38b5d2e9",
   "metadata": {},
   "outputs": [],
   "source": [
    "@numba.jit\n",
    "def wealth_time_series(model, w_0, sim_length):\n",
    "    \"\"\"\n",
    "    Generate a single time series of length sim_length for wealth given initial\n",
    "    value w_0.  The function generates its own aggregate shock sequence.\n",
    "\n",
    "    \"\"\"\n",
    "    # Unpack\n",
    "    household_params, aggregate_params = model\n",
    "    a, b, σ_z, z_mean, z_var = aggregate_params \n",
    "    # Initialize and update\n",
    "    z = generate_aggregate_state_sequence(aggregate_params, \n",
    "                                          length=sim_length)\n",
    "    w = np.empty(sim_length)\n",
    "    w[0] = w_0\n",
    "    for t in range(sim_length-1):\n",
    "        w[t+1] = update_wealth(household_params, w[t], z[t+1])\n",
    "    return w"
   ]
  },
  {
   "cell_type": "markdown",
   "id": "ea9ad615",
   "metadata": {},
   "source": [
    "Let's look at the wealth dynamics of an individual household."
   ]
  },
  {
   "cell_type": "code",
   "execution_count": null,
   "id": "e53d9f3f",
   "metadata": {},
   "outputs": [],
   "source": [
    "model = create_wealth_model()\n",
    "household_params, aggregate_params = model\n",
    "w_hat, s_0, c_y, μ_y, σ_y, c_r, μ_r, σ_r, y_mean = household_params\n",
    "a, b, σ_z, z_mean, z_var = aggregate_params \n",
    "ts_length = 200\n",
    "w = wealth_time_series(model, y_mean, ts_length)"
   ]
  },
  {
   "cell_type": "code",
   "execution_count": null,
   "id": "e50f07e6",
   "metadata": {},
   "outputs": [],
   "source": [
    "fig, ax = plt.subplots()\n",
    "ax.plot(w)\n",
    "plt.show()"
   ]
  },
  {
   "cell_type": "markdown",
   "id": "f7bdf8a6",
   "metadata": {},
   "source": [
    "Notice the large spikes in wealth over time.\n",
    "\n",
    "Such spikes are related to heavy tails in the wealth distribution, which we\n",
    "discuss below."
   ]
  },
  {
   "cell_type": "markdown",
   "id": "6c08bb0b",
   "metadata": {},
   "source": [
    "Here's function to simulate a cross section of households forward in time.\n",
    "\n",
    "Note the use of parallelization to speed up computation."
   ]
  },
  {
   "cell_type": "code",
   "execution_count": null,
   "id": "efa07737",
   "metadata": {},
   "outputs": [],
   "source": [
    "@numba.jit(parallel=True)\n",
    "def update_cross_section(model, w_distribution, z_sequence):\n",
    "    \"\"\"\n",
    "    Shifts a cross-section of household forward in time\n",
    "\n",
    "    Takes \n",
    "\n",
    "        * a current distribution of wealth values as w_distribution and\n",
    "        * an aggregate shock sequence z_sequence\n",
    "\n",
    "    and updates each w_t in w_distribution to w_{t+j}, where\n",
    "    j = len(z_sequence).\n",
    "\n",
    "    Returns the new distribution.\n",
    "\n",
    "    \"\"\"\n",
    "    # Unpack\n",
    "    household_params, aggregate_params = model\n",
    "\n",
    "    num_households = len(w_distribution)\n",
    "    new_distribution = np.empty_like(w_distribution)\n",
    "    z = z_sequence\n",
    "\n",
    "    # Update each household\n",
    "    for i in numba.prange(num_households):\n",
    "        w = w_distribution[i]\n",
    "        for t in range(sim_length):\n",
    "            w = update_wealth(household_params, w, z[t])\n",
    "        new_distribution[i] = w\n",
    "    return new_distribution"
   ]
  },
  {
   "cell_type": "markdown",
   "id": "65fc998f",
   "metadata": {},
   "source": [
    "Parallelization works in the function above because the time path of each\n",
    "household can be calculated independently once the path for the aggregate state\n",
    "is known."
   ]
  },
  {
   "cell_type": "markdown",
   "id": "bd5cb30f",
   "metadata": {},
   "source": [
    "Let's see how long it takes to shift a large cross-section of households forward\n",
    "200 periods"
   ]
  },
  {
   "cell_type": "code",
   "execution_count": null,
   "id": "6f8a981e",
   "metadata": {},
   "outputs": [],
   "source": [
    "sim_length = 200\n",
    "num_households = 10_000_000\n",
    "ψ_0 = np.full(num_households, y_mean)  # Initial distribution\n",
    "z_sequence = generate_aggregate_state_sequence(aggregate_params,\n",
    "                                               length=sim_length)\n",
    "print(\"Generating cross-section using Numba\")\n",
    "start_time = time()\n",
    "ψ_star = update_cross_section(model, ψ_0, z_sequence)\n",
    "numba_time = time() - start_time\n",
    "print(f\"Generated cross-section in {numba_time} seconds.\\n\")"
   ]
  },
  {
   "cell_type": "code",
   "execution_count": null,
   "id": "05d16568",
   "metadata": {},
   "outputs": [],
   "source": []
  },
  {
   "cell_type": "markdown",
   "id": "e619d32f",
   "metadata": {},
   "source": [
    "## Wealth dynamics using JAX\n",
    "\n",
    "Let's redo some of the preceding calculations using JAX and see how execution\n",
    "speed compares."
   ]
  },
  {
   "cell_type": "markdown",
   "id": "881e82a9",
   "metadata": {},
   "source": [
    "### Replicating the wealth dynamics code with JAX"
   ]
  },
  {
   "cell_type": "code",
   "execution_count": null,
   "id": "8ed1a73f",
   "metadata": {},
   "outputs": [],
   "source": [
    "def update_cross_section_jax(model, w_distribution, z_sequence, key):\n",
    "    \"\"\"\n",
    "    Shifts a cross-section of household forward in time\n",
    "\n",
    "    Takes \n",
    "\n",
    "        * a current distribution of wealth values as w_distribution and\n",
    "        * an aggregate shock sequence z_sequence\n",
    "\n",
    "    and updates each w_t in w_distribution to w_{t+j}, where\n",
    "    j = len(z_sequence).\n",
    "\n",
    "    Returns the new distribution.\n",
    "\n",
    "    \"\"\"\n",
    "    # Unpack, simplify names\n",
    "    household_params, aggregate_params = model\n",
    "    w_hat, s_0, c_y, μ_y, σ_y, c_r, μ_r, σ_r, y_mean = household_params\n",
    "    w = w_distribution\n",
    "    n = len(w)\n",
    "\n",
    "    # Update wealth\n",
    "    for t, z in enumerate(z_sequence):\n",
    "        U = jax.random.normal(key, (2, n))\n",
    "        y = c_y * jnp.exp(z) + jnp.exp(μ_y + σ_y * U[0, :])\n",
    "        R = c_r * jnp.exp(z) + jnp.exp(μ_r + σ_r * U[1, :])\n",
    "        w = y + jnp.where(w < w_hat, 0.0, R * s_0 * w) \n",
    "        key, subkey = jax.random.split(key)\n",
    "\n",
    "    return w"
   ]
  },
  {
   "cell_type": "markdown",
   "id": "c6a6a301",
   "metadata": {},
   "source": [
    "Let's see how long it takes to shift the cross-section of households forward\n",
    "using JAX"
   ]
  },
  {
   "cell_type": "code",
   "execution_count": null,
   "id": "67f5643f",
   "metadata": {},
   "outputs": [],
   "source": [
    "sim_length = 200\n",
    "num_households = 10_000_000\n",
    "ψ_0 = jnp.full(num_households, y_mean)  # Initial distribution\n",
    "z_sequence = generate_aggregate_state_sequence(aggregate_params,\n",
    "                                               length=sim_length)\n",
    "z_sequence = jnp.array(z_sequence)"
   ]
  },
  {
   "cell_type": "code",
   "execution_count": null,
   "id": "32341307",
   "metadata": {},
   "outputs": [],
   "source": [
    "print(\"Generating cross-section using JAX\")\n",
    "key = jax.random.PRNGKey(1234)\n",
    "start_time = time()\n",
    "ψ_star = update_cross_section_jax(model, ψ_0, z_sequence, key)\n",
    "jax_time = time() - start_time\n",
    "print(f\"Generated cross-section in {jax_time} seconds.\\n\")"
   ]
  },
  {
   "cell_type": "code",
   "execution_count": null,
   "id": "7e97c8cf",
   "metadata": {},
   "outputs": [],
   "source": [
    "print(\"Repeating without compile time.\")\n",
    "key = jax.random.PRNGKey(1234)\n",
    "start_time = time()\n",
    "ψ_star = update_cross_section_jax(model, ψ_0, z_sequence, key)\n",
    "jax_time = time() - start_time\n",
    "print(f\"Generated cross-section in {jax_time} seconds\")"
   ]
  },
  {
   "cell_type": "markdown",
   "id": "8f5c18de",
   "metadata": {},
   "source": [
    "And let's see how long it takes if we compile the loop."
   ]
  },
  {
   "cell_type": "code",
   "execution_count": null,
   "id": "9a8e3f3c",
   "metadata": {},
   "outputs": [],
   "source": [
    "def update_cross_section_jax_compiled(model, \n",
    "                                      w_distribution, \n",
    "                                      w_size,\n",
    "                                      z_sequence, \n",
    "                                      key):\n",
    "    \"\"\"\n",
    "    Shifts a cross-section of household forward in time\n",
    "\n",
    "    Takes \n",
    "\n",
    "        * a current distribution of wealth values as w_distribution and\n",
    "        * an aggregate shock sequence z_sequence\n",
    "\n",
    "    and updates each w_t in w_distribution to w_{t+j}, where\n",
    "    j = len(z_sequence).\n",
    "\n",
    "    Returns the new distribution.\n",
    "\n",
    "    \"\"\"\n",
    "    # Unpack, simplify names\n",
    "    household_params, aggregate_params = model\n",
    "    w_hat, s_0, c_y, μ_y, σ_y, c_r, μ_r, σ_r, y_mean = household_params\n",
    "    w = w_distribution\n",
    "    n = len(w)\n",
    "    z = z_sequence\n",
    "    sim_length = len(z)\n",
    "\n",
    "    def body_function(t, state):\n",
    "        key, w = state\n",
    "        key, subkey = jax.random.split(key)\n",
    "        U = jax.random.normal(subkey, (2, n))\n",
    "        y = c_y * jnp.exp(z[t]) + jnp.exp(μ_y + σ_y * U[0, :])\n",
    "        R = c_r * jnp.exp(z[t]) + jnp.exp(μ_r + σ_r * U[1, :])\n",
    "        w = y + jnp.where(w < w_hat, 0.0, R * s_0 * w) \n",
    "        return key, w\n",
    "\n",
    "    key, w = jax.lax.fori_loop(0, sim_length, body_function, (key, w))\n",
    "    return w"
   ]
  },
  {
   "cell_type": "code",
   "execution_count": null,
   "id": "ac0e6020",
   "metadata": {},
   "outputs": [],
   "source": [
    "update_cross_section_jax_compiled = jax.jit(\n",
    "        update_cross_section_jax_compiled, static_argnums=(2,)\n",
    ")"
   ]
  },
  {
   "cell_type": "code",
   "execution_count": null,
   "id": "ce4826db",
   "metadata": {},
   "outputs": [],
   "source": [
    "print(\"Generating cross-section using JAX with compiled loop\")\n",
    "key = jax.random.PRNGKey(1234)\n",
    "start_time = time()\n",
    "ψ_star = update_cross_section_jax_compiled(\n",
    "        model, ψ_0, num_households, z_sequence, key\n",
    ")\n",
    "jax_fori_time = time() - start_time\n",
    "print(f\"Generated cross-section in {jax_fori_time} seconds.\\n\")"
   ]
  },
  {
   "cell_type": "code",
   "execution_count": null,
   "id": "508f9358",
   "metadata": {},
   "outputs": [],
   "source": [
    "print(\"Repeating without compile time\")\n",
    "key = jax.random.PRNGKey(1234)\n",
    "start_time = time()\n",
    "ψ_star = update_cross_section_jax_compiled(\n",
    "        model, ψ_0, num_households, z_sequence, key\n",
    ")\n",
    "jax_fori_time = time() - start_time\n",
    "print(f\"Generated cross-section in {jax_fori_time} seconds\")"
   ]
  },
  {
   "cell_type": "code",
   "execution_count": null,
   "id": "e73cfcd6",
   "metadata": {},
   "outputs": [],
   "source": [
    "print(f\"JAX is {numba_time / jax_fori_time:.4f} times faster.\\n\")"
   ]
  },
  {
   "cell_type": "markdown",
   "id": "77a13af2",
   "metadata": {},
   "source": [
    "### Pareto tails\n",
    "\n",
    "In most countries, the cross-sectional distribution of wealth exhibits a Pareto\n",
    "tail (power law).\n",
    "\n",
    "\n",
    "Let's see if our model can replicate this stylized fact by running a simulation\n",
    "that generates a cross-section of wealth and generating a suitable rank-size plot.\n",
    "\n",
    "We will use the function `rank_size` from `quantecon` library.\n",
    "\n",
    "In the limit, data that obeys a power law generates a straight line."
   ]
  },
  {
   "cell_type": "code",
   "execution_count": null,
   "id": "da582194",
   "metadata": {},
   "outputs": [],
   "source": [
    "model = create_wealth_model()\n",
    "key = jax.random.PRNGKey(1234)\n",
    "ψ_star = update_cross_section_jax_compiled(\n",
    "        model, ψ_0, num_households, z_sequence, key\n",
    ")\n",
    "fig, ax = plt.subplots()\n",
    "\n",
    "rank_data, size_data = qe.rank_size(ψ_star, c=0.001)\n",
    "ax.loglog(rank_data, size_data, 'o', markersize=3.0, alpha=0.5)\n",
    "ax.set_xlabel(\"log rank\")\n",
    "ax.set_ylabel(\"log size\")\n",
    "\n",
    "plt.show()"
   ]
  },
  {
   "cell_type": "markdown",
   "id": "174a8e19",
   "metadata": {},
   "source": [
    "### Lorenz curves and Gini coefficents\n",
    "\n",
    "To study the impact of parameters on inequality, we examine Lorenz curves\n",
    "and the Gini coefficients at different parameters.\n",
    "\n",
    "QuantEcon provides functions to compute Lorenz curves and gini coefficients that are accelerated using Numba.\n",
    "\n",
    "Here we provide JAX-based functions that do the same job and are faster for large data sets on parallel hardware.\n",
    "\n",
    "\n",
    "#### Lorenz curve\n",
    "\n",
    "Recall that, for sorted data $w_1, \\ldots, w_n$, the Lorenz curve \n",
    "generates data points $(x_i, y_i)_{i=0}^n$  according to\n",
    "\n",
    "\\begin{equation*}\n",
    "    x_0 = y_0 = 0\n",
    "    \\qquad \\text{and, for $i \\geq 1$,} \\quad\n",
    "    x_i = \\frac{i}{n},\n",
    "    \\qquad\n",
    "    y_i =\n",
    "       \\frac{\\sum_{j \\leq i} w_j}{\\sum_{j \\leq n} w_j}  \n",
    "\\end{equation*}"
   ]
  },
  {
   "cell_type": "code",
   "execution_count": null,
   "id": "6ab8e3f2",
   "metadata": {},
   "outputs": [],
   "source": [
    "def _lorenz_curve_jax(w, w_size):\n",
    "    n = w.shape[0]\n",
    "    w = jnp.sort(w)\n",
    "    x = jnp.arange(n + 1) / n\n",
    "    s = jnp.concatenate((jnp.zeros(1), jnp.cumsum(w)))\n",
    "    y = s / s[n]\n",
    "    return x, y\n",
    "\n",
    "lorenz_curve_jax = jax.jit(_lorenz_curve_jax, static_argnums=(1,))"
   ]
  },
  {
   "cell_type": "markdown",
   "id": "0ef917e6",
   "metadata": {},
   "source": [
    "Let's test"
   ]
  },
  {
   "cell_type": "code",
   "execution_count": null,
   "id": "ad2ae495",
   "metadata": {},
   "outputs": [],
   "source": [
    "sim_length = 200\n",
    "num_households = 1_000_000\n",
    "ψ_0 = jnp.full(num_households, y_mean)  # Initial distribution\n",
    "z_sequence = generate_aggregate_state_sequence(aggregate_params,\n",
    "                                               length=sim_length)\n",
    "z_sequence = jnp.array(z_sequence)"
   ]
  },
  {
   "cell_type": "code",
   "execution_count": null,
   "id": "40fb476c",
   "metadata": {},
   "outputs": [],
   "source": [
    "key = jax.random.PRNGKey(1234)\n",
    "ψ_star = update_cross_section_jax_compiled(\n",
    "        model, ψ_0, num_households, z_sequence, key\n",
    ")"
   ]
  },
  {
   "cell_type": "code",
   "execution_count": null,
   "id": "d7f0b6ce",
   "metadata": {},
   "outputs": [],
   "source": [
    "%time _ = lorenz_curve_jax(ψ_star, num_households)"
   ]
  },
  {
   "cell_type": "code",
   "execution_count": null,
   "id": "1a4f294c",
   "metadata": {},
   "outputs": [],
   "source": [
    "%time x, y = lorenz_curve_jax(ψ_star, num_households)"
   ]
  },
  {
   "cell_type": "code",
   "execution_count": null,
   "id": "fd0198ac",
   "metadata": {},
   "outputs": [],
   "source": [
    "fig, ax = plt.subplots()\n",
    "ax.plot(x, y, label=\"Lorenz curve at defaults\")\n",
    "ax.plot(x, x, 'k-', lw=1)\n",
    "ax.legend()\n",
    "plt.show()"
   ]
  },
  {
   "cell_type": "markdown",
   "id": "bbe888a6",
   "metadata": {},
   "source": [
    "#### Gini Coefficient"
   ]
  },
  {
   "cell_type": "markdown",
   "id": "676d9ef5",
   "metadata": {},
   "source": [
    "Recall that, for sorted data $w_1, \\ldots, w_n$, the Gini coefficient takes the form\n",
    "\n",
    "\\begin{equation}\n",
    "    \\label{eq:gini}\n",
    "    G :=\n",
    "    \\frac\n",
    "        {\\sum_{i=1}^n \\sum_{j = 1}^n |w_j - w_i|}\n",
    "        {2n\\sum_{i=1}^n w_i}.\n",
    "\\end{equation}\n",
    "\n",
    "\n",
    "Here's a function that computes the Gini coefficient using vectorization."
   ]
  },
  {
   "cell_type": "code",
   "execution_count": null,
   "id": "e9d075b7",
   "metadata": {},
   "outputs": [],
   "source": [
    "def _gini_jax(w, w_size):\n",
    "    w_1 = jnp.reshape(w, (w_size, 1))\n",
    "    w_2 = jnp.reshape(w, (1, w_size))\n",
    "    g_sum = jnp.sum(jnp.abs(w_1 - w_2))\n",
    "    return g_sum / (2 * w_size * jnp.sum(w))\n",
    "\n",
    "gini_jax = jax.jit(_gini_jax, static_argnums=(1,))"
   ]
  },
  {
   "cell_type": "code",
   "execution_count": null,
   "id": "9760bdcd",
   "metadata": {},
   "outputs": [],
   "source": [
    "%time gini = gini_jax(ψ_star, num_households).block_until_ready()"
   ]
  },
  {
   "cell_type": "code",
   "execution_count": null,
   "id": "ae8a6b9e",
   "metadata": {},
   "outputs": [],
   "source": [
    "%time gini = gini_jax(ψ_star, num_households).block_until_ready()\n",
    "gini"
   ]
  },
  {
   "cell_type": "markdown",
   "id": "6cf96c59",
   "metadata": {},
   "source": [
    "**Exercise**\n",
    "\n",
    "See if you can write an alternative version of `gini_jax` that uses `vmap` instead of reshaping and broadcasting.\n",
    "\n",
    "Test with the same array to see if you can obtain the same output."
   ]
  },
  {
   "cell_type": "code",
   "execution_count": null,
   "id": "c2a5bb0f",
   "metadata": {},
   "outputs": [],
   "source": [
    "for i in range(12):\n",
    "    print(\"Solution below.\")"
   ]
  },
  {
   "cell_type": "markdown",
   "id": "b48b1dc0",
   "metadata": {},
   "source": [
    "**Solution**"
   ]
  },
  {
   "cell_type": "markdown",
   "id": "e187b4d8",
   "metadata": {},
   "source": [
    "Here's one solution:"
   ]
  },
  {
   "cell_type": "code",
   "execution_count": null,
   "id": "3a72dc53",
   "metadata": {},
   "outputs": [],
   "source": [
    "@jax.jit\n",
    "def gini_jax_vmap(w):\n",
    "\n",
    "    def _inner_sum(x):\n",
    "        return jnp.sum(jnp.abs(x - w))\n",
    "    \n",
    "    inner_sum = jax.vmap(_inner_sum)\n",
    "    \n",
    "    full_sum = jnp.sum(inner_sum(w))\n",
    "    return full_sum / (2 * len(w) * jnp.sum(w))"
   ]
  },
  {
   "cell_type": "code",
   "execution_count": null,
   "id": "d2c2ea94",
   "metadata": {},
   "outputs": [],
   "source": [
    "%time gini = gini_jax_vmap(ψ_star).block_until_ready()\n",
    "gini"
   ]
  },
  {
   "cell_type": "code",
   "execution_count": null,
   "id": "8ebeda34",
   "metadata": {},
   "outputs": [],
   "source": [
    "%time gini = gini_jax_vmap(ψ_star).block_until_ready()\n",
    "gini"
   ]
  },
  {
   "cell_type": "markdown",
   "id": "018d8f1b",
   "metadata": {},
   "source": [
    "### Inequality and dynamics\n",
    "\n",
    "In this section we (you) investigate how the parameters determining the rate of return on assets and labor income shape inequality.\n",
    "\n",
    "In doing so we recall that\n",
    "\n",
    "$$\n",
    "    R_t := 1 + r_t = c_r \\exp(z_t) + \\exp(\\mu_r + \\sigma_r \\xi_t)\n",
    "$$\n",
    "\n",
    "while\n",
    "\n",
    "$$\n",
    "    y_t = c_y \\exp(z_t) + \\exp(\\mu_y + \\sigma_y \\zeta_t)\n",
    "$$"
   ]
  },
  {
   "cell_type": "markdown",
   "id": "a072210b",
   "metadata": {},
   "source": [
    "**Exercise**\n",
    "\n",
    "Investigate how the Lorenz curves and the Gini coefficient associated with the wealth distribution change as return to savings varies.\n",
    "\n",
    "In particular, plot Lorenz curves for the following three different values of $\\mu_r$."
   ]
  },
  {
   "cell_type": "code",
   "execution_count": null,
   "id": "a88a28f8",
   "metadata": {},
   "outputs": [],
   "source": [
    "μ_r_vals = (0.0, 0.025, 0.05)"
   ]
  },
  {
   "cell_type": "markdown",
   "id": "ff5ad788",
   "metadata": {},
   "source": [
    "Youse the following as your initial cross-sectional distribution"
   ]
  },
  {
   "cell_type": "code",
   "execution_count": null,
   "id": "f74a3be6",
   "metadata": {},
   "outputs": [],
   "source": [
    "num_households = 1_000_000\n",
    "ψ_0 = jnp.full(num_households, y_mean)  # Initial distribution"
   ]
  },
  {
   "cell_type": "markdown",
   "id": "d6795f20",
   "metadata": {},
   "source": [
    "Once you have done that, plot the Gini coefficients as well.\n",
    "\n",
    "Do the outcomes match your intuition?"
   ]
  },
  {
   "cell_type": "code",
   "execution_count": null,
   "id": "99ee4da2",
   "metadata": {},
   "outputs": [],
   "source": [
    "for i in range(12):\n",
    "    print(\"Solution below.\")"
   ]
  },
  {
   "cell_type": "markdown",
   "id": "adc8b311",
   "metadata": {},
   "source": [
    "**Solution**"
   ]
  },
  {
   "cell_type": "code",
   "execution_count": null,
   "id": "76c2aa82",
   "metadata": {},
   "outputs": [],
   "source": [
    "key = jax.random.PRNGKey(1234)\n",
    "fig, ax = plt.subplots()\n",
    "gini_vals = []\n",
    "for μ_r in μ_r_vals:\n",
    "    model = create_wealth_model(μ_r=μ_r)\n",
    "    ψ_star = update_cross_section_jax_compiled(\n",
    "            model, ψ_0, num_households, z_sequence, key\n",
    "    )\n",
    "    x, y = lorenz_curve_jax(ψ_star, num_households)\n",
    "    g = gini_jax(ψ_star, num_households)\n",
    "    ax.plot(x, y, label=f'$\\psi^*$ at $\\mu_r = {μ_r:0.2}$')\n",
    "    gini_vals.append(g)\n",
    "ax.plot(x, y, label='equality')\n",
    "ax.legend(loc=\"upper left\")\n",
    "plt.show()"
   ]
  },
  {
   "cell_type": "markdown",
   "id": "58684d07",
   "metadata": {},
   "source": [
    "The Lorenz curve shifts downwards as returns on financial income rise, indicating a rise in inequality.\n",
    "\n",
    "Now let's check the Gini coefficient."
   ]
  },
  {
   "cell_type": "code",
   "execution_count": null,
   "id": "b6a25a00",
   "metadata": {},
   "outputs": [],
   "source": [
    "fig, ax = plt.subplots()\n",
    "ax.plot(μ_r_vals, gini_vals, label='gini coefficient')\n",
    "ax.set_xlabel(\"$\\mu_r$\")\n",
    "ax.legend()\n",
    "plt.show()"
   ]
  },
  {
   "cell_type": "markdown",
   "id": "6d3e19c7",
   "metadata": {},
   "source": [
    "As expected, inequality increases as returns on financial income rise.\n",
    "\n",
    "**Exercise**\n",
    "\n",
    "Now investigate what happens when we change the volatility term $\\sigma_r$ in financial returns.\n",
    "\n",
    "Use the same initial condition as before and the sequence"
   ]
  },
  {
   "cell_type": "code",
   "execution_count": null,
   "id": "535efcdc",
   "metadata": {},
   "outputs": [],
   "source": [
    "σ_r_vals = (0.35, 0.45, 0.52)"
   ]
  },
  {
   "cell_type": "markdown",
   "id": "86b3fb9f",
   "metadata": {},
   "source": [
    "To isolate the role of volatility, set $\\mu_r = - \\sigma_r^2 / 2$ at each $\\sigma_r$.\n",
    "\n",
    "(This holds the variance of the ideosyncratic term $\\exp(\\mu_r + \\sigma_r \\zeta)$ constant.)"
   ]
  },
  {
   "cell_type": "code",
   "execution_count": null,
   "id": "7b7c28e8",
   "metadata": {},
   "outputs": [],
   "source": [
    "for i in range(12):\n",
    "    print(\"Solution below\")"
   ]
  },
  {
   "cell_type": "markdown",
   "id": "88870103",
   "metadata": {},
   "source": [
    "Here's one solution."
   ]
  },
  {
   "cell_type": "code",
   "execution_count": null,
   "id": "12ee9ecc",
   "metadata": {},
   "outputs": [],
   "source": [
    "key = jax.random.PRNGKey(1234)\n",
    "fig, ax = plt.subplots()\n",
    "\n",
    "gini_vals = []\n",
    "for σ_r in σ_r_vals:\n",
    "    model = create_wealth_model(σ_r=σ_r, μ_r=(-σ_r**2/2))\n",
    "    ψ_star = update_cross_section_jax_compiled(\n",
    "            model, ψ_0, num_households, z_sequence, key\n",
    "    )\n",
    "    x, y = lorenz_curve_jax(ψ_star, num_households)\n",
    "    g = gini_jax(ψ_star, num_households)\n",
    "    ax.plot(x, y, label=f'$\\psi^*$ at $\\sigma_r = {σ_r:0.2}$')\n",
    "    gini_vals.append(g)\n",
    "ax.plot(x, y, label='equality')\n",
    "ax.legend(loc=\"upper left\")\n",
    "plt.show()"
   ]
  },
  {
   "cell_type": "code",
   "execution_count": null,
   "id": "14f534d7",
   "metadata": {},
   "outputs": [],
   "source": [
    "fig, ax = plt.subplots()\n",
    "ax.plot(σ_r_vals, gini_vals, label='gini coefficient')\n",
    "ax.set_xlabel(\"$\\sigma_r$\")\n",
    "ax.legend()\n",
    "plt.show()"
   ]
  },
  {
   "cell_type": "markdown",
   "id": "05a9b0a8",
   "metadata": {},
   "source": [
    "**Exercise**\n",
    "\n",
    "Which will have more impact on inequality -- a 5% rise in volatility of the rate of return, or a 5% rise in volatility of labor income?\n",
    "\n",
    "Test this by \n",
    "\n",
    "1. Shifting $\\sigma_r$ up 5% from the baseline and plotting the Lorenz curve\n",
    "1. Shifting $\\sigma_y$ up 5% from the baseline and plotting the Lorenz curve\n",
    "\n",
    "Plot both on the same figure and examine the result."
   ]
  },
  {
   "cell_type": "code",
   "execution_count": null,
   "id": "b99ea713",
   "metadata": {},
   "outputs": [],
   "source": [
    "for i in range(12):\n",
    "    print(\"Solution below\")"
   ]
  },
  {
   "cell_type": "markdown",
   "id": "c59b7836",
   "metadata": {},
   "source": [
    "**Solution**\n",
    "\n",
    "Here's one solution.\n",
    "\n",
    "It shows that increasing volatility in financial income has the greater effect."
   ]
  },
  {
   "cell_type": "code",
   "execution_count": null,
   "id": "a86570b8",
   "metadata": {},
   "outputs": [],
   "source": [
    "model = create_wealth_model()\n",
    "household_params, aggregate_params = model\n",
    "w_hat, s_0, c_y, μ_y, σ_y, c_r, μ_r, σ_r, y_mean = household_params\n",
    "σ_r_default = σ_r\n",
    "σ_y_default = σ_y\n",
    "\n",
    "ψ_star = update_cross_section_jax_compiled(\n",
    "            model, ψ_0, num_households, z_sequence, key\n",
    ")\n",
    "x_default, y_default = lorenz_curve_jax(ψ_star, num_households)\n",
    "\n",
    "model = create_wealth_model(σ_r=(1.05 * σ_r_default))\n",
    "ψ_star = update_cross_section_jax_compiled(\n",
    "            model, ψ_0, num_households, z_sequence, key\n",
    ")\n",
    "x_financial, y_financial = lorenz_curve_jax(ψ_star, num_households)\n",
    "\n",
    "\n",
    "model = create_wealth_model(σ_y=(1.05 * σ_y_default))\n",
    "ψ_star = update_cross_section_jax_compiled(\n",
    "            model, ψ_0, num_households, z_sequence, key\n",
    ")\n",
    "x_labor, y_labor = lorenz_curve_jax(ψ_star, num_households)\n",
    "\n",
    "fig, ax = plt.subplots()    \n",
    "ax.plot(x_default, x_default, 'k-', lw=1, label='equality')\n",
    "ax.plot(x_financial, y_financial, label=r'higher $\\sigma_r$')\n",
    "ax.plot(x_labor, y_labor, label=r'higher $\\sigma_y$')\n",
    "ax.legend()\n",
    "plt.show()"
   ]
  },
  {
   "cell_type": "code",
   "execution_count": null,
   "id": "6115e6b4",
   "metadata": {},
   "outputs": [],
   "source": []
  }
 ],
 "metadata": {
  "kernelspec": {
   "display_name": "Python 3 (ipykernel)",
   "language": "python",
   "name": "python3"
  }
 },
 "nbformat": 4,
 "nbformat_minor": 5
}
