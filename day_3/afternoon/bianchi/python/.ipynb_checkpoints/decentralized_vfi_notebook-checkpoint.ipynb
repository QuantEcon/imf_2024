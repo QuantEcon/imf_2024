{
 "cells": [
  {
   "cell_type": "markdown",
   "id": "846423d1",
   "metadata": {},
   "source": [
    "\n",
    "```{code-cell}\n",
    "\n",
    "```\n",
    "\n",
    "```{code-cell}\n",
    "model = create_overborrowing_model()\n",
    "σ, η, β, ω, κ, R, b_grid, y_nodes, b_size, y_size, Q = model\n",
    "#H = solve_for_equilibrium(model)\n",
    "```\n",
    "\n",
    "```{code-cell}\n",
    "fig, ax = plt.subplots()\n",
    "for i_y in range(y_size): \n",
    "    ax.plot(b_grid, H[:, i_y])\n",
    "plt.show()\n",
    "```\n",
    "\n",
    "```{code-cell}\n",
    "i_y=4\n",
    "y_t, y_n = y_nodes[i_y]\n",
    "b_bind = []   # Bp must be greater than constraint\n",
    "b_max  = []   # Bp must be less than this value to get c >= 0\n",
    "for i_B, B in enumerate(b_grid):\n",
    "    Bp = H[i_B, i_y]\n",
    "    C = R * B + y_t - Bp\n",
    "    P = ((1 - ω) / ω) * (C / y_n)**(η + 1)\n",
    "    b_bind.append(- κ * (P * y_n + y_t))\n",
    "    b_max.append(R * B + y_t)\n",
    "```\n",
    "\n",
    "```{code-cell}\n",
    "fig, ax = plt.subplots()\n",
    "ax.plot(b_grid, b_grid, '--', label='45')\n",
    "ax.plot(b_grid, H[:, i_y], label='policy')\n",
    "ax.plot(b_grid, b_bind, label='constraint')\n",
    "ax.plot(b_grid, b_max, label='max assets')\n",
    "ax.legend()\n",
    "plt.show()\n",
    "```\n",
    "\n",
    "```{code-cell}\n",
    "\n",
    "```"
   ]
  }
 ],
 "metadata": {
  "jupytext": {
   "cell_metadata_filter": "-all",
   "main_language": "python",
   "notebook_metadata_filter": "-all"
  }
 },
 "nbformat": 4,
 "nbformat_minor": 5
}
